{
 "cells": [
  {
   "cell_type": "markdown",
   "metadata": {},
   "source": [
    "# Analyse des données textuelles\n",
    "\n",
    "À partir des données l'application [Yelp](https://www.yelp.fr), traiter les sujets d'insatisfaction dans les commentaires client.\n",
    "\n",
    "**Analyser les commentaires pour détecter les différents sujets d’insatisfaction**\n",
    " - pré-traitement des données textuelles\n",
    " - utilisation de techniques de réduction de dimension\n",
    " - visualisation des données de grandes dimensions\n",
    "\n",
    "**Collecter un échantillon (environ 200 restaurants) de données via l’API Yelp**\n",
    " - récupérer uniquement les champs nécessaires\n",
    " - stocker les résultats dans un fichier exploitable (par exemple csv)\n",
    " \n",
    " \n",
    "Cette deuxième partie concerne le modèle **K-means** afin de trouver le nombre et le genre des sujets d'insatisfaction.\n",
    "\n"
   ]
  },
  {
   "cell_type": "markdown",
   "metadata": {},
   "source": [
    "## K-means\n",
    "**K-means** est un algorithme non supervisé de clustering non hiérarchique. Il permet de regrouper en K clusters distincts les observations du data set. Ainsi les données similaires se retrouveront  dans un même cluster. Par ailleurs, une observation ne peut se retrouver que dans un cluster à la fois (exclusivité d’appartenance). Une même observation, ne pourra donc, appartenir à deux clusters différents.\n",
    "\n",
    "Nous allons utiliser les mêmes données mais au lieu de créer un corpus, nous allons créer des vecteurs pour chaque commentaires.\n",
    "\n",
    "Pour estimer le nombre de topics nous allons utiliser l'inertie, qui est définie comme la somme des distances euclidiennes entre chaque point et son centroïde associé. Nous utiliserons aussi le score de silhouette qui est la différence entre la distance moyenne avec les points du même groupe que lui et la distance moyenne avec les points des autres groupes voisins."
   ]
  },
  {
   "cell_type": "markdown",
   "metadata": {},
   "source": [
    "# Chargement des bibliothèques"
   ]
  },
  {
   "cell_type": "code",
   "execution_count": 1,
   "metadata": {},
   "outputs": [],
   "source": [
    "import numpy as np\n",
    "import pandas as pd\n",
    "\n",
    "import progressbar\n",
    "\n",
    "from sklearn import metrics\n",
    "from sklearn.feature_extraction.text import TfidfVectorizer\n",
    "from sklearn.cluster import MiniBatchKMeans\n",
    "\n",
    "import pickle\n",
    "\n",
    "import matplotlib.pyplot as plt\n",
    "%matplotlib inline\n",
    "from IPython.display import Markdown, Latex"
   ]
  },
  {
   "cell_type": "code",
   "execution_count": 2,
   "metadata": {},
   "outputs": [],
   "source": [
    "# Nécessaire lors de la phase de développement pour mettre à jour la classe olist dans le notebook\n",
    "%load_ext autoreload\n",
    "%autoreload 2"
   ]
  },
  {
   "cell_type": "code",
   "execution_count": 3,
   "metadata": {},
   "outputs": [],
   "source": [
    "import warnings\n",
    "warnings.filterwarnings(\"ignore\", category=DeprecationWarning)"
   ]
  },
  {
   "cell_type": "code",
   "execution_count": 4,
   "metadata": {},
   "outputs": [],
   "source": [
    "data_dir = '../data/'"
   ]
  },
  {
   "cell_type": "markdown",
   "metadata": {},
   "source": [
    "# Entrainement du modèle"
   ]
  },
  {
   "cell_type": "markdown",
   "metadata": {},
   "source": [
    "## Chargement des données précédement traitées"
   ]
  },
  {
   "cell_type": "code",
   "execution_count": 5,
   "metadata": {},
   "outputs": [],
   "source": [
    "df = pd.read_csv(data_dir + 'train_reviews.csv')\n",
    "test = pd.read_csv(data_dir + 'test_reviews.csv')"
   ]
  },
  {
   "cell_type": "markdown",
   "metadata": {},
   "source": [
    "## Création du corpus"
   ]
  },
  {
   "cell_type": "code",
   "execution_count": 6,
   "metadata": {},
   "outputs": [],
   "source": [
    "tf_idf = TfidfVectorizer()\n",
    "tf_idf_data = tf_idf.fit_transform(df['clean_text'])\n",
    "pickle.dump(tf_idf, open(\"models/TfidfVectorizer.pkl\", \"wb\"))"
   ]
  },
  {
   "cell_type": "markdown",
   "metadata": {},
   "source": [
    "## Recherche du nombre de topics\n",
    "Pour la recherche du nombre optimale de topics, nous allons utiliser le coefficient de silhoutte et l'inertie.\n",
    "\n",
    "Le **coefficient de Silhouette** vérifie si chaque document a bien été classé. Un document est bien classé si la distance qui le sépare de la classe la plus proche est très supérieure à celle qui le sépare de sa classe.\n",
    "\n",
    "\n",
    "La mesure d'**inertie** est la distance par rapport au point représentant la classe.Par  conséquent,  une  valeur  faible  de  l’inertie intra-classes décrit une homogénéité des données à l’intérieur des classes. Plus la valeur sera faible meilleur sera la segmentation"
   ]
  },
  {
   "cell_type": "code",
   "execution_count": 7,
   "metadata": {},
   "outputs": [],
   "source": [
    "# Initialisation\n",
    "inertia = []\n",
    "scores = []"
   ]
  },
  {
   "cell_type": "code",
   "execution_count": 8,
   "metadata": {},
   "outputs": [
    {
     "name": "stdout",
     "output_type": "stream",
     "text": [
      "Cluster 2: Silhouette score 0.0050, inertie : 57503.5300\n",
      "Cluster 5: Silhouette score 0.0043, inertie : 57182.1862\n",
      "Cluster 8: Silhouette score 0.0025, inertie : 56936.2023\n",
      "Cluster 11: Silhouette score 0.0074, inertie : 56509.1246\n",
      "Cluster 14: Silhouette score -0.0289, inertie : 56730.9451\n",
      "Cluster 17: Silhouette score -0.0321, inertie : 56583.4624\n"
     ]
    }
   ],
   "source": [
    "for num_topics in range(2, 20, 3):    \n",
    "    kmeans = MiniBatchKMeans(n_clusters=num_topics, init='k-means++', random_state=63, max_iter=300, n_init=100)               \n",
    "    kmeans .fit(tf_idf_data)\n",
    "    inertia.append(kmeans.inertia_)\n",
    "    labels = kmeans.labels_\n",
    "    score = metrics.silhouette_score(tf_idf_data, labels, metric='cosine')\n",
    "    scores.append(score)\n",
    "    print(f\"Cluster {num_topics}: Silhouette score {score:.4f}, inertie : {kmeans.inertia_:.4f}\")                            "
   ]
  },
  {
   "cell_type": "code",
   "execution_count": 9,
   "metadata": {},
   "outputs": [
    {
     "data": {
      "text/plain": [
       "Text(0.5, 1.0, 'Estimation du nombre de clusters avec inertie')"
      ]
     },
     "execution_count": 9,
     "metadata": {},
     "output_type": "execute_result"
    },
    {
     "data": {
      "image/png": "[encoded data removed]",
      "text/plain": [
       "<Figure size 432x288 with 1 Axes>"
      ]
     },
     "metadata": {
      "needs_background": "light"
     },
     "output_type": "display_data"
    }
   ],
   "source": [
    "f, ax = plt.subplots(1, 1)\n",
    "ax.plot(range(2, 20, 3), inertia, marker='o')\n",
    "ax.set_xlabel('Nombre de clusters')\n",
    "ax.set_xticks(range(2, 20, 3))\n",
    "ax.set_xticklabels(range(2, 20, 3))\n",
    "ax.set_ylabel('Inertia')\n",
    "ax.set_title('Estimation du nombre de clusters avec inertie')"
   ]
  },
  {
   "cell_type": "code",
   "execution_count": 10,
   "metadata": {},
   "outputs": [
    {
     "data": {
      "text/plain": [
       "Text(0.5, 1.0, 'Estimation du nombre de clusters avec le coefficient de silhouette')"
      ]
     },
     "execution_count": 10,
     "metadata": {},
     "output_type": "execute_result"
    },
    {
     "data": {
      "image/png": "[encoded data removed]",
      "text/plain": [
       "<Figure size 432x288 with 1 Axes>"
      ]
     },
     "metadata": {
      "needs_background": "light"
     },
     "output_type": "display_data"
    }
   ],
   "source": [
    "f, ax = plt.subplots(1, 1)\n",
    "ax.plot(range(2, 20, 3), scores, marker='o')\n",
    "ax.set_xlabel('Nombre de clusters')\n",
    "ax.set_xticks(range(2, 20, 3))\n",
    "ax.set_xticklabels(range(2, 20, 3))\n",
    "ax.set_ylabel('Coefficient silhouette')\n",
    "ax.set_title('Estimation du nombre de clusters avec le coefficient de silhouette')"
   ]
  },
  {
   "cell_type": "markdown",
   "metadata": {},
   "source": [
    "# Sélection du nombre de topics\n",
    "D'après le coefficient de silhoutte et le l'intertie le nombre de topics optimal est de 11."
   ]
  },
  {
   "cell_type": "code",
   "execution_count": 11,
   "metadata": {},
   "outputs": [],
   "source": [
    "num_topics = 11"
   ]
  },
  {
   "cell_type": "code",
   "execution_count": 12,
   "metadata": {},
   "outputs": [],
   "source": [
    "kmeans = MiniBatchKMeans(n_clusters=num_topics, init='k-means++', random_state=63, max_iter=300, n_init=100)               \n",
    "kmeans .fit(tf_idf_data)\n",
    "pickle.dump(kmeans, open(\"models/kmeans.pkl\", \"wb\"))"
   ]
  },
  {
   "cell_type": "markdown",
   "metadata": {},
   "source": [
    "# Explication des topics"
   ]
  },
  {
   "cell_type": "code",
   "execution_count": 13,
   "metadata": {},
   "outputs": [
    {
     "name": "stdout",
     "output_type": "stream",
     "text": [
      "Cluster 0\n",
      "\t['coffe', 'cup', 'place', 'breakfast', 'shop']\n",
      "Cluster 1\n",
      "\t['chicken', 'rice', 'order', 'fri', 'food']\n",
      "Cluster 2\n",
      "\t['bbq', 'rib', 'brisket', 'pork', 'sauc']\n",
      "Cluster 3\n",
      "\t['pizza', 'order', 'crust', 'chees', 'place']\n",
      "Cluster 4\n",
      "\t['taco', 'order', 'food', 'bell', 'mexican']\n",
      "Cluster 5\n",
      "\t['order', 'wait', 'call', 'time', 'minut']\n",
      "Cluster 6\n",
      "\t['burger', 'fri', 'order', 'food', 'good']\n",
      "Cluster 7\n",
      "\t['sandwich', 'order', 'bread', 'chees', 'good']\n",
      "Cluster 8\n",
      "\t['bar', 'bartend', 'drink', 'beer', 'servic']\n",
      "Cluster 9\n",
      "\t['food', 'place', 'good', 'servic', 'like']\n",
      "Cluster 10\n",
      "\t['us', 'tabl', 'food', 'wait', 'minut']\n"
     ]
    }
   ],
   "source": [
    "order_centroids = kmeans.cluster_centers_.argsort()[:, ::-1]\n",
    "words = tf_idf.get_feature_names()\n",
    "topics = {}\n",
    "for cluster in range(num_topics):\n",
    "    print(f\"Cluster {cluster}\")\n",
    "    w = []\n",
    "    for idx in order_centroids[cluster, :5]:\n",
    "        w.append(words[idx])\n",
    "    topics[cluster] = w\n",
    "    print(f\"\\t{w}\")"
   ]
  },
  {
   "cell_type": "markdown",
   "metadata": {},
   "source": [
    " **Service**\n",
    "\n",
    " - food, place, good, servic, like\n",
    " - bar, bartend, drink, beer, servic\n",
    "\n",
    "\n",
    "**Nourriture**\n",
    "\n",
    " - bbq, rib, brisket, pork, sauc\n",
    "\n",
    "**Commande**\n",
    "\n",
    " - burger, fri, order, food, good\n",
    " - sandwich, order, bread, chees, good\n",
    " - chicken, rice, order, fri, food\n",
    " - taco, order, food, bell, mexican\n",
    "\n",
    "**Emplacement**\n",
    "\n",
    " - coffe, cup, place, breakfast, shop\n",
    " - pizza, order, crust, chees, place\n",
    "\n",
    "\n",
    "**Attente**\n",
    "\n",
    " - us, tabl, food, wait, minut\n",
    " - order, wait, call, time, minu\n"
   ]
  },
  {
   "cell_type": "markdown",
   "metadata": {},
   "source": [
    "# Prédictions\n"
   ]
  },
  {
   "cell_type": "markdown",
   "metadata": {},
   "source": [
    "## Prédiction avec de données de test"
   ]
  },
  {
   "cell_type": "code",
   "execution_count": 14,
   "metadata": {
    "scrolled": false
   },
   "outputs": [
    {
     "data": {
      "text/markdown": [
       "**Topic 5 - ['food', 'go', 'service', 'get', 'place']**"
      ],
      "text/plain": [
       "<IPython.core.display.Markdown object>"
      ]
     },
     "metadata": {},
     "output_type": "display_data"
    },
    {
     "data": {
      "text/markdown": [
       "> Rude staff. Came today, walked in.... No one here ( now I understand why )... The Greeter ( of all people ) provided me this sub-par performance.  Me - as she is seating me outside,,, \"so do ya think it's gonna rain.\"  Greeter - \"I don't know, I don't work for the weather department\".   I'll never come back to this crappy."
      ],
      "text/plain": [
       "<IPython.core.display.Markdown object>"
      ]
     },
     "metadata": {},
     "output_type": "display_data"
    },
    {
     "data": {
      "text/markdown": [
       "**Topic 10 - ['coffee', 'get', 'tea', 'place', 'good']**"
      ],
      "text/plain": [
       "<IPython.core.display.Markdown object>"
      ]
     },
     "metadata": {},
     "output_type": "display_data"
    },
    {
     "data": {
      "text/markdown": [
       "> Bagels on point - no worries there. BUT cleanliness was seriously lacking. All pretty young people working here , while I was waiting for a new batch of coffee to brew, I was watching employees work and a couple of them whotou he's food had gloves on , but the barista/coffee dude literally was scratching his scalp and skin and then making drinks. Just NO. Floors were sticky. Bathroom was a mess. Self serve coffee bar had milk and sugar all over it. Just a hot mess. But like I said if you're here for bagels you're all good. Coffee... NOT their specialty. I could've assumed that. My bad."
      ],
      "text/plain": [
       "<IPython.core.display.Markdown object>"
      ]
     },
     "metadata": {},
     "output_type": "display_data"
    },
    {
     "data": {
      "text/markdown": [
       "**Topic 1 - ['taco', 'fish', 'chip', 'order', 'food']**"
      ],
      "text/plain": [
       "<IPython.core.display.Markdown object>"
      ]
     },
     "metadata": {},
     "output_type": "display_data"
    },
    {
     "data": {
      "text/markdown": [
       "> This place is Meh. Looking at the menu, it is very generic. I guess since it is a chain, not very authentic. Also the food is very bland with no flavor. I ordered black beans, they were basically just black beans out of the can that I could have eaten at home. And then they don't even offer complimentary chips and salsa??? Also the waitress got our order wrong, even after she repeated it to us. I just was not impressed. And I am sad, because its walking distance and I was really hoping for this to be my new spot. But oh well. Maybe you will have a better experience. But if I am craving some tex mex or tacos, I will not be coming here."
      ],
      "text/plain": [
       "<IPython.core.display.Markdown object>"
      ]
     },
     "metadata": {},
     "output_type": "display_data"
    },
    {
     "data": {
      "text/markdown": [
       "**Topic 5 - ['food', 'go', 'service', 'get', 'place']**"
      ],
      "text/plain": [
       "<IPython.core.display.Markdown object>"
      ]
     },
     "metadata": {},
     "output_type": "display_data"
    },
    {
     "data": {
      "text/markdown": [
       "> In a nutshell...warmed over food.    1, Luke warm, twice cooked crab legs that LOOKED as if they were on their second presentation.  A fresh claw was mixed in for proper deception. 2. Burnt and dried out baked potato....sent back. A fresh one was delivered much later. (NEVER received the requested sour cream).  3. Video music increased a whole decibel by the half hour to the point where conversation with friends was virtually impossible!   I doubted the place when the invitation was offered to join friends there for Girls Night. Unfortunately, my  expectations were confirmed. I left early. I found out later that my friends quickly followed suit.  A waste of money and time for ladies who simply wanted a crab legs - girls night out in OUR community."
      ],
      "text/plain": [
       "<IPython.core.display.Markdown object>"
      ]
     },
     "metadata": {},
     "output_type": "display_data"
    },
    {
     "data": {
      "text/markdown": [
       "**Topic 3 - ['chicken', 'rice', 'taste', 'order', 'sushi']**"
      ],
      "text/plain": [
       "<IPython.core.display.Markdown object>"
      ]
     },
     "metadata": {},
     "output_type": "display_data"
    },
    {
     "data": {
      "text/markdown": [
       "> It is trash there was a rat in my soup and it bit me and gave me ebola at least the chicken was good and the rat wasn't even cooked"
      ],
      "text/plain": [
       "<IPython.core.display.Markdown object>"
      ]
     },
     "metadata": {},
     "output_type": "display_data"
    },
    {
     "data": {
      "text/markdown": [
       "**Topic 0 - ['egg', 'breakfast', 'bacon', 'toast', 'order']**"
      ],
      "text/plain": [
       "<IPython.core.display.Markdown object>"
      ]
     },
     "metadata": {},
     "output_type": "display_data"
    },
    {
     "data": {
      "text/markdown": [
       "> I have been to this location twice now. The first time we experienced poor service, a dirty restaurant, and our food came out piece by piece over a course of 10 minutes. Yesterday I returned for carry out. My sausage biscuit breakfast was made using an uncooked English muffin. We arrived 20 minutes after ordering (they told us it'd be ready in 15) and still waited 10 minutes before receiving our meal.  As an ex-employee of Bob Evans and customer of many locations across the country, this has been the worst one I've seen. I do not recommend eating here.  There are a number of better breakfast options in the area such as Scottys just west on broad st.."
      ],
      "text/plain": [
       "<IPython.core.display.Markdown object>"
      ]
     },
     "metadata": {},
     "output_type": "display_data"
    },
    {
     "data": {
      "text/markdown": [
       "**Topic 8 - ['food', 'good', 'place', 'burger', 'price']**"
      ],
      "text/plain": [
       "<IPython.core.display.Markdown object>"
      ]
     },
     "metadata": {},
     "output_type": "display_data"
    },
    {
     "data": {
      "text/markdown": [
       "> BOO! We walked in before seeing a movie at the Hollywood theater. Place was empty. Wife got a beer. I ordered water. Look at the menu. I went for the \"stuffed\" burger. Wife got Fish n chips. Food took a while and the place filled up pretty quickly. My burger was way over cooked and not stuffed. laying one piece of bacon between two thin burger patties and pressing them together is not stuffed. The fish and chips were oily and heavy on the breading. wife pulled the fish out of the center and it was mostly fresh tasting.  Like I said, I orders water and the wife ordered a beer. After we got our food, the waitress never came back for refills.  I was dying. super dry burger, no water, and no waitress. Once we had been done eating for 10 minutes she wondered by with water and we got our check. 10 minutes later I went to the bar to pay my bill. I can't say I will ever find a reason to go back."
      ],
      "text/plain": [
       "<IPython.core.display.Markdown object>"
      ]
     },
     "metadata": {},
     "output_type": "display_data"
    },
    {
     "data": {
      "text/markdown": [
       "**Topic 2 - ['wait', 'minute', 'table', 'come', 'get']**"
      ],
      "text/plain": [
       "<IPython.core.display.Markdown object>"
      ]
     },
     "metadata": {},
     "output_type": "display_data"
    },
    {
     "data": {
      "text/markdown": [
       "> Had a great experience before so for a special occasion I wanted to try again. Requested a specific area to sit and was seated there immediately. The server said they were running behind and asked for our patience. No problem as we were not in a hurry. Ordered calamari as appetizer which was great but took 40 minutes to get. 50 minutes later our meal came. It was obvious that the meals had been placed under the warming lights for some time. The lobster tail was dry on the top and so was the steak. This did not make sense that the meal was under the heating lights at all if they were running behind.  Can't honestly say it was the server or the restaurant. We ate and the meals were tasty but not up to our expectations nor even close to our previous experience. Asked the server to speak to the manger about our experience and what seemed to be excessive fat in the prime rib........we left because the manager did not come to the table and  over 2 hours of this dining experience was enough. I will try them again only because my first experience was so great."
      ],
      "text/plain": [
       "<IPython.core.display.Markdown object>"
      ]
     },
     "metadata": {},
     "output_type": "display_data"
    },
    {
     "data": {
      "text/markdown": [
       "**Topic 5 - ['food', 'go', 'service', 'get', 'place']**"
      ],
      "text/plain": [
       "<IPython.core.display.Markdown object>"
      ]
     },
     "metadata": {},
     "output_type": "display_data"
    },
    {
     "data": {
      "text/markdown": [
       "> We are from our of town so our first time in. Bartender was not friendly, didn't explain or care to inform us of some of the local beers on tap. Nice place to bad we had horrible experience here. Go to other places in area besides this place when visiting Vancouver, Washington."
      ],
      "text/plain": [
       "<IPython.core.display.Markdown object>"
      ]
     },
     "metadata": {},
     "output_type": "display_data"
    },
    {
     "data": {
      "text/markdown": [
       "**Topic 8 - ['food', 'good', 'place', 'burger', 'price']**"
      ],
      "text/plain": [
       "<IPython.core.display.Markdown object>"
      ]
     },
     "metadata": {},
     "output_type": "display_data"
    },
    {
     "data": {
      "text/markdown": [
       "> Used to really like this place but the food seems more and more bland. Maybe because the menu has not changed since the 20th century. One plus of this place was that it was a BYOB. No more. Now if you want to have a beer with dinner you have a choice of Bud and Bud Light. BORING. At least the beer is consistent with the menu. One less reason to go to Mario's."
      ],
      "text/plain": [
       "<IPython.core.display.Markdown object>"
      ]
     },
     "metadata": {},
     "output_type": "display_data"
    }
   ],
   "source": [
    "new_data_vectorized = tf_idf.transform(test['clean_text'])\n",
    "test['kmeans_pred'] = pd.Series(kmeans.predict(new_data_vectorized),  index=test.index)\n",
    "\n",
    "for index, row in test.iterrows():        \n",
    "    display(Markdown(f\"**Topic {row['kmeans_pred']} - {topics[row['kmeans_pred']]}**\"))\n",
    "    display(Markdown(f\"> {row['text']}\"))    "
   ]
  },
  {
   "cell_type": "markdown",
   "metadata": {},
   "source": [
    "## Prédiction avec de nouvelles données en provenance de l'API Yelp"
   ]
  },
  {
   "cell_type": "markdown",
   "metadata": {},
   "source": [
    "## Chargement des données"
   ]
  },
  {
   "cell_type": "code",
   "execution_count": 15,
   "metadata": {},
   "outputs": [],
   "source": [
    "new_df = pd.read_csv(data_dir + 'london_sample.csv')"
   ]
  },
  {
   "cell_type": "markdown",
   "metadata": {},
   "source": [
    "## Prédictions"
   ]
  },
  {
   "cell_type": "code",
   "execution_count": 16,
   "metadata": {},
   "outputs": [],
   "source": [
    "new_data_vectorized = tf_idf.transform(new_df['clean_text'])\n",
    "new_df['kmeans_pred'] = pd.Series(kmeans.predict(new_data_vectorized),  index=new_df.index)"
   ]
  },
  {
   "cell_type": "code",
   "execution_count": 17,
   "metadata": {},
   "outputs": [
    {
     "data": {
      "text/markdown": [
       "**Topic 6 - ['order', 'get', 'time', 'food', 'take']**"
      ],
      "text/plain": [
       "<IPython.core.display.Markdown object>"
      ]
     },
     "metadata": {},
     "output_type": "display_data"
    },
    {
     "data": {
      "text/markdown": [
       "> Terrible service from the time I sat down. Had to flag down multiple people other than our actual waitress whom was nowhere to be found in order to order..."
      ],
      "text/plain": [
       "<IPython.core.display.Markdown object>"
      ]
     },
     "metadata": {},
     "output_type": "display_data"
    },
    {
     "data": {
      "text/markdown": [
       "**Topic 7 - ['pizza', 'order', 'crust', 'cheese', 'get']**"
      ],
      "text/plain": [
       "<IPython.core.display.Markdown object>"
      ]
     },
     "metadata": {},
     "output_type": "display_data"
    },
    {
     "data": {
      "text/markdown": [
       "> If you like Burned Pizza and Bad Service that is the place for you. We ordered a pizza to go and the pizza was soggy, soft and very burned under the..."
      ],
      "text/plain": [
       "<IPython.core.display.Markdown object>"
      ]
     },
     "metadata": {},
     "output_type": "display_data"
    },
    {
     "data": {
      "text/markdown": [
       "**Topic 5 - ['food', 'go', 'service', 'get', 'place']**"
      ],
      "text/plain": [
       "<IPython.core.display.Markdown object>"
      ]
     },
     "metadata": {},
     "output_type": "display_data"
    },
    {
     "data": {
      "text/markdown": [
       "> We were frequent visitors of Vapiano's when we lived in Vienna, so we know what to expect, and I have to say their food and service were always..."
      ],
      "text/plain": [
       "<IPython.core.display.Markdown object>"
      ]
     },
     "metadata": {},
     "output_type": "display_data"
    },
    {
     "data": {
      "text/markdown": [
       "**Topic 2 - ['wait', 'minute', 'table', 'come', 'get']**"
      ],
      "text/plain": [
       "<IPython.core.display.Markdown object>"
      ]
     },
     "metadata": {},
     "output_type": "display_data"
    },
    {
     "data": {
      "text/markdown": [
       "> Walked in for dinner. First night in London and super excited for meat & ale pie. Sat at a table upstairs. 10 minutes went by and no one came around at all...."
      ],
      "text/plain": [
       "<IPython.core.display.Markdown object>"
      ]
     },
     "metadata": {},
     "output_type": "display_data"
    }
   ],
   "source": [
    "for index, row in new_df.iterrows():        \n",
    "    display(Markdown(f\"**Topic {row['kmeans_pred']} - {topics[row['kmeans_pred']]}**\"))\n",
    "    display(Markdown(f\"> {row['text']}\"))    "
   ]
  },
  {
   "cell_type": "markdown",
   "metadata": {},
   "source": [
    "# Conclusion\n",
    "Avec un algorithme de K-means le nombre de catégories est le même que le modèle LDA. Les mots qui compose chaque catégories est légèrement différent, mais le sens reste le même. "
   ]
  },
  {
   "cell_type": "code",
   "execution_count": null,
   "metadata": {},
   "outputs": [],
   "source": []
  }
 ],
 "metadata": {
  "kernelspec": {
   "display_name": "Python 3",
   "language": "python",
   "name": "python3"
  },
  "language_info": {
   "codemirror_mode": {
    "name": "ipython",
    "version": 3
   },
   "file_extension": ".py",
   "mimetype": "text/x-python",
   "name": "python",
   "nbconvert_exporter": "python",
   "pygments_lexer": "ipython3",
   "version": "3.8.5"
  }
 },
 "nbformat": 4,
 "nbformat_minor": 4
}
