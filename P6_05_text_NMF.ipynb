{
 "cells": [
  {
   "cell_type": "markdown",
   "metadata": {},
   "source": [
    "# Analyse des données textuelles\n",
    "\n",
    "À partir des données l'application [Yelp](https://www.yelp.fr), traiter les sujets d'insatisfaction dans les commentaires client.\n",
    "\n",
    "**Analyser les commentaires pour détecter les différents sujets d’insatisfaction**\n",
    " - pré-traitement des données textuelles\n",
    " - utilisation de techniques de réduction de dimension\n",
    " - visualisation des données de grandes dimensions\n",
    "\n",
    "**Collecter un échantillon (environ 200 restaurants) de données via l’API Yelp**\n",
    " - récupérer uniquement les champs nécessaires\n",
    " - stocker les résultats dans un fichier exploitable (par exemple csv)\n",
    " \n",
    " \n",
    "Cette deuxième partie concerne le modèle **Non Negative Matrix Factorization (NMF)** afin de trouver le nombre et le genre des sujets d'insatisfaction.\n"
   ]
  },
  {
   "cell_type": "markdown",
   "metadata": {},
   "source": [
    "## Non Negative Matrix Factorization\n",
    "\n",
    "La NMF décompose les caractéristiques des données originales (matrice) en un produit de deux matrices de rang inférieur. La NMF utilise une approche itérative pour modifier les valeurs initiales des 2 nouvelle matrices afin que le produit se rapproche le plus des données originales. Lorsque l'erreur d'approximation converge ou que le nombre d'itérations défini par l'utilisateur est atteint, la NMF se termine."
   ]
  },
  {
   "cell_type": "markdown",
   "metadata": {},
   "source": [
    "# Chargement des bibliothèques"
   ]
  },
  {
   "cell_type": "code",
   "execution_count": 1,
   "metadata": {},
   "outputs": [],
   "source": [
    "import numpy as np\n",
    "import pandas as pd\n",
    "\n",
    "from sklearn.feature_extraction.text import TfidfVectorizer\n",
    "from sklearn.metrics import silhouette_score\n",
    "from sklearn.decomposition import NMF\n",
    "\n",
    "import matplotlib.pyplot as plt\n",
    "%matplotlib inline\n",
    "\n",
    "import pickle\n",
    "import random\n"
   ]
  },
  {
   "cell_type": "code",
   "execution_count": 2,
   "metadata": {},
   "outputs": [],
   "source": [
    "# Nécessaire lors de la phase de développement pour mettre à jour la classe olist dans le notebook\n",
    "%load_ext autoreload\n",
    "%autoreload 2"
   ]
  },
  {
   "cell_type": "code",
   "execution_count": 3,
   "metadata": {},
   "outputs": [],
   "source": [
    "import warnings\n",
    "warnings.filterwarnings(\"ignore\", category=DeprecationWarning)"
   ]
  },
  {
   "cell_type": "code",
   "execution_count": 4,
   "metadata": {},
   "outputs": [],
   "source": [
    "data_dir = '../data/'"
   ]
  },
  {
   "cell_type": "markdown",
   "metadata": {},
   "source": [
    "# Entrainement du modèle"
   ]
  },
  {
   "cell_type": "markdown",
   "metadata": {},
   "source": [
    "## Chargement des données précédement traitées"
   ]
  },
  {
   "cell_type": "code",
   "execution_count": 5,
   "metadata": {},
   "outputs": [],
   "source": [
    "df = pd.read_csv(data_dir + 'train_reviews.csv')\n",
    "test = pd.read_csv(data_dir + 'test_reviews.csv')"
   ]
  },
  {
   "cell_type": "markdown",
   "metadata": {},
   "source": [
    "## Création du corpus"
   ]
  },
  {
   "cell_type": "code",
   "execution_count": 6,
   "metadata": {},
   "outputs": [],
   "source": [
    "# tf_idf = TfidfVectorizer()\n",
    "# La même vectorisation est conservée pour tous les modèles \n",
    "tf_idf = pickle.load(open(\"models/TfidfVectorizer.pkl\", \"rb\"))\n",
    "tf_idf_data = tf_idf.fit_transform(df['clean_text'])"
   ]
  },
  {
   "cell_type": "markdown",
   "metadata": {},
   "source": [
    "## Recherche du nombre de topics\n",
    "Pour la recherche du nombre optimale de topics, nous allons utiliser le coefficient de silhoutte.\n",
    "\n",
    "Le **coefficient de Silhouette** vérifie si chaque document a bien été classé. Un document est bien classé si la distance qui le sépare de la classe la plus proche est très supérieure à celle qui le sépare de sa classe."
   ]
  },
  {
   "cell_type": "code",
   "execution_count": 7,
   "metadata": {},
   "outputs": [],
   "source": [
    "nmf_scores = []"
   ]
  },
  {
   "cell_type": "code",
   "execution_count": 8,
   "metadata": {},
   "outputs": [
    {
     "name": "stdout",
     "output_type": "stream",
     "text": [
      "Cluster 2: Silhouette score 0.0045\n",
      "Cluster 5: Silhouette score 0.0041\n",
      "Cluster 8: Silhouette score 0.0042\n",
      "Cluster 11: Silhouette score 0.0049\n",
      "Cluster 14: Silhouette score 0.0056\n",
      "Cluster 17: Silhouette score 0.0058\n"
     ]
    }
   ],
   "source": [
    "for n_components in range(2, 20, 3):\n",
    "    nmf = NMF(n_components=n_components, random_state=63,alpha=.1, l1_ratio=.5, max_iter=3000)\n",
    "    nmf.fit(tf_idf_data)\n",
    "    nmf_features = nmf.transform(tf_idf_data)\n",
    "    labels = nmf_features.argmax(axis=1)\n",
    "    score = silhouette_score(tf_idf_data, labels)\n",
    "    nmf_scores.append(score)\n",
    "    print(f\"Cluster {n_components}: Silhouette score {score:.4f}\")"
   ]
  },
  {
   "cell_type": "markdown",
   "metadata": {},
   "source": [
    "# Sélection du nombre de topics"
   ]
  },
  {
   "cell_type": "code",
   "execution_count": 9,
   "metadata": {},
   "outputs": [
    {
     "data": {
      "text/plain": [
       "Text(0.5, 1.0, 'Estimation du nombre de clusters avec le coefficient de silhouette')"
      ]
     },
     "execution_count": 9,
     "metadata": {},
     "output_type": "execute_result"
    },
    {
     "data": {
      "image/png": "[encoded data removed]",
      "text/plain": [
       "<Figure size 432x288 with 1 Axes>"
      ]
     },
     "metadata": {
      "needs_background": "light"
     },
     "output_type": "display_data"
    }
   ],
   "source": [
    "f, ax = plt.subplots(1, 1)\n",
    "ax.plot(range(2, 20, 3), nmf_scores, marker='o')\n",
    "ax.set_xlabel('Nombre de clusters')\n",
    "ax.set_xticks(range(2, 20, 3))\n",
    "ax.set_xticklabels(range(2, 20, 3))\n",
    "ax.set_ylabel('Coefficient silhouette')\n",
    "ax.set_title('Estimation du nombre de clusters avec le coefficient de silhouette')"
   ]
  },
  {
   "cell_type": "markdown",
   "metadata": {},
   "source": [
    "D'après le modèle NMF le nombre de topic optimal est 8.\n",
    "\n",
    "Nous allons tenter d'expliquer les topics trouvés avec les mots clés qui ont été classés."
   ]
  },
  {
   "cell_type": "markdown",
   "metadata": {},
   "source": [
    "# Explication des topics"
   ]
  },
  {
   "cell_type": "code",
   "execution_count": 10,
   "metadata": {},
   "outputs": [],
   "source": [
    "num_topics = 8"
   ]
  },
  {
   "cell_type": "code",
   "execution_count": 11,
   "metadata": {},
   "outputs": [],
   "source": [
    "nmf = NMF(n_components=num_topics, random_state=63,alpha=.1, l1_ratio=.5, max_iter=3000)\n",
    "nmf.fit(tf_idf_data)\n",
    "nmf_features = nmf.transform(tf_idf_data)\n",
    "pickle.dump(nmf, open(\"models/nmf.pkl\", \"wb\"))"
   ]
  },
  {
   "cell_type": "code",
   "execution_count": 12,
   "metadata": {},
   "outputs": [
    {
     "name": "stdout",
     "output_type": "stream",
     "text": [
      "1763 - This is probably the first pub I've been to In London that doesn't have a vegan or vegetarian roast on their menu. They were accommodating and made a roast...\n",
      "553 - Vietnamese food gone wrong! The base soup of phò beef noodle soup is not flaborful at all and in fact bland - no beef taste. There was anlot if noodles, the...\n",
      "622 - I really wanted to like this spot but it fell flat in multiple ways. I don't think our server smiled once through the entire course of our meal and it was...\n",
      "821 - I was ATTACKED physically in this shop. I walked in on a video phone call to show my friend what to order, and a man (pretending to be) on crutches yells:...\n"
     ]
    }
   ],
   "source": [
    "new_df = pd.read_csv(data_dir + 'london_clean.csv')\n",
    "new_df = new_df[new_df['bad_review'] == 1]\n",
    "rand_obs = random.sample(list(new_df.index), 4)\n",
    "for i in rand_obs:\n",
    "    print(f\"{i} - {new_df.loc[i]['text']}\")"
   ]
  },
  {
   "cell_type": "code",
   "execution_count": 13,
   "metadata": {},
   "outputs": [],
   "source": [
    "X_new = nmf.transform(tf_idf_data)\n",
    "predicted_topics = [np.argsort(each)[::-1][0] for each in X_new]"
   ]
  },
  {
   "cell_type": "code",
   "execution_count": 14,
   "metadata": {
    "scrolled": false
   },
   "outputs": [
    {
     "name": "stdout",
     "output_type": "stream",
     "text": [
      "Topic 1\n",
      "place    3.542317\n",
      "go       2.468590\n",
      "time     2.418450\n",
      "like     2.047203\n",
      "get      1.891055\n",
      "Name: 0, dtype: float64\n",
      "\n",
      "\n",
      "Topic 2\n",
      "chicken    3.659420\n",
      "tast       2.634059\n",
      "veri       1.995331\n",
      "sauc       1.963218\n",
      "good       1.772597\n",
      "Name: 1, dtype: float64\n",
      "\n",
      "\n",
      "Topic 3\n",
      "pizza    8.613572\n",
      "crust    1.000144\n",
      "chees    0.898529\n",
      "slice    0.666048\n",
      "top      0.553911\n",
      "Name: 2, dtype: float64\n",
      "\n",
      "\n",
      "Topic 4\n",
      "order       7.927944\n",
      "call        2.988517\n",
      "deliveri    1.730768\n",
      "time        1.459548\n",
      "said        1.435058\n",
      "Name: 3, dtype: float64\n",
      "\n",
      "\n",
      "Topic 5\n",
      "food       7.547769\n",
      "servic     6.104339\n",
      "good       2.407251\n",
      "terribl    2.045203\n",
      "horribl    1.912913\n",
      "Name: 4, dtype: float64\n",
      "\n",
      "\n",
      "Topic 6\n",
      "wait     7.938186\n",
      "minut    5.073019\n",
      "hour     2.386242\n",
      "min      1.375373\n",
      "long     1.286084\n",
      "Name: 5, dtype: float64\n",
      "\n",
      "\n",
      "Topic 7\n",
      "burger    7.472166\n",
      "fri       2.572602\n",
      "bun       0.677112\n",
      "onion     0.545215\n",
      "chees     0.542569\n",
      "Name: 6, dtype: float64\n",
      "\n",
      "\n",
      "Topic 8\n",
      "us        5.133410\n",
      "tabl      3.674406\n",
      "ask       2.584480\n",
      "drink     2.200020\n",
      "server    2.186538\n",
      "Name: 7, dtype: float64\n",
      "\n",
      "\n"
     ]
    }
   ],
   "source": [
    "components_df = pd.DataFrame(nmf.components_, columns=tf_idf.get_feature_names())\n",
    "\n",
    "for topic in range(components_df.shape[0]):\n",
    "    tmp = components_df.iloc[topic]\n",
    "    print(f'Topic {topic+1}')\n",
    "    print(tmp.nlargest(5))\n",
    "    print('\\n')\n"
   ]
  },
  {
   "cell_type": "markdown",
   "metadata": {},
   "source": [
    "Les 8 topics peuvent être regroupés en 4 groupes\n",
    "\n",
    "**Service**\n",
    " - food, servic, good, terribl, horribl\n",
    "\n",
    "**Nourriture**\n",
    " - chicken, tast, veri, sauc, good, \n",
    " - pizza, crust, chees, slice, top\n",
    " - burger, fri, bun, onion, chees \n",
    "\n",
    "**Emplacement**\n",
    " - place, go, time, like, get\n",
    " - us, tabl, ask, drink, server\n",
    "\n",
    "**Attente**\n",
    " - wait, minut, hour, min, long\n",
    " - order, call, deliveri, time, said\n",
    "\n"
   ]
  },
  {
   "cell_type": "markdown",
   "metadata": {},
   "source": [
    "# Prédictions"
   ]
  },
  {
   "cell_type": "markdown",
   "metadata": {},
   "source": [
    "## Prédiction avec de données de test"
   ]
  },
  {
   "cell_type": "code",
   "execution_count": 15,
   "metadata": {
    "scrolled": false
   },
   "outputs": [
    {
     "data": {
      "text/plain": [
       "\"Topic 1 - ['place', 'go', 'time', 'like', 'get']\""
      ]
     },
     "metadata": {},
     "output_type": "display_data"
    },
    {
     "data": {
      "text/plain": [
       "\"This place is the worst! I have contacted the district Manager multiple times about his place been closed because they don't have employees to work. People are nasty and unprofessional!! All kinds of negativeness and place had not changed!! Today was the icing on the cake!!  Person that took my order has snut coming out her nose!! The person that made my steak bowl made a mistake and used his hands to fix it.. rice is hard as bullets and it was just horrible!!  I complained to the district manager about 5 times with issues!! Store is becoming worst and worst!!  How and whom can I complaint about the store??  Horrible nasty place   Argh !!!\""
      ]
     },
     "metadata": {},
     "output_type": "display_data"
    },
    {
     "data": {
      "text/plain": [
       "\"Topic 8 - ['us', 'tabl', 'ask', 'drink', 'server']\""
      ]
     },
     "metadata": {},
     "output_type": "display_data"
    },
    {
     "data": {
      "text/plain": [
       "'I was very unimpressed with the restaurant when I was there last year. I saw the good rating on yelp and figured I couldn\\'t go wrong with bringing an out-of-town guest here and to a comedy club nearby. I booked a reservation several days in advance without an issue. We arrived about 10 minutes early and waited outside (fairly chilly out at that time of year) because the restaurant is VERY VERY small and there is absolutely nowhere to stand inside. When our table was ready they ushered us in and sat us at THE SMALLEST TABLE I HAVE EVER SEEN. It would have been a stretch to fit two people at a table of that size; asking three to sit there was laughable. I\\'m sure the waitress saw the incredulous look on my face because a moment later she said that another table was just leaving and they would clear that off so we could sit there.   The food was fine. My pasta was pretty good, my companions were a little less thrilled with their meals. The service was fine as well but nothing of note. The most interesting thing about the whole experience was the restroom; it must be in competition for the smallest restroom in the city. It was quite humorous squeezing in there and even more so watching my 6\\'3\" burly guest do so. We had a good laugh about that part for several days after.  Overall, there are far better places to visit in North End in my opinion. Maybe we just had a one-off bad experience, but I won\\'t be going back again to find out.'"
      ]
     },
     "metadata": {},
     "output_type": "display_data"
    },
    {
     "data": {
      "text/plain": [
       "\"Topic 1 - ['place', 'go', 'time', 'like', 'get']\""
      ]
     },
     "metadata": {},
     "output_type": "display_data"
    },
    {
     "data": {
      "text/plain": [
       "'The bald bar tender watched me urinate. Said that, he\\'s gonna have to cut me off after \"seeing my stream\". I\\'m sober as a joke. Not exactly the professionalism that I\\'d hope for seeing how I\\'ve come here for years. Smh.'"
      ]
     },
     "metadata": {},
     "output_type": "display_data"
    },
    {
     "data": {
      "text/plain": [
       "\"Topic 8 - ['us', 'tabl', 'ask', 'drink', 'server']\""
      ]
     },
     "metadata": {},
     "output_type": "display_data"
    },
    {
     "data": {
      "text/plain": [
       "'I came on a whim. My server was nice enough, and it was busy so I wasn\\'t expecting to be seated as quickly as I was. I asked for skim milk for my coffee, and it didn\\'t come until the coffee was cold. I ordered the western omelette. It was delicious but I asked for fruit as my side and the runner told me the fruit was being cut up and would be out ASAP. Well, I finished my omelette which was quite tasty. No fruit ever came. No one ever warmed up my coffee. Then, the server brought me my bill and rushed off. I finally flagged her down after about five minutes of trying to get someone\\'s attention. I told her I\\'d never gotten my fruit. She goes \"oh\" and rushed back off. She came back with a small bowl of what looked like good fruit. She said \"it was ready, but no one ever brought it. \" Not \"I\\'m sorry\" or \"I apologize for your wait\" or anything like it. I paid the bill, left a suitable tip and left. I won\\'t be returning.'"
      ]
     },
     "metadata": {},
     "output_type": "display_data"
    },
    {
     "data": {
      "text/plain": [
       "\"Topic 6 - ['wait', 'minut', 'hour', 'min', 'long']\""
      ]
     },
     "metadata": {},
     "output_type": "display_data"
    },
    {
     "data": {
      "text/plain": [
       "'I\\'ve been to this location multiple times and while the food is good, the service is horrible. It doesn\\'t matter if there is a line out the door or no line and am able to walk up to the register, the wait on your food is at minimum 30 minutes. So don\\'t come if you\\'re hungry on in a hurry. This time I visited there was no one in line, my fiancé and I waited 30 min and then went and asked how much longer it would be. Their response: we are working as fast as we can and have several to go orders we are fulfilling at the same time. 15+ min later, someone comes to our table and says or ticket was \"lost\" and asked if we wanted to reorder. We said no, we just wanted a refund. No incentive via gift card or otherwise to come back.'"
      ]
     },
     "metadata": {},
     "output_type": "display_data"
    },
    {
     "data": {
      "text/plain": [
       "\"Topic 4 - ['order', 'call', 'deliveri', 'time', 'said']\""
      ]
     },
     "metadata": {},
     "output_type": "display_data"
    },
    {
     "data": {
      "text/plain": [
       "\"Well I ordered my chicken broccoli and ziti was told 20mins went there 30mins later asked for my order 144 as I was told and the man told me there was no such order. Bad for business this is why I tend to go where I know. Try to support the local business but that's what I get.\""
      ]
     },
     "metadata": {},
     "output_type": "display_data"
    },
    {
     "data": {
      "text/plain": [
       "\"Topic 2 - ['chicken', 'tast', 'veri', 'sauc', 'good']\""
      ]
     },
     "metadata": {},
     "output_type": "display_data"
    },
    {
     "data": {
      "text/plain": [
       "\"Tall doubles are reasonably strong but the fried shrimp is the worst I've ever had. Totally bland with no flavor of shrimp at all. Portion (5 jumbo shrimp) is not really worth the $22.  Unfortunately this is the only place that serves liquor in this terminal.\""
      ]
     },
     "metadata": {},
     "output_type": "display_data"
    },
    {
     "data": {
      "text/plain": [
       "\"Topic 2 - ['chicken', 'tast', 'veri', 'sauc', 'good']\""
      ]
     },
     "metadata": {},
     "output_type": "display_data"
    },
    {
     "data": {
      "text/plain": [
       "\"Was very disappointed after being so hyped up by some of the reviews. Ordered to go and insured I asked for extra salsa and a side of guacamole at least 3 times. The waiter even repeated it and assured me it was included. Get home to find neither. Fajita meat was bland and didn't receive any grilled peppers that were also requested and charged for.\""
      ]
     },
     "metadata": {},
     "output_type": "display_data"
    },
    {
     "data": {
      "text/plain": [
       "\"Topic 6 - ['wait', 'minut', 'hour', 'min', 'long']\""
      ]
     },
     "metadata": {},
     "output_type": "display_data"
    },
    {
     "data": {
      "text/plain": [
       "'Not worth giving even 1 star. I couldn\\'t tell if I was eating food. Whatever was served on the fiesta-ware plates came out very late, very cold and tasting like old mush from the bottom of a trash bin or dirty sink. Much thanks to the host staff manager who made us wait 10 minutes before taking our names with no one else in line, then handing us a  buzzer that eventually never went off so we had to go remind them (still the only people in the waiting area) that we hadn\\'t been seated yet. And then finally the \"food\". I want my $50 back. Never again.'"
      ]
     },
     "metadata": {},
     "output_type": "display_data"
    },
    {
     "data": {
      "text/plain": [
       "\"Topic 4 - ['order', 'call', 'deliveri', 'time', 'said']\""
      ]
     },
     "metadata": {},
     "output_type": "display_data"
    },
    {
     "data": {
      "text/plain": [
       "'Ordered take out that was to be 30 mins. I hour later we finally received our order. Pirate Pak burger dry, cold and unfit for consumption. Fish and chips also cold but did eat the fish which was at least fresh. Milk shake melted. I suspect that the order was ready at the 30 minute mark but somehow they either had a mix up or put the order somewhere where it was missed. Will give them the benefit of the doubt on temperature. No excuses on the Pirate Pak. If you must use this White Spot, check your  take out order before you leave the restaurant for quality and temperature. I will not return.'"
      ]
     },
     "metadata": {},
     "output_type": "display_data"
    }
   ],
   "source": [
    "for index, row in test.iterrows():\n",
    "    words = []\n",
    "    X = tf_idf.transform([row['clean_text']])\n",
    "    nmf_features = nmf.transform(X)\n",
    "    topic = pd.DataFrame(nmf_features).idxmax(axis=1)[0]\n",
    "       \n",
    "    tmp = components_df.iloc[topic]\n",
    "    for w in tmp.nlargest(5).index:\n",
    "        words.append(w)\n",
    "    \n",
    "    display(f\"Topic {topic + 1} - {words}\")\n",
    "    display(f\"{str(row['text'])}\")    "
   ]
  },
  {
   "cell_type": "markdown",
   "metadata": {},
   "source": [
    "## Prédiction avec de nouvelles données en provenance de l'API Yelp"
   ]
  },
  {
   "cell_type": "markdown",
   "metadata": {},
   "source": [
    "## Chargement des données"
   ]
  },
  {
   "cell_type": "code",
   "execution_count": 16,
   "metadata": {},
   "outputs": [],
   "source": [
    "new_df = pd.read_csv(data_dir + 'london_sample.csv')"
   ]
  },
  {
   "cell_type": "markdown",
   "metadata": {},
   "source": [
    "## Prédictions"
   ]
  },
  {
   "cell_type": "code",
   "execution_count": 17,
   "metadata": {
    "scrolled": true
   },
   "outputs": [
    {
     "data": {
      "text/plain": [
       "\"Topic 4 - ['order', 'call', 'deliveri', 'time', 'said']\""
      ]
     },
     "metadata": {},
     "output_type": "display_data"
    },
    {
     "data": {
      "text/plain": [
       "'Terrible service from the time I sat down. Had to flag down multiple people other than our actual waitress whom was nowhere to be found in order to order...'"
      ]
     },
     "metadata": {},
     "output_type": "display_data"
    },
    {
     "data": {
      "text/plain": [
       "\"Topic 3 - ['pizza', 'crust', 'chees', 'slice', 'top']\""
      ]
     },
     "metadata": {},
     "output_type": "display_data"
    },
    {
     "data": {
      "text/plain": [
       "'If you like Burned Pizza and Bad Service that is the place for you. We ordered a pizza to go and the pizza was soggy, soft and very burned under the...'"
      ]
     },
     "metadata": {},
     "output_type": "display_data"
    },
    {
     "data": {
      "text/plain": [
       "\"Topic 5 - ['food', 'servic', 'good', 'terribl', 'horribl']\""
      ]
     },
     "metadata": {},
     "output_type": "display_data"
    },
    {
     "data": {
      "text/plain": [
       "\"We were frequent visitors of Vapiano's when we lived in Vienna, so we know what to expect, and I have to say their food and service were always...\""
      ]
     },
     "metadata": {},
     "output_type": "display_data"
    },
    {
     "data": {
      "text/plain": [
       "\"Topic 1 - ['place', 'go', 'time', 'like', 'get']\""
      ]
     },
     "metadata": {},
     "output_type": "display_data"
    },
    {
     "data": {
      "text/plain": [
       "'Walked in for dinner. First night in London and super excited for meat & ale pie. Sat at a table upstairs. 10 minutes went by and no one came around at all....'"
      ]
     },
     "metadata": {},
     "output_type": "display_data"
    }
   ],
   "source": [
    "for index, row in new_df.iterrows():\n",
    "    words = []\n",
    "    X = tf_idf.transform([row['clean_text']])\n",
    "    nmf_features = nmf.transform(X)\n",
    "    topic = pd.DataFrame(nmf_features).idxmax(axis=1)[0]\n",
    "       \n",
    "    tmp = components_df.iloc[topic]\n",
    "    for w in tmp.nlargest(5).index:\n",
    "        words.append(w)\n",
    "    \n",
    "    display(f\"Topic {topic + 1} - {words}\")\n",
    "    display(f\"{str(row['text'])}\")"
   ]
  },
  {
   "cell_type": "markdown",
   "metadata": {},
   "source": [
    "# Conclusion\n",
    "Les deux models précédents proposaient 11 categories, alors que le NMF n'en propose que 8. On remarque que la partie commande à disparue, mais qu'elle est regroupée avec l'attente.\n"
   ]
  },
  {
   "cell_type": "code",
   "execution_count": null,
   "metadata": {},
   "outputs": [],
   "source": []
  }
 ],
 "metadata": {
  "kernelspec": {
   "display_name": "Python 3",
   "language": "python",
   "name": "python3"
  },
  "language_info": {
   "codemirror_mode": {
    "name": "ipython",
    "version": 3
   },
   "file_extension": ".py",
   "mimetype": "text/x-python",
   "name": "python",
   "nbconvert_exporter": "python",
   "pygments_lexer": "ipython3",
   "version": "3.8.5"
  }
 },
 "nbformat": 4,
 "nbformat_minor": 4
}
