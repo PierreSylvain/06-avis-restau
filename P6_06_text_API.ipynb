{
 "cells": [
  {
   "cell_type": "markdown",
   "metadata": {},
   "source": [
    "# Analyse des données textuelles\n",
    "\n",
    "À partir des données l'application [Yelp](https://www.yelp.fr), traiter les sujets d'insatisfaction dans les commentaires client.\n",
    "\n",
    "**Analyser les commentaires pour détecter les différents sujets d’insatisfaction**\n",
    " - pré-traitement des données textuelles\n",
    " - utilisation de techniques de réduction de dimension\n",
    " - visualisation des données de grandes dimensions\n",
    "\n",
    "**Collecter un échantillon (environ 200 restaurants) de données via l’API Yelp**\n",
    " - récupérer uniquement les champs nécessaires\n",
    " - stocker les résultats dans un fichier exploitable (par exemple csv)\n",
    " \n",
    "Dans cette partie nous aloons utilise l'API Yelp pour récupérer de nouvelles données et de les utiliser avec nos 3 modèle. Manuellement nous vérifirons la pertinence des prédictions pour établir le meilleur modèle."
   ]
  },
  {
   "cell_type": "markdown",
   "metadata": {},
   "source": [
    "# Chargement des bibliothèques"
   ]
  },
  {
   "cell_type": "code",
   "execution_count": 1,
   "metadata": {},
   "outputs": [],
   "source": [
    "import numpy as np\n",
    "import pandas as pd\n",
    "\n",
    "import gensim\n",
    "import gensim.corpora as corpora\n",
    "from gensim import models\n",
    "from sklearn.feature_extraction.text import TfidfVectorizer\n",
    "\n",
    "from gql import gql, Client\n",
    "from gql.transport.requests import RequestsHTTPTransport\n",
    "import json\n",
    "import pprint\n",
    "from string import Template\n",
    "import csv\n",
    "import string\n",
    "from Extract import Extract\n",
    "\n",
    "import pickle\n",
    "import random"
   ]
  },
  {
   "cell_type": "code",
   "execution_count": 2,
   "metadata": {},
   "outputs": [],
   "source": [
    "# Nécessaire lors de la phase de développement pour mettre à jour la classe olist dans le notebook\n",
    "%load_ext autoreload\n",
    "%autoreload 2"
   ]
  },
  {
   "cell_type": "code",
   "execution_count": 3,
   "metadata": {},
   "outputs": [],
   "source": [
    "import warnings\n",
    "warnings.filterwarnings(\"ignore\", category=DeprecationWarning)"
   ]
  },
  {
   "cell_type": "code",
   "execution_count": 4,
   "metadata": {},
   "outputs": [],
   "source": [
    "data_dir = '../data/cities/'"
   ]
  },
  {
   "cell_type": "markdown",
   "metadata": {},
   "source": [
    "## Paramètres"
   ]
  },
  {
   "cell_type": "code",
   "execution_count": null,
   "metadata": {},
   "outputs": [],
   "source": [
    "print(\"Clé API\")\n",
    "api_key = input()"
   ]
  },
  {
   "cell_type": "code",
   "execution_count": 6,
   "metadata": {},
   "outputs": [],
   "source": [
    "# Ville\n",
    "city_name = 'Dublin'\n",
    "\n",
    "# Nombre de restaurants à rechercher\n",
    "restaurant_count = 100"
   ]
  },
  {
   "cell_type": "markdown",
   "metadata": {},
   "source": [
    "# Importation des données en provenance de l'API"
   ]
  },
  {
   "cell_type": "code",
   "execution_count": 7,
   "metadata": {},
   "outputs": [],
   "source": [
    "class YelpApi:\n",
    "    \"\"\"Use Yelp API to retrieve restaurants reviews.\n",
    "    This script use GRAPH SQL\n",
    "    \"\"\"\n",
    "\n",
    "    def __init__(self):\n",
    "        \"\"\"Init class\n",
    "        \n",
    "        :param self:\n",
    "        \n",
    "        :return: void \n",
    "        \"\"\"\n",
    "        self.client = None\n",
    "        self.restaurants = []\n",
    "        self.create_client()\n",
    "\n",
    "    def create_client(self):\n",
    "        \"\"\"Yelp API client\n",
    "        \n",
    "        :param self:\n",
    "        \n",
    "        :return: void \n",
    "        \n",
    "        \"\"\"\n",
    "        reqHeaders = {\n",
    "            'Authorization': 'Bearer ' + api_key\n",
    "        }\n",
    "\n",
    "        _transport = RequestsHTTPTransport(\n",
    "            url=\"https://api.yelp.com/v3/graphql\",\n",
    "            headers=reqHeaders,\n",
    "            use_json=True,\n",
    "        )\n",
    "\n",
    "        self.client = Client(\n",
    "            transport=_transport,\n",
    "            fetch_schema_from_transport=True,\n",
    "        )\n",
    "\n",
    "    def query_gql_location(self, location, limit=50, offset=0):\n",
    "        \"\"\"Request restaurant name's and review (limit to 3 by Yelp) \n",
    "        \n",
    "        :param self:\n",
    "        :param location: city name\n",
    "        :param limit: Number of record to retreive - max 50 (default: {50})\n",
    "        :param offset: Offset (default: {0})\n",
    "        \n",
    "        :return: void\n",
    "        \"\"\"\n",
    "        queryTemplate = Template(\n",
    "            \"\"\"\n",
    "            {\n",
    "                search(\n",
    "                    term: \"restaurants\", \n",
    "                    location: \"$location\", \n",
    "                    categories:\"restaurants\", \n",
    "                    limit:$limit, \n",
    "                    offset:$offset                    \n",
    "                ){\n",
    "                    total,                    \n",
    "                        business {\n",
    "                            name\n",
    "                            id                        \n",
    "                        reviews(limit: 50){\n",
    "                            text\n",
    "                            rating\n",
    "                        }\n",
    "                    }\n",
    "                }\n",
    "            }\n",
    "            \"\"\"\n",
    "        )\n",
    "        query = queryTemplate.substitute(location=location, limit=limit, offset=offset)\n",
    "        request = gql(query)\n",
    "        result = self.client.execute(request)\n",
    "        for restaurant in result['search']['business']:\n",
    "            self.restaurants.append(restaurant)\n",
    "\n",
    "    def get_restaurants(self, location, count=50):\n",
    "        \"\"\"Get restaurants and reviews information\n",
    "\n",
    "        :param self:\n",
    "        :param location: city name\n",
    "        :param count: number of restaurants to get(default: 50)\n",
    "        \n",
    "        :return: void\n",
    "        \"\"\"\n",
    "\n",
    "        max_count = 50\n",
    "        counter = int(count / max_count)\n",
    "        modulo = count % max_count\n",
    "        offset = 0\n",
    "        for count_restaurant in range(counter):\n",
    "            self.query_gql_location(location, max_count, offset)\n",
    "            offset += max_count\n",
    "        if modulo > 0:\n",
    "            self.query_gql_location(location, modulo, offset)\n",
    "\n",
    "    def to_csv(self, file):\n",
    "        \"\"\"Save review as CSV :\n",
    "            - text\n",
    "            - score\n",
    "        :param self:\n",
    "        :param file: filename\n",
    "      \n",
    "        :return: void\n",
    "        \"\"\"\n",
    "        start= 1\n",
    "        with open(file, \"w\", newline=\"\") as csv_file:\n",
    "            for restaurant in self.restaurants:\n",
    "                for review in restaurant['reviews']:\n",
    "                    wr = csv.writer(csv_file, quoting=csv.QUOTE_ALL)\n",
    "                    if start == 1:\n",
    "                        wr.writerow(['text', 'stars'])\n",
    "                        start = 2\n",
    "                    wr.writerow([review['text'].replace(\"\\n\", \"\"), review['rating']])"
   ]
  },
  {
   "cell_type": "markdown",
   "metadata": {},
   "source": [
    "## Importation"
   ]
  },
  {
   "cell_type": "code",
   "execution_count": 8,
   "metadata": {},
   "outputs": [],
   "source": [
    "yelp = YelpApi()"
   ]
  },
  {
   "cell_type": "code",
   "execution_count": 9,
   "metadata": {},
   "outputs": [],
   "source": [
    "yelp.get_restaurants(city_name, restaurant_count)\n",
    "yelp.to_csv(data_dir + city_name + '_raw.csv')"
   ]
  },
  {
   "cell_type": "markdown",
   "metadata": {},
   "source": [
    "## Transformation des données reçues en dataFrame"
   ]
  },
  {
   "cell_type": "code",
   "execution_count": 10,
   "metadata": {},
   "outputs": [
    {
     "data": {
      "text/html": [
       "<div>\n",
       "<style scoped>\n",
       "    .dataframe tbody tr th:only-of-type {\n",
       "        vertical-align: middle;\n",
       "    }\n",
       "\n",
       "    .dataframe tbody tr th {\n",
       "        vertical-align: top;\n",
       "    }\n",
       "\n",
       "    .dataframe thead th {\n",
       "        text-align: right;\n",
       "    }\n",
       "</style>\n",
       "<table border=\"1\" class=\"dataframe\">\n",
       "  <thead>\n",
       "    <tr style=\"text-align: right;\">\n",
       "      <th></th>\n",
       "      <th>text</th>\n",
       "      <th>stars</th>\n",
       "    </tr>\n",
       "  </thead>\n",
       "  <tbody>\n",
       "    <tr>\n",
       "      <th>0</th>\n",
       "      <td>A must try among temple street. Head there for...</td>\n",
       "      <td>5</td>\n",
       "    </tr>\n",
       "    <tr>\n",
       "      <th>1</th>\n",
       "      <td>I couldn't have asked for a better restaurant ...</td>\n",
       "      <td>4</td>\n",
       "    </tr>\n",
       "    <tr>\n",
       "      <th>2</th>\n",
       "      <td>While walking (drinking) through the Temple ba...</td>\n",
       "      <td>4</td>\n",
       "    </tr>\n",
       "    <tr>\n",
       "      <th>3</th>\n",
       "      <td>Food: 5/5Service: 5/5Cleanliness: 5/5Decor &amp; S...</td>\n",
       "      <td>5</td>\n",
       "    </tr>\n",
       "    <tr>\n",
       "      <th>4</th>\n",
       "      <td>My visit to P Mac's was my first time sitting ...</td>\n",
       "      <td>4</td>\n",
       "    </tr>\n",
       "  </tbody>\n",
       "</table>\n",
       "</div>"
      ],
      "text/plain": [
       "                                                text  stars\n",
       "0  A must try among temple street. Head there for...      5\n",
       "1  I couldn't have asked for a better restaurant ...      4\n",
       "2  While walking (drinking) through the Temple ba...      4\n",
       "3  Food: 5/5Service: 5/5Cleanliness: 5/5Decor & S...      5\n",
       "4  My visit to P Mac's was my first time sitting ...      4"
      ]
     },
     "execution_count": 10,
     "metadata": {},
     "output_type": "execute_result"
    }
   ],
   "source": [
    "new_df = pd.read_csv(data_dir + city_name + '_raw.csv')\n",
    "new_df.head()"
   ]
  },
  {
   "cell_type": "markdown",
   "metadata": {},
   "source": [
    "## Nettoyage des données"
   ]
  },
  {
   "cell_type": "code",
   "execution_count": 11,
   "metadata": {},
   "outputs": [
    {
     "name": "stderr",
     "output_type": "stream",
     "text": [
      "\r",
      "/ |#                                                  | 0 Elapsed Time: 0:00:00"
     ]
    }
   ],
   "source": [
    "extract = Extract()\n",
    "extract.clean_file(data_dir + city_name + '_raw.csv', data_dir + city_name + '_clean.csv')"
   ]
  },
  {
   "cell_type": "markdown",
   "metadata": {},
   "source": [
    "## Chargement des données précédement traitées"
   ]
  },
  {
   "cell_type": "code",
   "execution_count": 12,
   "metadata": {},
   "outputs": [
    {
     "data": {
      "text/html": [
       "<div>\n",
       "<style scoped>\n",
       "    .dataframe tbody tr th:only-of-type {\n",
       "        vertical-align: middle;\n",
       "    }\n",
       "\n",
       "    .dataframe tbody tr th {\n",
       "        vertical-align: top;\n",
       "    }\n",
       "\n",
       "    .dataframe thead th {\n",
       "        text-align: right;\n",
       "    }\n",
       "</style>\n",
       "<table border=\"1\" class=\"dataframe\">\n",
       "  <thead>\n",
       "    <tr style=\"text-align: right;\">\n",
       "      <th></th>\n",
       "      <th>text</th>\n",
       "      <th>stars</th>\n",
       "      <th>clean_text</th>\n",
       "      <th>bad_review</th>\n",
       "    </tr>\n",
       "  </thead>\n",
       "  <tbody>\n",
       "    <tr>\n",
       "      <th>10</th>\n",
       "      <td>Updating my review from a 4 stars to a 2. Defi...</td>\n",
       "      <td>2</td>\n",
       "      <td>updat review star definit lost appeal mediocr ...</td>\n",
       "      <td>1</td>\n",
       "    </tr>\n",
       "    <tr>\n",
       "      <th>59</th>\n",
       "      <td>Wow. Front of house staff need some training o...</td>\n",
       "      <td>2</td>\n",
       "      <td>wow front hous staff need train friendli ask b...</td>\n",
       "      <td>1</td>\n",
       "    </tr>\n",
       "    <tr>\n",
       "      <th>105</th>\n",
       "      <td>First of all, the menu is incorrect on their w...</td>\n",
       "      <td>1</td>\n",
       "      <td>first menu incorrect websit pre set earli bird...</td>\n",
       "      <td>1</td>\n",
       "    </tr>\n",
       "    <tr>\n",
       "      <th>111</th>\n",
       "      <td>Updated: March 4 2020I have been having diarrh...</td>\n",
       "      <td>1</td>\n",
       "      <td>updat march diarrhea sinc night finish meal da...</td>\n",
       "      <td>1</td>\n",
       "    </tr>\n",
       "    <tr>\n",
       "      <th>115</th>\n",
       "      <td>I was very excited to try this place because I...</td>\n",
       "      <td>2</td>\n",
       "      <td>veri excit tri place becaus heard mani thing p...</td>\n",
       "      <td>1</td>\n",
       "    </tr>\n",
       "  </tbody>\n",
       "</table>\n",
       "</div>"
      ],
      "text/plain": [
       "                                                  text  stars  \\\n",
       "10   Updating my review from a 4 stars to a 2. Defi...      2   \n",
       "59   Wow. Front of house staff need some training o...      2   \n",
       "105  First of all, the menu is incorrect on their w...      1   \n",
       "111  Updated: March 4 2020I have been having diarrh...      1   \n",
       "115  I was very excited to try this place because I...      2   \n",
       "\n",
       "                                            clean_text  bad_review  \n",
       "10   updat review star definit lost appeal mediocr ...           1  \n",
       "59   wow front hous staff need train friendli ask b...           1  \n",
       "105  first menu incorrect websit pre set earli bird...           1  \n",
       "111  updat march diarrhea sinc night finish meal da...           1  \n",
       "115  veri excit tri place becaus heard mani thing p...           1  "
      ]
     },
     "execution_count": 12,
     "metadata": {},
     "output_type": "execute_result"
    }
   ],
   "source": [
    "new_df = pd.read_csv(data_dir + city_name + '_clean.csv')\n",
    "new_df = new_df[new_df['bad_review'] == 1]\n",
    "new_df.head()"
   ]
  },
  {
   "cell_type": "code",
   "execution_count": 13,
   "metadata": {},
   "outputs": [
    {
     "name": "stdout",
     "output_type": "stream",
     "text": [
      "Ce jeu de données contient 12 observations\n"
     ]
    }
   ],
   "source": [
    "print(f\"Ce jeu de données contient {new_df.shape[0]} observations\")"
   ]
  },
  {
   "cell_type": "code",
   "execution_count": 14,
   "metadata": {},
   "outputs": [
    {
     "name": "stdout",
     "output_type": "stream",
     "text": [
      "193 - It's a quaint little place for breakfast, although the service is not the best. It took a while to place our order, and we had to ask for utensils, refills,...\n",
      "196 - No idea the reviews here. Mediocre, at best. Sat at the kitchen counter and watched the chefs talk gossip back and forth. Steak came, after being pushed,...\n",
      "116 - I'm going to echo a few other yelpers that said this place wasn't that great. We ordered a fish and chips meal to go since there was no place, not even...\n",
      "111 - Updated: March 4 2020I have been having diarrhea since the night I finished this meal for 3 days, and been to bathroom 20 times a day. It was horrible....\n"
     ]
    }
   ],
   "source": [
    "# on prend 4 observation au hasard\n",
    "rand_obs = random.sample(list(new_df.index), 4)\n",
    "for i in rand_obs:\n",
    "    print(f\"{i} - {new_df.loc[i]['text']}\")"
   ]
  },
  {
   "cell_type": "markdown",
   "metadata": {},
   "source": [
    "# Sauvegarde du jeu d'exemple"
   ]
  },
  {
   "cell_type": "code",
   "execution_count": 15,
   "metadata": {},
   "outputs": [],
   "source": [
    "new_df.loc[rand_obs].to_csv(data_dir + city_name + '_sample.csv')"
   ]
  },
  {
   "cell_type": "code",
   "execution_count": null,
   "metadata": {},
   "outputs": [],
   "source": []
  }
 ],
 "metadata": {
  "kernelspec": {
   "display_name": "Python 3",
   "language": "python",
   "name": "python3"
  },
  "language_info": {
   "codemirror_mode": {
    "name": "ipython",
    "version": 3
   },
   "file_extension": ".py",
   "mimetype": "text/x-python",
   "name": "python",
   "nbconvert_exporter": "python",
   "pygments_lexer": "ipython3",
   "version": "3.8.5"
  }
 },
 "nbformat": 4,
 "nbformat_minor": 4
}
