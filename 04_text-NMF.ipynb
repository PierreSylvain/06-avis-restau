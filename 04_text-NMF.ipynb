{
 "cells": [
  {
   "cell_type": "markdown",
   "metadata": {},
   "source": [
    "# Analyse des données textuelles\n",
    "\n",
    "À partir des données l'application [Yelp](https://www.yelp.fr), traiter les sujets d'insatisfaction dans les commentaires client.\n",
    "\n",
    "**Analyser les commentaires pour détecter les différents sujets d’insatisfaction**\n",
    " - pré-traitement des données textuelles\n",
    " - utilisation de techniques de réduction de dimension\n",
    " - visualisation des données de grandes dimensions\n",
    "\n",
    "**Collecter un échantillon (environ 200 restaurants) de données via l’API Yelp**\n",
    " - récupérer uniquement les champs nécessaires\n",
    " - stocker les résultats dans un fichier exploitable (par exemple csv)\n",
    " \n",
    " \n",
    "Cette deuxième partie concerne le modèle **Non Negative Matrix Factorization (NMF)** afin de trouver le nombre et le genre des sujets d'insatisfaction.\n"
   ]
  },
  {
   "cell_type": "markdown",
   "metadata": {},
   "source": [
    "## Non Negative Matrix Factorization\n",
    "\n",
    "La NMF décompose les caractéristiques des données originales (matrice) en un produit de deux matrices de rang inférieur. La NMF utilise une approche itérative pour modifier les valeurs initiales des 2 nouvelle matrices afin que le produit se rapproche le plus des données originales. Lorsque l'erreur d'approximation converge ou que le nombre d'itérations défini par l'utilisateur est atteint, la NMF se termine."
   ]
  },
  {
   "cell_type": "markdown",
   "metadata": {},
   "source": [
    "# Chargement des bibliothèques"
   ]
  },
  {
   "cell_type": "code",
   "execution_count": 1,
   "metadata": {},
   "outputs": [],
   "source": [
    "import numpy as np\n",
    "import pandas as pd\n",
    "\n",
    "from sklearn.feature_extraction.text import TfidfVectorizer\n",
    "from sklearn.metrics import silhouette_score\n",
    "from sklearn.decomposition import NMF\n",
    "\n",
    "import matplotlib.pyplot as plt\n",
    "%matplotlib inline\n",
    "\n",
    "import pickle\n",
    "import random\n",
    "\n",
    "from IPython.display import Markdown, Latex"
   ]
  },
  {
   "cell_type": "code",
   "execution_count": 2,
   "metadata": {},
   "outputs": [],
   "source": [
    "# Nécessaire lors de la phase de développement pour mettre à jour la classe olist dans le notebook\n",
    "%load_ext autoreload\n",
    "%autoreload 2"
   ]
  },
  {
   "cell_type": "code",
   "execution_count": 3,
   "metadata": {},
   "outputs": [],
   "source": [
    "import warnings\n",
    "warnings.filterwarnings(\"ignore\", category=DeprecationWarning)"
   ]
  },
  {
   "cell_type": "code",
   "execution_count": 4,
   "metadata": {},
   "outputs": [],
   "source": [
    "data_dir = '../data/'"
   ]
  },
  {
   "cell_type": "markdown",
   "metadata": {},
   "source": [
    "# Entrainement du modèle"
   ]
  },
  {
   "cell_type": "markdown",
   "metadata": {},
   "source": [
    "## Chargement des données précédement traitées"
   ]
  },
  {
   "cell_type": "code",
   "execution_count": 5,
   "metadata": {},
   "outputs": [],
   "source": [
    "df = pd.read_csv(data_dir + 'train_reviews.csv')\n",
    "test = pd.read_csv(data_dir + 'test_reviews.csv')"
   ]
  },
  {
   "cell_type": "markdown",
   "metadata": {},
   "source": [
    "## Création du corpus"
   ]
  },
  {
   "cell_type": "code",
   "execution_count": 6,
   "metadata": {},
   "outputs": [],
   "source": [
    "# tf_idf = TfidfVectorizer()\n",
    "# La même vectorisation est conservée pour tous les modèles \n",
    "tf_idf = pickle.load(open(\"models/TfidfVectorizer.pkl\", \"rb\"))\n",
    "tf_idf_data = tf_idf.fit_transform(df['clean_text'])"
   ]
  },
  {
   "cell_type": "markdown",
   "metadata": {},
   "source": [
    "## Recherche du nombre de topics\n",
    "Pour la recherche du nombre optimale de topics, nous allons utiliser le coefficient de silhoutte.\n",
    "\n",
    "Le **coefficient de Silhouette** vérifie si chaque document a bien été classé. Un document est bien classé si la distance qui le sépare de la classe la plus proche est très supérieure à celle qui le sépare de sa classe."
   ]
  },
  {
   "cell_type": "code",
   "execution_count": 7,
   "metadata": {},
   "outputs": [],
   "source": [
    "nmf_scores = []"
   ]
  },
  {
   "cell_type": "code",
   "execution_count": 8,
   "metadata": {},
   "outputs": [
    {
     "name": "stdout",
     "output_type": "stream",
     "text": [
      "Cluster 2: Silhouette score 0.0045\n",
      "Cluster 5: Silhouette score 0.0044\n",
      "Cluster 8: Silhouette score 0.0046\n",
      "Cluster 11: Silhouette score 0.0052\n",
      "Cluster 14: Silhouette score 0.0058\n",
      "Cluster 17: Silhouette score 0.0059\n"
     ]
    }
   ],
   "source": [
    "for n_components in range(2, 20, 3):\n",
    "    nmf = NMF(n_components=n_components, random_state=63,alpha=.1, l1_ratio=.5, max_iter=3000)\n",
    "    nmf.fit(tf_idf_data)\n",
    "    nmf_features = nmf.transform(tf_idf_data)\n",
    "    labels = nmf_features.argmax(axis=1)\n",
    "    score = silhouette_score(tf_idf_data, labels)\n",
    "    nmf_scores.append(score)\n",
    "    print(f\"Cluster {n_components}: Silhouette score {score:.4f}\")"
   ]
  },
  {
   "cell_type": "markdown",
   "metadata": {},
   "source": [
    "# Sélection du nombre de topics"
   ]
  },
  {
   "cell_type": "code",
   "execution_count": 9,
   "metadata": {},
   "outputs": [
    {
     "data": {
      "text/plain": [
       "Text(0.5, 1.0, 'Estimation du nombre de clusters avec le coefficient de silhouette')"
      ]
     },
     "execution_count": 9,
     "metadata": {},
     "output_type": "execute_result"
    },
    {
     "data": {
      "image/png": "[encoded data removed]",
      "text/plain": [
       "<Figure size 432x288 with 1 Axes>"
      ]
     },
     "metadata": {
      "needs_background": "light"
     },
     "output_type": "display_data"
    }
   ],
   "source": [
    "f, ax = plt.subplots(1, 1)\n",
    "ax.plot(range(2, 20, 3), nmf_scores, marker='o')\n",
    "ax.set_xlabel('Nombre de clusters')\n",
    "ax.set_xticks(range(2, 20, 3))\n",
    "ax.set_xticklabels(range(2, 20, 3))\n",
    "ax.set_ylabel('Coefficient silhouette')\n",
    "ax.set_title('Estimation du nombre de clusters avec le coefficient de silhouette')"
   ]
  },
  {
   "cell_type": "markdown",
   "metadata": {},
   "source": [
    "D'après le modèle NMF le nombre de topic optimal est 8.\n",
    "\n",
    "Nous allons tenter d'expliquer les topics trouvés avec les mots clés qui ont été classés."
   ]
  },
  {
   "cell_type": "markdown",
   "metadata": {},
   "source": [
    "# Explication des topics"
   ]
  },
  {
   "cell_type": "code",
   "execution_count": 10,
   "metadata": {},
   "outputs": [],
   "source": [
    "num_topics = 8"
   ]
  },
  {
   "cell_type": "code",
   "execution_count": 11,
   "metadata": {},
   "outputs": [],
   "source": [
    "nmf = NMF(n_components=num_topics, random_state=63,alpha=.1, l1_ratio=.5, max_iter=3000)\n",
    "nmf.fit(tf_idf_data)\n",
    "nmf_features = nmf.transform(tf_idf_data)\n",
    "pickle.dump(nmf, open(\"models/nmf.pkl\", \"wb\"))"
   ]
  },
  {
   "cell_type": "code",
   "execution_count": null,
   "metadata": {},
   "outputs": [],
   "source": []
  },
  {
   "cell_type": "code",
   "execution_count": 12,
   "metadata": {},
   "outputs": [
    {
     "name": "stdout",
     "output_type": "stream",
     "text": [
      "1551 - Awful service, really awful service, did I say afwul service. If that was in America they would even exist.Thanks god my amazing friend was with me.\n",
      "1148 - An absolute nightmare and a disaster of what used to be over 20 years ago the best Fish and Chips in London, can t even get a miserable prawn cocktail on...\n",
      "1604 - I'm going to preface this review with the fact that I MAY be a little bit of a dim sum snob coming from a Chinese family. If it were at home I would...\n",
      "254 - ok, it's ok - but despite its claim, it's not Japanese.  The atmosphere is friendly, modern and inviting.  The cooks constant shouting of \"Hey!\" on the...\n"
     ]
    }
   ],
   "source": [
    "new_df = pd.read_csv(data_dir + 'london_clean.csv')\n",
    "new_df = new_df[new_df['bad_review'] == 1]\n",
    "rand_obs = random.sample(list(new_df.index), 4)\n",
    "for i in rand_obs:\n",
    "    print(f\"{i} - {new_df.loc[i]['text']}\")"
   ]
  },
  {
   "cell_type": "code",
   "execution_count": 13,
   "metadata": {},
   "outputs": [],
   "source": [
    "X_new = nmf.transform(tf_idf_data)\n",
    "predicted_topics = [np.argsort(each)[::-1][0] for each in X_new]"
   ]
  },
  {
   "cell_type": "code",
   "execution_count": 14,
   "metadata": {
    "scrolled": false
   },
   "outputs": [
    {
     "name": "stdout",
     "output_type": "stream",
     "text": [
      "For topic 1\n",
      "place     4.344604\n",
      "go        3.312263\n",
      "good      2.699193\n",
      "really    2.156544\n",
      "time      1.982860\n",
      "Name: 0, dtype: float64\n",
      "\n",
      "\n",
      "For topic 2\n",
      "chicken    4.720625\n",
      "taste      2.564865\n",
      "sauce      2.142593\n",
      "rice       1.961849\n",
      "fry        1.694496\n",
      "Name: 1, dtype: float64\n",
      "\n",
      "\n",
      "For topic 3\n",
      "pizza      8.708810\n",
      "crust      0.942700\n",
      "cheese     0.844710\n",
      "slice      0.715019\n",
      "topping    0.562885\n",
      "Name: 2, dtype: float64\n",
      "\n",
      "\n",
      "For topic 4\n",
      "order    7.380032\n",
      "call     3.093762\n",
      "say      1.973207\n",
      "time     1.952125\n",
      "tell     1.822715\n",
      "Name: 3, dtype: float64\n",
      "\n",
      "\n",
      "For topic 5\n",
      "food        6.681646\n",
      "service     6.548041\n",
      "bad         4.536215\n",
      "terrible    2.265517\n",
      "horrible    2.109651\n",
      "Name: 4, dtype: float64\n",
      "\n",
      "\n",
      "For topic 6\n",
      "wait      7.958199\n",
      "minute    5.362014\n",
      "hour      2.243141\n",
      "long      1.526091\n",
      "seat      1.430380\n",
      "Name: 5, dtype: float64\n",
      "\n",
      "\n",
      "For topic 7\n",
      "burger    7.605296\n",
      "fry       2.534025\n",
      "bun       0.678765\n",
      "patty     0.553121\n",
      "onion     0.505852\n",
      "Name: 6, dtype: float64\n",
      "\n",
      "\n",
      "For topic 8\n",
      "table     3.565205\n",
      "come      3.499110\n",
      "drink     3.064437\n",
      "ask       3.022062\n",
      "server    2.389497\n",
      "Name: 7, dtype: float64\n",
      "\n",
      "\n"
     ]
    }
   ],
   "source": [
    "components_df = pd.DataFrame(nmf.components_, columns=tf_idf.get_feature_names())\n",
    "\n",
    "for topic in range(components_df.shape[0]):\n",
    "    tmp = components_df.iloc[topic]\n",
    "    print(f'For topic {topic+1}')\n",
    "    print(tmp.nlargest(5))\n",
    "    print('\\n')\n"
   ]
  },
  {
   "cell_type": "markdown",
   "metadata": {},
   "source": [
    "# Prédictions"
   ]
  },
  {
   "cell_type": "markdown",
   "metadata": {},
   "source": [
    "## Prédiction avec de données de test"
   ]
  },
  {
   "cell_type": "code",
   "execution_count": 15,
   "metadata": {},
   "outputs": [
    {
     "data": {
      "text/markdown": [
       "**Topic 8 - ['table', 'come', 'drink', 'ask', 'server']**"
      ],
      "text/plain": [
       "<IPython.core.display.Markdown object>"
      ]
     },
     "metadata": {},
     "output_type": "display_data"
    },
    {
     "data": {
      "text/markdown": [
       "> Rude staff. Came today, walked in.... No one here ( now I understand why )... The Greeter ( of all people ) provided me this sub-par performance.  Me - as she is seating me outside,,, \"so do ya think it's gonna rain.\"  Greeter - \"I don't know, I don't work for the weather department\".   I'll never come back to this crappy."
      ],
      "text/plain": [
       "<IPython.core.display.Markdown object>"
      ]
     },
     "metadata": {},
     "output_type": "display_data"
    },
    {
     "data": {
      "text/markdown": [
       "**Topic 1 - ['place', 'go', 'good', 'really', 'time']**"
      ],
      "text/plain": [
       "<IPython.core.display.Markdown object>"
      ]
     },
     "metadata": {},
     "output_type": "display_data"
    },
    {
     "data": {
      "text/markdown": [
       "> Bagels on point - no worries there. BUT cleanliness was seriously lacking. All pretty young people working here , while I was waiting for a new batch of coffee to brew, I was watching employees work and a couple of them whotou he's food had gloves on , but the barista/coffee dude literally was scratching his scalp and skin and then making drinks. Just NO. Floors were sticky. Bathroom was a mess. Self serve coffee bar had milk and sugar all over it. Just a hot mess. But like I said if you're here for bagels you're all good. Coffee... NOT their specialty. I could've assumed that. My bad."
      ],
      "text/plain": [
       "<IPython.core.display.Markdown object>"
      ]
     },
     "metadata": {},
     "output_type": "display_data"
    },
    {
     "data": {
      "text/markdown": [
       "**Topic 2 - ['chicken', 'taste', 'sauce', 'rice', 'fry']**"
      ],
      "text/plain": [
       "<IPython.core.display.Markdown object>"
      ]
     },
     "metadata": {},
     "output_type": "display_data"
    },
    {
     "data": {
      "text/markdown": [
       "> This place is Meh. Looking at the menu, it is very generic. I guess since it is a chain, not very authentic. Also the food is very bland with no flavor. I ordered black beans, they were basically just black beans out of the can that I could have eaten at home. And then they don't even offer complimentary chips and salsa??? Also the waitress got our order wrong, even after she repeated it to us. I just was not impressed. And I am sad, because its walking distance and I was really hoping for this to be my new spot. But oh well. Maybe you will have a better experience. But if I am craving some tex mex or tacos, I will not be coming here."
      ],
      "text/plain": [
       "<IPython.core.display.Markdown object>"
      ]
     },
     "metadata": {},
     "output_type": "display_data"
    },
    {
     "data": {
      "text/markdown": [
       "**Topic 1 - ['place', 'go', 'good', 'really', 'time']**"
      ],
      "text/plain": [
       "<IPython.core.display.Markdown object>"
      ]
     },
     "metadata": {},
     "output_type": "display_data"
    },
    {
     "data": {
      "text/markdown": [
       "> In a nutshell...warmed over food.    1, Luke warm, twice cooked crab legs that LOOKED as if they were on their second presentation.  A fresh claw was mixed in for proper deception. 2. Burnt and dried out baked potato....sent back. A fresh one was delivered much later. (NEVER received the requested sour cream).  3. Video music increased a whole decibel by the half hour to the point where conversation with friends was virtually impossible!   I doubted the place when the invitation was offered to join friends there for Girls Night. Unfortunately, my  expectations were confirmed. I left early. I found out later that my friends quickly followed suit.  A waste of money and time for ladies who simply wanted a crab legs - girls night out in OUR community."
      ],
      "text/plain": [
       "<IPython.core.display.Markdown object>"
      ]
     },
     "metadata": {},
     "output_type": "display_data"
    },
    {
     "data": {
      "text/markdown": [
       "**Topic 2 - ['chicken', 'taste', 'sauce', 'rice', 'fry']**"
      ],
      "text/plain": [
       "<IPython.core.display.Markdown object>"
      ]
     },
     "metadata": {},
     "output_type": "display_data"
    },
    {
     "data": {
      "text/markdown": [
       "> It is trash there was a rat in my soup and it bit me and gave me ebola at least the chicken was good and the rat wasn't even cooked"
      ],
      "text/plain": [
       "<IPython.core.display.Markdown object>"
      ]
     },
     "metadata": {},
     "output_type": "display_data"
    },
    {
     "data": {
      "text/markdown": [
       "**Topic 6 - ['wait', 'minute', 'hour', 'long', 'seat']**"
      ],
      "text/plain": [
       "<IPython.core.display.Markdown object>"
      ]
     },
     "metadata": {},
     "output_type": "display_data"
    },
    {
     "data": {
      "text/markdown": [
       "> I have been to this location twice now. The first time we experienced poor service, a dirty restaurant, and our food came out piece by piece over a course of 10 minutes. Yesterday I returned for carry out. My sausage biscuit breakfast was made using an uncooked English muffin. We arrived 20 minutes after ordering (they told us it'd be ready in 15) and still waited 10 minutes before receiving our meal.  As an ex-employee of Bob Evans and customer of many locations across the country, this has been the worst one I've seen. I do not recommend eating here.  There are a number of better breakfast options in the area such as Scottys just west on broad st.."
      ],
      "text/plain": [
       "<IPython.core.display.Markdown object>"
      ]
     },
     "metadata": {},
     "output_type": "display_data"
    },
    {
     "data": {
      "text/markdown": [
       "**Topic 7 - ['burger', 'fry', 'bun', 'patty', 'onion']**"
      ],
      "text/plain": [
       "<IPython.core.display.Markdown object>"
      ]
     },
     "metadata": {},
     "output_type": "display_data"
    },
    {
     "data": {
      "text/markdown": [
       "> BOO! We walked in before seeing a movie at the Hollywood theater. Place was empty. Wife got a beer. I ordered water. Look at the menu. I went for the \"stuffed\" burger. Wife got Fish n chips. Food took a while and the place filled up pretty quickly. My burger was way over cooked and not stuffed. laying one piece of bacon between two thin burger patties and pressing them together is not stuffed. The fish and chips were oily and heavy on the breading. wife pulled the fish out of the center and it was mostly fresh tasting.  Like I said, I orders water and the wife ordered a beer. After we got our food, the waitress never came back for refills.  I was dying. super dry burger, no water, and no waitress. Once we had been done eating for 10 minutes she wondered by with water and we got our check. 10 minutes later I went to the bar to pay my bill. I can't say I will ever find a reason to go back."
      ],
      "text/plain": [
       "<IPython.core.display.Markdown object>"
      ]
     },
     "metadata": {},
     "output_type": "display_data"
    },
    {
     "data": {
      "text/markdown": [
       "**Topic 8 - ['table', 'come', 'drink', 'ask', 'server']**"
      ],
      "text/plain": [
       "<IPython.core.display.Markdown object>"
      ]
     },
     "metadata": {},
     "output_type": "display_data"
    },
    {
     "data": {
      "text/markdown": [
       "> Had a great experience before so for a special occasion I wanted to try again. Requested a specific area to sit and was seated there immediately. The server said they were running behind and asked for our patience. No problem as we were not in a hurry. Ordered calamari as appetizer which was great but took 40 minutes to get. 50 minutes later our meal came. It was obvious that the meals had been placed under the warming lights for some time. The lobster tail was dry on the top and so was the steak. This did not make sense that the meal was under the heating lights at all if they were running behind.  Can't honestly say it was the server or the restaurant. We ate and the meals were tasty but not up to our expectations nor even close to our previous experience. Asked the server to speak to the manger about our experience and what seemed to be excessive fat in the prime rib........we left because the manager did not come to the table and  over 2 hours of this dining experience was enough. I will try them again only because my first experience was so great."
      ],
      "text/plain": [
       "<IPython.core.display.Markdown object>"
      ]
     },
     "metadata": {},
     "output_type": "display_data"
    },
    {
     "data": {
      "text/markdown": [
       "**Topic 1 - ['place', 'go', 'good', 'really', 'time']**"
      ],
      "text/plain": [
       "<IPython.core.display.Markdown object>"
      ]
     },
     "metadata": {},
     "output_type": "display_data"
    },
    {
     "data": {
      "text/markdown": [
       "> We are from our of town so our first time in. Bartender was not friendly, didn't explain or care to inform us of some of the local beers on tap. Nice place to bad we had horrible experience here. Go to other places in area besides this place when visiting Vancouver, Washington."
      ],
      "text/plain": [
       "<IPython.core.display.Markdown object>"
      ]
     },
     "metadata": {},
     "output_type": "display_data"
    },
    {
     "data": {
      "text/markdown": [
       "**Topic 1 - ['place', 'go', 'good', 'really', 'time']**"
      ],
      "text/plain": [
       "<IPython.core.display.Markdown object>"
      ]
     },
     "metadata": {},
     "output_type": "display_data"
    },
    {
     "data": {
      "text/markdown": [
       "> Used to really like this place but the food seems more and more bland. Maybe because the menu has not changed since the 20th century. One plus of this place was that it was a BYOB. No more. Now if you want to have a beer with dinner you have a choice of Bud and Bud Light. BORING. At least the beer is consistent with the menu. One less reason to go to Mario's."
      ],
      "text/plain": [
       "<IPython.core.display.Markdown object>"
      ]
     },
     "metadata": {},
     "output_type": "display_data"
    }
   ],
   "source": [
    "for index, row in test.iterrows():\n",
    "    words = []\n",
    "    X = tf_idf.transform([row['clean_text']])\n",
    "    nmf_features = nmf.transform(X)\n",
    "    topic = pd.DataFrame(nmf_features).idxmax(axis=1)[0]\n",
    "       \n",
    "    tmp = components_df.iloc[topic]\n",
    "    for w in tmp.nlargest(5).index:\n",
    "        words.append(w)\n",
    "    \n",
    "    display(Markdown(f\"**Topic {topic + 1} - {words}**\"))\n",
    "    display(Markdown(f\"> {str(row['text'])}\"))    "
   ]
  },
  {
   "cell_type": "markdown",
   "metadata": {},
   "source": [
    "## Prédiction avec de nouvelles données en provenance de l'API Yelp"
   ]
  },
  {
   "cell_type": "markdown",
   "metadata": {},
   "source": [
    "## Chargement des données"
   ]
  },
  {
   "cell_type": "code",
   "execution_count": 16,
   "metadata": {},
   "outputs": [],
   "source": [
    "new_df = pd.read_csv(data_dir + 'london_sample.csv')"
   ]
  },
  {
   "cell_type": "markdown",
   "metadata": {},
   "source": [
    "## Prédictions"
   ]
  },
  {
   "cell_type": "code",
   "execution_count": 17,
   "metadata": {},
   "outputs": [
    {
     "data": {
      "text/markdown": [
       "**Topic 4 - ['order', 'call', 'say', 'time', 'tell']**"
      ],
      "text/plain": [
       "<IPython.core.display.Markdown object>"
      ]
     },
     "metadata": {},
     "output_type": "display_data"
    },
    {
     "data": {
      "text/markdown": [
       "> Terrible service from the time I sat down. Had to flag down multiple people other than our actual waitress whom was nowhere to be found in order to order..."
      ],
      "text/plain": [
       "<IPython.core.display.Markdown object>"
      ]
     },
     "metadata": {},
     "output_type": "display_data"
    },
    {
     "data": {
      "text/markdown": [
       "**Topic 3 - ['pizza', 'crust', 'cheese', 'slice', 'topping']**"
      ],
      "text/plain": [
       "<IPython.core.display.Markdown object>"
      ]
     },
     "metadata": {},
     "output_type": "display_data"
    },
    {
     "data": {
      "text/markdown": [
       "> If you like Burned Pizza and Bad Service that is the place for you. We ordered a pizza to go and the pizza was soggy, soft and very burned under the..."
      ],
      "text/plain": [
       "<IPython.core.display.Markdown object>"
      ]
     },
     "metadata": {},
     "output_type": "display_data"
    },
    {
     "data": {
      "text/markdown": [
       "**Topic 5 - ['food', 'service', 'bad', 'terrible', 'horrible']**"
      ],
      "text/plain": [
       "<IPython.core.display.Markdown object>"
      ]
     },
     "metadata": {},
     "output_type": "display_data"
    },
    {
     "data": {
      "text/markdown": [
       "> We were frequent visitors of Vapiano's when we lived in Vienna, so we know what to expect, and I have to say their food and service were always..."
      ],
      "text/plain": [
       "<IPython.core.display.Markdown object>"
      ]
     },
     "metadata": {},
     "output_type": "display_data"
    },
    {
     "data": {
      "text/markdown": [
       "**Topic 8 - ['table', 'come', 'drink', 'ask', 'server']**"
      ],
      "text/plain": [
       "<IPython.core.display.Markdown object>"
      ]
     },
     "metadata": {},
     "output_type": "display_data"
    },
    {
     "data": {
      "text/markdown": [
       "> Walked in for dinner. First night in London and super excited for meat & ale pie. Sat at a table upstairs. 10 minutes went by and no one came around at all...."
      ],
      "text/plain": [
       "<IPython.core.display.Markdown object>"
      ]
     },
     "metadata": {},
     "output_type": "display_data"
    }
   ],
   "source": [
    "for index, row in new_df.iterrows():\n",
    "    words = []\n",
    "    X = tf_idf.transform([row['clean_text']])\n",
    "    nmf_features = nmf.transform(X)\n",
    "    topic = pd.DataFrame(nmf_features).idxmax(axis=1)[0]\n",
    "       \n",
    "    tmp = components_df.iloc[topic]\n",
    "    for w in tmp.nlargest(5).index:\n",
    "        words.append(w)\n",
    "    \n",
    "    display(Markdown(f\"**Topic {topic + 1} - {words}**\"))\n",
    "    display(Markdown(f\"> {str(row['text'])}\"))    "
   ]
  },
  {
   "cell_type": "code",
   "execution_count": null,
   "metadata": {},
   "outputs": [],
   "source": []
  }
 ],
 "metadata": {
  "kernelspec": {
   "display_name": "Python 3",
   "language": "python",
   "name": "python3"
  },
  "language_info": {
   "codemirror_mode": {
    "name": "ipython",
    "version": 3
   },
   "file_extension": ".py",
   "mimetype": "text/x-python",
   "name": "python",
   "nbconvert_exporter": "python",
   "pygments_lexer": "ipython3",
   "version": "3.8.5"
  }
 },
 "nbformat": 4,
 "nbformat_minor": 4
}
