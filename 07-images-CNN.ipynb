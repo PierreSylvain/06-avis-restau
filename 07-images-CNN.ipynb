{
 "cells": [
  {
   "cell_type": "markdown",
   "metadata": {},
   "source": [
    "# Réseau Neuronal Convolutif (CNN)\n",
    "\n",
    "Votre entreprise souhaite améliorer sa plateforme avec une nouvelle fonctionnalité de collaboration. Les utilisateurs pourront par exemple poster des avis et des photos sur leur restaurant préféré. Ce sera aussi l’occasion, pour l’entreprise, de mieux comprendre les avis postés par les utilisateurs.\n",
    "\n",
    "**Objectif** : Labelliser automatiquement les photos postées sur la plateforme. Par exemple, identifier les photos relatives à la nourriture, au décor dans le restaurant ou à l’extérieur du restaurant."
   ]
  },
  {
   "cell_type": "markdown",
   "metadata": {},
   "source": [
    "# Sommaire\n",
    "\n",
    " 1. [Chargement des bibliothèques](#load-lib)\n",
    " 2. [Chargement des données](#load-data)\n",
    "\t1. [Sélection d'un échantillon](#select-sample)\n",
    "    2. [Création des data frame](#create-df)\n",
    " 3. [Préparation des données](#prepare-photos)\n",
    " 4. [Définition du modèle](#cnn-model)\n",
    " 5. [Entrainement du modèle](#train-model)\n",
    " 6. [Performances du modèle](#pref-model)\n",
    " 7. [Prédictions](#predict)\n",
    " 8. [Conclusion](#conclusion)"
   ]
  },
  {
   "cell_type": "markdown",
   "metadata": {},
   "source": [
    "# Chargement des bibliothèques <a class=\"anchor\" id=\"load_lib\"></a>"
   ]
  },
  {
   "cell_type": "code",
   "execution_count": 1,
   "metadata": {},
   "outputs": [
    {
     "name": "stderr",
     "output_type": "stream",
     "text": [
      "Using TensorFlow backend.\n"
     ]
    }
   ],
   "source": [
    "import numpy as np\n",
    "import pandas as pd\n",
    "from sklearn.model_selection import train_test_split\n",
    "\n",
    "import keras\n",
    "from keras.models import Sequential\n",
    "from keras.layers import Conv2D\n",
    "from keras.layers import MaxPooling2D\n",
    "from keras.layers import Dense, Activation\n",
    "from keras.layers import Dropout\n",
    "from keras.layers import Flatten\n",
    "from keras.optimizers import SGD\n",
    "from keras_preprocessing.image import ImageDataGenerator\n",
    "from keras import regularizers, optimizers\n",
    "from sklearn import cluster, metrics\n",
    "import matplotlib.pyplot as plt\n",
    "import seaborn as sns\n",
    "%matplotlib inline\n",
    "from matplotlib.image import imread"
   ]
  },
  {
   "cell_type": "code",
   "execution_count": 2,
   "metadata": {},
   "outputs": [],
   "source": [
    "datafile = '../data/photos.json'\n",
    "img_dir = '../data/photos/'\n",
    "img_clean_dir = '../data/clean_photos/'\n",
    "outputfile = '../data/clean_photos.csv'\n",
    "outputfile_raw = '../data/raw_photos.csv'\n",
    "chunksize = 10000"
   ]
  },
  {
   "cell_type": "markdown",
   "metadata": {},
   "source": [
    "# Chargement des données <a class=\"anchor\" id=\"load_data\"></a>"
   ]
  },
  {
   "cell_type": "code",
   "execution_count": 3,
   "metadata": {},
   "outputs": [
    {
     "data": {
      "text/html": [
       "<div>\n",
       "<style scoped>\n",
       "    .dataframe tbody tr th:only-of-type {\n",
       "        vertical-align: middle;\n",
       "    }\n",
       "\n",
       "    .dataframe tbody tr th {\n",
       "        vertical-align: top;\n",
       "    }\n",
       "\n",
       "    .dataframe thead th {\n",
       "        text-align: right;\n",
       "    }\n",
       "</style>\n",
       "<table border=\"1\" class=\"dataframe\">\n",
       "  <thead>\n",
       "    <tr style=\"text-align: right;\">\n",
       "      <th></th>\n",
       "      <th>photo_id</th>\n",
       "      <th>label</th>\n",
       "    </tr>\n",
       "  </thead>\n",
       "  <tbody>\n",
       "    <tr>\n",
       "      <th>0</th>\n",
       "      <td>Un_Og6jfhazVn7CxszkKEw</td>\n",
       "      <td>drink</td>\n",
       "    </tr>\n",
       "    <tr>\n",
       "      <th>1</th>\n",
       "      <td>BFE1AFOs27scnnfeBf99ZA</td>\n",
       "      <td>drink</td>\n",
       "    </tr>\n",
       "    <tr>\n",
       "      <th>2</th>\n",
       "      <td>7t-C0r1JRdoVD9FS7M-N7Q</td>\n",
       "      <td>drink</td>\n",
       "    </tr>\n",
       "    <tr>\n",
       "      <th>3</th>\n",
       "      <td>rLnw0d-YYZvT9kR4y7h7_Q</td>\n",
       "      <td>drink</td>\n",
       "    </tr>\n",
       "    <tr>\n",
       "      <th>4</th>\n",
       "      <td>Cv5M8MDw8a5NEWvw2AQ4nw</td>\n",
       "      <td>drink</td>\n",
       "    </tr>\n",
       "  </tbody>\n",
       "</table>\n",
       "</div>"
      ],
      "text/plain": [
       "                 photo_id  label\n",
       "0  Un_Og6jfhazVn7CxszkKEw  drink\n",
       "1  BFE1AFOs27scnnfeBf99ZA  drink\n",
       "2  7t-C0r1JRdoVD9FS7M-N7Q  drink\n",
       "3  rLnw0d-YYZvT9kR4y7h7_Q  drink\n",
       "4  Cv5M8MDw8a5NEWvw2AQ4nw  drink"
      ]
     },
     "execution_count": 3,
     "metadata": {},
     "output_type": "execute_result"
    }
   ],
   "source": [
    "# Load data\n",
    "data = pd.read_csv('../data/clean_photos.csv')\n",
    "data.head()"
   ]
  },
  {
   "cell_type": "markdown",
   "metadata": {},
   "source": [
    "## Sélection d'un échantillon <a class=\"anchor\" id=\"select_sample\"></a>\n",
    "Nous allons sélectionner un échantillon de données équivalent dans chaque categories. Nous utiliserons 5000 images au totale qui seront réparties en 3500 images pour l'entrainement, 900 images pour la validation et 600 images pour les tests."
   ]
  },
  {
   "cell_type": "code",
   "execution_count": 4,
   "metadata": {},
   "outputs": [],
   "source": [
    "n_sample = 1000\n",
    "df_drink = data[data['label'] == 'drink'].sample(n=n_sample)\n",
    "df_menu = data[data['label'] == 'menu'].sample(n=n_sample)\n",
    "df_interior = data[data['label'] == 'interior'].sample(n=n_sample)\n",
    "df_outside = data[data['label'] == 'outside'].sample(n=n_sample)\n",
    "df_food = data[data['label'] == 'food'].sample(n=n_sample)\n",
    "\n",
    "data = pd.concat([df_drink, df_menu, df_interior,df_outside, df_food ], ignore_index=True)"
   ]
  },
  {
   "cell_type": "code",
   "execution_count": 5,
   "metadata": {},
   "outputs": [],
   "source": [
    "data['photo_id'] = data['photo_id'].apply(lambda x: x + '.jpg')"
   ]
  },
  {
   "cell_type": "markdown",
   "metadata": {},
   "source": [
    "## Création  des data frame (train, val et test) <a class=\"anchor\" id=\"load_lib\"></a>"
   ]
  },
  {
   "cell_type": "code",
   "execution_count": 6,
   "metadata": {},
   "outputs": [],
   "source": [
    "# Set train and val/test set\n",
    "X_train, X_test, y_train, y_test = train_test_split(data['photo_id'], data['label'], test_size=0.30, random_state=63)"
   ]
  },
  {
   "cell_type": "code",
   "execution_count": 7,
   "metadata": {},
   "outputs": [],
   "source": [
    "# Set val and test set\n",
    "X_val, X_test, y_val, y_test = train_test_split(X_test, y_test, test_size=0.40, random_state=63)"
   ]
  },
  {
   "cell_type": "code",
   "execution_count": 8,
   "metadata": {},
   "outputs": [
    {
     "name": "stdout",
     "output_type": "stream",
     "text": [
      "(3500,) images pour l'entrainement\n",
      "(900,) images pour la validation\n",
      "(600,) images pour les test\n"
     ]
    }
   ],
   "source": [
    "print(f\"{X_train.shape} images pour l'entrainement\")\n",
    "print(f\"{X_val.shape} images pour la validation\")\n",
    "print(f\"{X_test.shape} images pour les test\")"
   ]
  },
  {
   "cell_type": "code",
   "execution_count": 9,
   "metadata": {},
   "outputs": [],
   "source": [
    "# Set train, val and test data frame\n",
    "train_df = pd.DataFrame({ 'photo_id': X_train, 'label': y_train })\n",
    "val_df = pd.DataFrame({ 'photo_id': X_val, 'label': y_val })\n",
    "test_df = pd.DataFrame({ 'photo_id': X_test, 'label': y_test })"
   ]
  },
  {
   "cell_type": "markdown",
   "metadata": {},
   "source": [
    "# Préparation des images <a class=\"anchor\" id=\"prepare-photos\"></a>\n",
    "La préparation des images consiste à normaliser les images au niveau des pixels et à fixer leur dimensions (224x224 pixels)"
   ]
  },
  {
   "cell_type": "code",
   "execution_count": 10,
   "metadata": {},
   "outputs": [],
   "source": [
    "batch_size=64\n",
    "img_size=(224,224)"
   ]
  },
  {
   "cell_type": "code",
   "execution_count": 11,
   "metadata": {},
   "outputs": [],
   "source": [
    "# ImageDataGenerator\n",
    "train_datagen = ImageDataGenerator(rescale=1./255.)\n",
    "val_datagen = ImageDataGenerator(rescale=1./255.)\n",
    "test_datagen = ImageDataGenerator(rescale=1./255.)"
   ]
  },
  {
   "cell_type": "code",
   "execution_count": 12,
   "metadata": {},
   "outputs": [
    {
     "name": "stdout",
     "output_type": "stream",
     "text": [
      "Found 3500 validated image filenames belonging to 5 classes.\n"
     ]
    }
   ],
   "source": [
    "train_generator = train_datagen.flow_from_dataframe(\n",
    "            dataframe=train_df,\n",
    "            directory=img_dir,\n",
    "            x_col=\"photo_id\",\n",
    "            y_col=\"label\",\n",
    "            has_ext=True,      \n",
    "            image_size=img_size,\n",
    "            batch_size=batch_size,\n",
    "            seed=63,\n",
    "            shuffle=True,\n",
    "            class_mode=\"categorical\",\n",
    "            classes=['drink', 'menu', 'interior', 'outside', 'food'],\n",
    "            target_size=(img_size))"
   ]
  },
  {
   "cell_type": "code",
   "execution_count": 13,
   "metadata": {},
   "outputs": [
    {
     "name": "stdout",
     "output_type": "stream",
     "text": [
      "Found 900 validated image filenames belonging to 5 classes.\n"
     ]
    }
   ],
   "source": [
    "val_generator = val_datagen.flow_from_dataframe(\n",
    "            dataframe=val_df,\n",
    "            directory=img_dir,\n",
    "            x_col=\"photo_id\",\n",
    "            y_col=\"label\",\n",
    "            has_ext=True,      \n",
    "            image_size=img_size,\n",
    "            batch_size=batch_size,\n",
    "            seed=63,\n",
    "            shuffle=True,\n",
    "            class_mode=\"categorical\",\n",
    "            classes=['drink', 'menu', 'interior', 'outside', 'food'],\n",
    "            target_size=(img_size))"
   ]
  },
  {
   "cell_type": "code",
   "execution_count": 14,
   "metadata": {},
   "outputs": [
    {
     "name": "stdout",
     "output_type": "stream",
     "text": [
      "Found 600 validated image filenames belonging to 5 classes.\n"
     ]
    }
   ],
   "source": [
    "test_generator = test_datagen.flow_from_dataframe(\n",
    "            dataframe=test_df,\n",
    "            directory=img_dir,\n",
    "            x_col=\"photo_id\",\n",
    "            y_col=\"label\",\n",
    "            has_ext=True,            \n",
    "            batch_size=test_df.shape[0],\n",
    "            image_size=img_size,\n",
    "            seed=63,\n",
    "            shuffle=False,\n",
    "            class_mode=\"categorical\",\n",
    "            classes=['drink', 'menu', 'interior', 'outside', 'food'],\n",
    "            target_size=(img_size))"
   ]
  },
  {
   "cell_type": "markdown",
   "metadata": {},
   "source": [
    "# Définition du modèle <a class=\"anchor\" id=\"cnn-model\"></a>\n",
    "Nous avons choisi un réseau à convolution, car on obtient de bones performances sur les images, celui-ci est constitué de 3 blocs de 3 couches. Chaque bloc est constitué de :\n",
    " 1. Une couche de convolution (filtre) de 3x3 (Conv2D)\n",
    " 2. Une couche de réduction de la taille des images (MaxPooling)\n",
    " 3. Couche de mise à zéro aléatoire de valeurs (dropout)\n",
    "\n",
    "En fin le dernier bloc va effectuer les opérations suivantes : \n",
    " 1. Vectorisation\n",
    " 2. Création d'une couche de sortie avec les 5 categories\n"
   ]
  },
  {
   "cell_type": "code",
   "execution_count": 15,
   "metadata": {},
   "outputs": [
    {
     "name": "stdout",
     "output_type": "stream",
     "text": [
      "Model: \"sequential\"\n",
      "_________________________________________________________________\n",
      "Layer (type)                 Output Shape              Param #   \n",
      "=================================================================\n",
      "conv2d (Conv2D)              (None, 224, 224, 32)      896       \n",
      "_________________________________________________________________\n",
      "max_pooling2d (MaxPooling2D) (None, 112, 112, 32)      0         \n",
      "_________________________________________________________________\n",
      "dropout (Dropout)            (None, 112, 112, 32)      0         \n",
      "_________________________________________________________________\n",
      "conv2d_1 (Conv2D)            (None, 112, 112, 64)      18496     \n",
      "_________________________________________________________________\n",
      "max_pooling2d_1 (MaxPooling2 (None, 56, 56, 64)        0         \n",
      "_________________________________________________________________\n",
      "dropout_1 (Dropout)          (None, 56, 56, 64)        0         \n",
      "_________________________________________________________________\n",
      "conv2d_2 (Conv2D)            (None, 56, 56, 128)       73856     \n",
      "_________________________________________________________________\n",
      "max_pooling2d_2 (MaxPooling2 (None, 28, 28, 128)       0         \n",
      "_________________________________________________________________\n",
      "dropout_2 (Dropout)          (None, 28, 28, 128)       0         \n",
      "_________________________________________________________________\n",
      "flatten (Flatten)            (None, 100352)            0         \n",
      "_________________________________________________________________\n",
      "dense (Dense)                (None, 5)                 501765    \n",
      "=================================================================\n",
      "Total params: 595,013\n",
      "Trainable params: 595,013\n",
      "Non-trainable params: 0\n",
      "_________________________________________________________________\n",
      "None\n"
     ]
    }
   ],
   "source": [
    "opt = SGD(lr=0.001, momentum=0.9)\n",
    "\n",
    "model = Sequential()\n",
    "model.add(Conv2D(32, (3, 3), activation='relu', kernel_initializer='he_uniform', padding='same', input_shape=(224, 224, 3)))\n",
    "model.add(MaxPooling2D((2, 2)))\n",
    "model.add(Dropout(0.25))\n",
    "\n",
    "model.add(Conv2D(64, (3, 3), activation='relu', kernel_initializer='he_uniform', padding='same'))\n",
    "model.add(MaxPooling2D((2, 2)))\n",
    "model.add(Dropout(0.25))\n",
    "\n",
    "model.add(Conv2D(128, (3, 3), activation='relu', kernel_initializer='he_uniform', padding='same'))\n",
    "model.add(MaxPooling2D((2, 2)))\n",
    "model.add(Dropout(0.25))\n",
    "\n",
    "model.add(Flatten())\n",
    "model.add(Dense(5, activation='softmax')) # meilleur pour plus de 2 categories\n",
    "# compile model\n",
    "opt = SGD(lr=0.001, momentum=0.9)\n",
    "model.compile(optimizer=opt, loss='categorical_crossentropy', metrics=['accuracy'])\n",
    "print(model.summary())"
   ]
  },
  {
   "cell_type": "markdown",
   "metadata": {},
   "source": [
    "# Entrainement du modèle <a class=\"anchor\" id=\"train-model\"></a>\n",
    "Pour l'entraienment du modèle nous avons choisi d'entrainer 100 fois les données avec une mise à jour de 109 fois par époque pour le jeu d'entrainement et de 28 fois pour le jeu de validation. "
   ]
  },
  {
   "cell_type": "code",
   "execution_count": 16,
   "metadata": {
    "scrolled": false
   },
   "outputs": [
    {
     "name": "stdout",
     "output_type": "stream",
     "text": [
      "Epoch 1/100\n",
      "54/54 [==============================] - 106s 2s/step - loss: 3.8091 - accuracy: 0.2749 - val_loss: 1.5462 - val_accuracy: 0.3158\n",
      "Epoch 2/100\n",
      "54/54 [==============================] - 105s 2s/step - loss: 1.3793 - accuracy: 0.4467 - val_loss: 1.3979 - val_accuracy: 0.4989\n",
      "Epoch 3/100\n",
      "54/54 [==============================] - 105s 2s/step - loss: 1.2529 - accuracy: 0.5230 - val_loss: 1.3156 - val_accuracy: 0.5346\n",
      "Epoch 4/100\n",
      "54/54 [==============================] - 105s 2s/step - loss: 1.1479 - accuracy: 0.5617 - val_loss: 1.2270 - val_accuracy: 0.5614\n",
      "Epoch 5/100\n",
      "54/54 [==============================] - 105s 2s/step - loss: 1.0863 - accuracy: 0.5832 - val_loss: 1.1769 - val_accuracy: 0.5725\n",
      "Epoch 6/100\n",
      "54/54 [==============================] - 106s 2s/step - loss: 1.0496 - accuracy: 0.6056 - val_loss: 1.1539 - val_accuracy: 0.5826\n",
      "Epoch 7/100\n",
      "54/54 [==============================] - 106s 2s/step - loss: 0.9944 - accuracy: 0.6446 - val_loss: 1.0887 - val_accuracy: 0.5904\n",
      "Epoch 8/100\n",
      "54/54 [==============================] - 105s 2s/step - loss: 0.9701 - accuracy: 0.6446 - val_loss: 1.1098 - val_accuracy: 0.5647\n",
      "Epoch 9/100\n",
      "54/54 [==============================] - 105s 2s/step - loss: 0.9574 - accuracy: 0.6505 - val_loss: 1.0855 - val_accuracy: 0.5725\n",
      "Epoch 10/100\n",
      "54/54 [==============================] - 105s 2s/step - loss: 0.9296 - accuracy: 0.6513 - val_loss: 1.0714 - val_accuracy: 0.5837\n",
      "Epoch 11/100\n",
      "54/54 [==============================] - 106s 2s/step - loss: 0.8787 - accuracy: 0.6831 - val_loss: 1.0377 - val_accuracy: 0.5926\n",
      "Epoch 12/100\n",
      "54/54 [==============================] - 105s 2s/step - loss: 0.8396 - accuracy: 0.6932 - val_loss: 1.0068 - val_accuracy: 0.6105\n",
      "Epoch 13/100\n",
      "54/54 [==============================] - 105s 2s/step - loss: 0.8094 - accuracy: 0.7063 - val_loss: 1.0063 - val_accuracy: 0.6161\n",
      "Epoch 14/100\n",
      "54/54 [==============================] - 105s 2s/step - loss: 0.7749 - accuracy: 0.7142 - val_loss: 1.0231 - val_accuracy: 0.6016\n",
      "Epoch 15/100\n",
      "54/54 [==============================] - 105s 2s/step - loss: 0.7594 - accuracy: 0.7267 - val_loss: 1.0023 - val_accuracy: 0.6004\n",
      "Epoch 16/100\n",
      "54/54 [==============================] - 105s 2s/step - loss: 0.7548 - accuracy: 0.7232 - val_loss: 0.9699 - val_accuracy: 0.6317\n",
      "Epoch 17/100\n",
      "54/54 [==============================] - 105s 2s/step - loss: 0.6854 - accuracy: 0.7584 - val_loss: 0.9700 - val_accuracy: 0.6362\n",
      "Epoch 18/100\n",
      "54/54 [==============================] - 105s 2s/step - loss: 0.6516 - accuracy: 0.7643 - val_loss: 0.9905 - val_accuracy: 0.6272\n",
      "Epoch 19/100\n",
      "54/54 [==============================] - 105s 2s/step - loss: 0.6494 - accuracy: 0.7701 - val_loss: 0.9770 - val_accuracy: 0.6127\n",
      "Epoch 20/100\n",
      "54/54 [==============================] - 105s 2s/step - loss: 0.6101 - accuracy: 0.7919 - val_loss: 1.0076 - val_accuracy: 0.6105\n",
      "Epoch 21/100\n",
      "54/54 [==============================] - 105s 2s/step - loss: 0.5666 - accuracy: 0.7974 - val_loss: 1.0040 - val_accuracy: 0.6116\n",
      "Epoch 22/100\n",
      "54/54 [==============================] - 105s 2s/step - loss: 0.5570 - accuracy: 0.8033 - val_loss: 1.0253 - val_accuracy: 0.6250\n",
      "Epoch 23/100\n",
      "54/54 [==============================] - 106s 2s/step - loss: 0.5429 - accuracy: 0.8009 - val_loss: 0.9761 - val_accuracy: 0.6261\n",
      "Epoch 24/100\n",
      "54/54 [==============================] - 105s 2s/step - loss: 0.5095 - accuracy: 0.8143 - val_loss: 0.9604 - val_accuracy: 0.6228\n",
      "Epoch 25/100\n",
      "54/54 [==============================] - 105s 2s/step - loss: 0.4820 - accuracy: 0.8356 - val_loss: 1.0740 - val_accuracy: 0.5938\n",
      "Epoch 26/100\n",
      "54/54 [==============================] - 106s 2s/step - loss: 0.4477 - accuracy: 0.8495 - val_loss: 1.0709 - val_accuracy: 0.5915\n",
      "Epoch 27/100\n",
      "54/54 [==============================] - 105s 2s/step - loss: 0.4309 - accuracy: 0.8603 - val_loss: 1.1249 - val_accuracy: 0.5926\n",
      "Epoch 28/100\n",
      "54/54 [==============================] - 105s 2s/step - loss: 0.4185 - accuracy: 0.8600 - val_loss: 0.9722 - val_accuracy: 0.6406\n",
      "Epoch 29/100\n",
      "54/54 [==============================] - 105s 2s/step - loss: 0.3826 - accuracy: 0.8798 - val_loss: 1.1049 - val_accuracy: 0.6116\n",
      "Epoch 30/100\n",
      "54/54 [==============================] - 105s 2s/step - loss: 0.3389 - accuracy: 0.8909 - val_loss: 1.0227 - val_accuracy: 0.6362\n",
      "Epoch 31/100\n",
      "54/54 [==============================] - 105s 2s/step - loss: 0.3277 - accuracy: 0.8955 - val_loss: 1.0034 - val_accuracy: 0.6161\n",
      "Epoch 32/100\n",
      "54/54 [==============================] - 105s 2s/step - loss: 0.2989 - accuracy: 0.9098 - val_loss: 1.0377 - val_accuracy: 0.6339\n",
      "Epoch 33/100\n",
      "54/54 [==============================] - 105s 2s/step - loss: 0.2868 - accuracy: 0.9104 - val_loss: 1.0682 - val_accuracy: 0.6205\n",
      "Epoch 34/100\n",
      "54/54 [==============================] - 105s 2s/step - loss: 0.2709 - accuracy: 0.9133 - val_loss: 1.2113 - val_accuracy: 0.6205\n",
      "Epoch 35/100\n",
      "54/54 [==============================] - 105s 2s/step - loss: 0.2801 - accuracy: 0.9042 - val_loss: 1.0940 - val_accuracy: 0.6339\n",
      "Epoch 36/100\n",
      "54/54 [==============================] - 105s 2s/step - loss: 0.2352 - accuracy: 0.9351 - val_loss: 1.1942 - val_accuracy: 0.6116\n",
      "Epoch 37/100\n",
      "54/54 [==============================] - 105s 2s/step - loss: 0.2075 - accuracy: 0.9383 - val_loss: 1.0327 - val_accuracy: 0.6596\n",
      "Epoch 38/100\n",
      "54/54 [==============================] - 105s 2s/step - loss: 0.1904 - accuracy: 0.9459 - val_loss: 1.0619 - val_accuracy: 0.6507\n",
      "Epoch 39/100\n",
      "54/54 [==============================] - 105s 2s/step - loss: 0.1806 - accuracy: 0.9514 - val_loss: 1.1053 - val_accuracy: 0.6362\n",
      "Epoch 40/100\n",
      "54/54 [==============================] - 105s 2s/step - loss: 0.1757 - accuracy: 0.9494 - val_loss: 1.2536 - val_accuracy: 0.6239\n",
      "Epoch 41/100\n",
      "54/54 [==============================] - 105s 2s/step - loss: 0.1721 - accuracy: 0.9494 - val_loss: 1.1534 - val_accuracy: 0.6261\n",
      "Epoch 42/100\n",
      "54/54 [==============================] - 105s 2s/step - loss: 0.1632 - accuracy: 0.9505 - val_loss: 1.3243 - val_accuracy: 0.6083\n",
      "Epoch 43/100\n",
      "54/54 [==============================] - 105s 2s/step - loss: 0.1382 - accuracy: 0.9677 - val_loss: 1.2447 - val_accuracy: 0.6362\n",
      "Epoch 44/100\n",
      "54/54 [==============================] - 105s 2s/step - loss: 0.1157 - accuracy: 0.9747 - val_loss: 1.1609 - val_accuracy: 0.6585\n",
      "Epoch 45/100\n",
      "54/54 [==============================] - 105s 2s/step - loss: 0.1083 - accuracy: 0.9741 - val_loss: 1.1234 - val_accuracy: 0.6730\n",
      "Epoch 46/100\n",
      "54/54 [==============================] - 105s 2s/step - loss: 0.1094 - accuracy: 0.9735 - val_loss: 1.1882 - val_accuracy: 0.6618\n",
      "Epoch 47/100\n",
      "54/54 [==============================] - 105s 2s/step - loss: 0.1047 - accuracy: 0.9741 - val_loss: 1.2934 - val_accuracy: 0.6239\n",
      "Epoch 48/100\n",
      "54/54 [==============================] - 105s 2s/step - loss: 0.0928 - accuracy: 0.9811 - val_loss: 1.2482 - val_accuracy: 0.6607\n",
      "Epoch 49/100\n",
      "54/54 [==============================] - 105s 2s/step - loss: 0.0930 - accuracy: 0.9779 - val_loss: 1.3570 - val_accuracy: 0.6373\n",
      "Epoch 50/100\n",
      "54/54 [==============================] - 105s 2s/step - loss: 0.0873 - accuracy: 0.9808 - val_loss: 1.1960 - val_accuracy: 0.6629\n",
      "Epoch 51/100\n",
      "54/54 [==============================] - 105s 2s/step - loss: 0.0877 - accuracy: 0.9788 - val_loss: 1.2243 - val_accuracy: 0.6641\n",
      "Epoch 52/100\n",
      "54/54 [==============================] - 105s 2s/step - loss: 0.0853 - accuracy: 0.9817 - val_loss: 1.2477 - val_accuracy: 0.6551\n",
      "Epoch 53/100\n",
      "54/54 [==============================] - 105s 2s/step - loss: 0.0782 - accuracy: 0.9837 - val_loss: 1.3576 - val_accuracy: 0.6395\n",
      "Epoch 54/100\n",
      "54/54 [==============================] - 106s 2s/step - loss: 0.0606 - accuracy: 0.9905 - val_loss: 1.3333 - val_accuracy: 0.6440\n",
      "Epoch 55/100\n",
      "54/54 [==============================] - 106s 2s/step - loss: 0.0653 - accuracy: 0.9857 - val_loss: 1.2798 - val_accuracy: 0.6596\n",
      "Epoch 56/100\n",
      "54/54 [==============================] - 106s 2s/step - loss: 0.0559 - accuracy: 0.9889 - val_loss: 1.3307 - val_accuracy: 0.6629\n",
      "Epoch 57/100\n",
      "54/54 [==============================] - 106s 2s/step - loss: 0.0512 - accuracy: 0.9904 - val_loss: 1.4235 - val_accuracy: 0.6406\n",
      "Epoch 58/100\n"
     ]
    },
    {
     "name": "stdout",
     "output_type": "stream",
     "text": [
      "54/54 [==============================] - 106s 2s/step - loss: 0.0561 - accuracy: 0.9884 - val_loss: 1.3943 - val_accuracy: 0.6540\n",
      "Epoch 59/100\n",
      "54/54 [==============================] - 105s 2s/step - loss: 0.0563 - accuracy: 0.9898 - val_loss: 1.3630 - val_accuracy: 0.6719\n",
      "Epoch 60/100\n",
      "54/54 [==============================] - 105s 2s/step - loss: 0.0457 - accuracy: 0.9936 - val_loss: 1.3295 - val_accuracy: 0.6607\n",
      "Epoch 61/100\n",
      "54/54 [==============================] - 105s 2s/step - loss: 0.0575 - accuracy: 0.9843 - val_loss: 1.4049 - val_accuracy: 0.6596\n",
      "Epoch 62/100\n",
      "54/54 [==============================] - 111s 2s/step - loss: 0.0524 - accuracy: 0.9872 - val_loss: 1.3575 - val_accuracy: 0.6719\n",
      "Epoch 63/100\n",
      "54/54 [==============================] - 128s 2s/step - loss: 0.0578 - accuracy: 0.9866 - val_loss: 1.3498 - val_accuracy: 0.6741\n",
      "Epoch 64/100\n",
      "54/54 [==============================] - 113s 2s/step - loss: 0.0546 - accuracy: 0.9886 - val_loss: 1.3504 - val_accuracy: 0.6562\n",
      "Epoch 65/100\n",
      "54/54 [==============================] - 114s 2s/step - loss: 0.0401 - accuracy: 0.9939 - val_loss: 1.4548 - val_accuracy: 0.6607\n",
      "Epoch 66/100\n",
      "54/54 [==============================] - 120s 2s/step - loss: 0.0393 - accuracy: 0.9936 - val_loss: 1.4492 - val_accuracy: 0.6641\n",
      "Epoch 67/100\n",
      "54/54 [==============================] - 115s 2s/step - loss: 0.0389 - accuracy: 0.9933 - val_loss: 1.4331 - val_accuracy: 0.6652\n",
      "Epoch 68/100\n",
      "54/54 [==============================] - 117s 2s/step - loss: 0.0358 - accuracy: 0.9945 - val_loss: 1.4422 - val_accuracy: 0.6585\n",
      "Epoch 69/100\n",
      "54/54 [==============================] - 114s 2s/step - loss: 0.0344 - accuracy: 0.9945 - val_loss: 1.3969 - val_accuracy: 0.6786\n",
      "Epoch 70/100\n",
      "54/54 [==============================] - 112s 2s/step - loss: 0.0288 - accuracy: 0.9962 - val_loss: 1.4051 - val_accuracy: 0.6708\n",
      "Epoch 71/100\n",
      "54/54 [==============================] - 115s 2s/step - loss: 0.0316 - accuracy: 0.9953 - val_loss: 1.5112 - val_accuracy: 0.6562\n",
      "Epoch 72/100\n",
      "54/54 [==============================] - 124s 2s/step - loss: 0.0281 - accuracy: 0.9953 - val_loss: 1.4004 - val_accuracy: 0.6741\n",
      "Epoch 73/100\n",
      "54/54 [==============================] - 145s 3s/step - loss: 0.0328 - accuracy: 0.9936 - val_loss: 1.4369 - val_accuracy: 0.6708\n",
      "Epoch 74/100\n",
      "54/54 [==============================] - 132s 2s/step - loss: 0.0295 - accuracy: 0.9956 - val_loss: 1.4166 - val_accuracy: 0.6674\n",
      "Epoch 75/100\n",
      "54/54 [==============================] - 120s 2s/step - loss: 0.0266 - accuracy: 0.9968 - val_loss: 1.4925 - val_accuracy: 0.6708\n",
      "Epoch 76/100\n",
      "54/54 [==============================] - 121s 2s/step - loss: 0.0245 - accuracy: 0.9965 - val_loss: 1.4811 - val_accuracy: 0.6652\n",
      "Epoch 77/100\n",
      "54/54 [==============================] - 116s 2s/step - loss: 0.0336 - accuracy: 0.9933 - val_loss: 1.5504 - val_accuracy: 0.6685\n",
      "Epoch 78/100\n",
      "54/54 [==============================] - 119s 2s/step - loss: 0.0359 - accuracy: 0.9910 - val_loss: 1.4812 - val_accuracy: 0.6752\n",
      "Epoch 79/100\n",
      "54/54 [==============================] - 129s 2s/step - loss: 0.0263 - accuracy: 0.9948 - val_loss: 1.5068 - val_accuracy: 0.6730\n",
      "Epoch 80/100\n",
      "54/54 [==============================] - 136s 3s/step - loss: 0.0222 - accuracy: 0.9962 - val_loss: 1.4537 - val_accuracy: 0.6752\n",
      "Epoch 81/100\n",
      "54/54 [==============================] - 135s 2s/step - loss: 0.0217 - accuracy: 0.9977 - val_loss: 1.5571 - val_accuracy: 0.6652\n",
      "Epoch 82/100\n",
      "54/54 [==============================] - 137s 3s/step - loss: 0.0196 - accuracy: 0.9983 - val_loss: 1.4549 - val_accuracy: 0.6808\n",
      "Epoch 83/100\n",
      "54/54 [==============================] - 133s 2s/step - loss: 0.0290 - accuracy: 0.9927 - val_loss: 1.4755 - val_accuracy: 0.6775\n",
      "Epoch 84/100\n",
      "54/54 [==============================] - 116s 2s/step - loss: 0.0240 - accuracy: 0.9971 - val_loss: 1.4852 - val_accuracy: 0.6763\n",
      "Epoch 85/100\n",
      "54/54 [==============================] - 120s 2s/step - loss: 0.0201 - accuracy: 0.9965 - val_loss: 1.6864 - val_accuracy: 0.6585\n",
      "Epoch 86/100\n",
      "54/54 [==============================] - 116s 2s/step - loss: 0.0194 - accuracy: 0.9977 - val_loss: 1.4926 - val_accuracy: 0.6775\n",
      "Epoch 87/100\n",
      "54/54 [==============================] - 120s 2s/step - loss: 0.0354 - accuracy: 0.9910 - val_loss: 1.5362 - val_accuracy: 0.6652\n",
      "Epoch 88/100\n",
      "54/54 [==============================] - 116s 2s/step - loss: 0.0186 - accuracy: 0.9983 - val_loss: 1.4777 - val_accuracy: 0.6775\n",
      "Epoch 89/100\n",
      "54/54 [==============================] - 116s 2s/step - loss: 0.0166 - accuracy: 0.9983 - val_loss: 1.5675 - val_accuracy: 0.6674\n",
      "Epoch 90/100\n",
      "54/54 [==============================] - 116s 2s/step - loss: 0.0137 - accuracy: 0.9994 - val_loss: 1.5388 - val_accuracy: 0.6674\n",
      "Epoch 91/100\n",
      "54/54 [==============================] - 116s 2s/step - loss: 0.0209 - accuracy: 0.9962 - val_loss: 1.5347 - val_accuracy: 0.6629\n",
      "Epoch 92/100\n",
      "54/54 [==============================] - 116s 2s/step - loss: 0.0228 - accuracy: 0.9948 - val_loss: 1.5165 - val_accuracy: 0.6730\n",
      "Epoch 93/100\n",
      "54/54 [==============================] - 112s 2s/step - loss: 0.0166 - accuracy: 0.9977 - val_loss: 1.6090 - val_accuracy: 0.6618\n",
      "Epoch 94/100\n",
      "54/54 [==============================] - 111s 2s/step - loss: 0.0147 - accuracy: 0.9983 - val_loss: 1.5575 - val_accuracy: 0.6752\n",
      "Epoch 95/100\n",
      "54/54 [==============================] - 118s 2s/step - loss: 0.0170 - accuracy: 0.9971 - val_loss: 1.8584 - val_accuracy: 0.6362\n",
      "Epoch 96/100\n",
      "54/54 [==============================] - 118s 2s/step - loss: 0.0203 - accuracy: 0.9953 - val_loss: 1.6151 - val_accuracy: 0.6696\n",
      "Epoch 97/100\n",
      "54/54 [==============================] - 114s 2s/step - loss: 0.0166 - accuracy: 0.9977 - val_loss: 1.5496 - val_accuracy: 0.6763\n",
      "Epoch 98/100\n",
      "54/54 [==============================] - 114s 2s/step - loss: 0.0229 - accuracy: 0.9951 - val_loss: 1.6115 - val_accuracy: 0.6652\n",
      "Epoch 99/100\n",
      "54/54 [==============================] - 114s 2s/step - loss: 0.0176 - accuracy: 0.9962 - val_loss: 1.6063 - val_accuracy: 0.6763\n",
      "Epoch 100/100\n",
      "54/54 [==============================] - 113s 2s/step - loss: 0.0224 - accuracy: 0.9936 - val_loss: 1.6832 - val_accuracy: 0.6674\n"
     ]
    }
   ],
   "source": [
    "STEP_SIZE_TRAIN=train_generator.n//train_generator.batch_size\n",
    "STEP_SIZE_VAL=val_generator.n//val_generator.batch_size\n",
    "STEP_SIZE_TEST=test_generator.n//test_generator.batch_size\n",
    "\n",
    "nb_epoch = 100\n",
    "\n",
    "history = model.fit(train_generator,\n",
    "                    steps_per_epoch=STEP_SIZE_TRAIN,\n",
    "                    validation_data=val_generator,\n",
    "                    validation_steps=STEP_SIZE_VAL,\n",
    "                    epochs=nb_epoch\n",
    ")"
   ]
  },
  {
   "cell_type": "code",
   "execution_count": 17,
   "metadata": {},
   "outputs": [
    {
     "name": "stdout",
     "output_type": "stream",
     "text": [
      "WARNING:tensorflow:From /home/psa/.local/lib/python3.8/site-packages/tensorflow/python/ops/resource_variable_ops.py:1813: calling BaseResourceVariable.__init__ (from tensorflow.python.ops.resource_variable_ops) with constraint is deprecated and will be removed in a future version.\n",
      "Instructions for updating:\n",
      "If using Keras pass *_constraint arguments to layers.\n",
      "INFO:tensorflow:Assets written to: cnn_model/assets\n"
     ]
    }
   ],
   "source": [
    "# Save model\n",
    "model.save(\"cnn_model\")"
   ]
  },
  {
   "cell_type": "markdown",
   "metadata": {},
   "source": [
    "## Performances du modèle <a class=\"anchor\" id=\"pref_model\"></a>"
   ]
  },
  {
   "cell_type": "code",
   "execution_count": 18,
   "metadata": {},
   "outputs": [
    {
     "data": {
      "image/png": "[encoded data removed]",
      "text/plain": [
       "<Figure size 1080x1080 with 2 Axes>"
      ]
     },
     "metadata": {
      "needs_background": "light"
     },
     "output_type": "display_data"
    }
   ],
   "source": [
    "acc = history.history['accuracy']\n",
    "val_acc = history.history['val_accuracy']\n",
    "loss = history.history['loss']\n",
    "val_loss = history.history['val_loss']\n",
    "epochs_range = range(nb_epoch)\n",
    "\n",
    "plt.figure(figsize=(15, 15))\n",
    "plt.subplot(2, 2, 1)\n",
    "plt.plot(epochs_range, acc, label=\"Entrainemenet\")\n",
    "plt.plot(epochs_range, val_acc, label='Validation')\n",
    "plt.legend(loc='lower right')\n",
    "plt.title(\"Précison avec les jeux d'entrainement et de validation\")\n",
    "\n",
    "plt.subplot(2, 2, 2)\n",
    "plt.plot(epochs_range, loss, label='Entrainemenet')\n",
    "plt.plot(epochs_range, val_loss, label='Validation')\n",
    "plt.legend(loc='upper right')\n",
    "plt.title(\"Perte avec les jeux d'entrainement et de validation\")\n",
    "plt.show()"
   ]
  },
  {
   "cell_type": "markdown",
   "metadata": {},
   "source": [
    "# Prédictions\n",
    "Le jeu de données de test, va nous permettre de tester notre modèle avec des données complètement nouvelles pour le modèle."
   ]
  },
  {
   "cell_type": "code",
   "execution_count": 19,
   "metadata": {},
   "outputs": [
    {
     "name": "stdout",
     "output_type": "stream",
     "text": [
      "1/1 [==============================] - 0s 959us/step\n"
     ]
    }
   ],
   "source": [
    "test_generator.reset()\n",
    "pred = model.predict(test_generator,verbose=1)"
   ]
  },
  {
   "cell_type": "code",
   "execution_count": 20,
   "metadata": {},
   "outputs": [
    {
     "name": "stdout",
     "output_type": "stream",
     "text": [
      "La précision estimée est de  65.333 %\n"
     ]
    }
   ],
   "source": [
    "_, acc = model.evaluate(test_generator, steps=len(test_generator), verbose=0)\n",
    "print(f'La précision estimée est de  {acc * 100.0:.3f} %')"
   ]
  },
  {
   "cell_type": "code",
   "execution_count": 21,
   "metadata": {},
   "outputs": [],
   "source": [
    "predictions=[]\n",
    "labels = train_generator.class_indices\n",
    "labels = dict((v,k) for k,v in labels.items())\n",
    "for row in pred:\n",
    "    index = row.argmax()       \n",
    "    predictions.append(labels[index])\n",
    "\n",
    "filenames=test_generator.filenames\n",
    "\n",
    "results=pd.DataFrame({\"Filename\":filenames,\n",
    "                      \"Predictions\":predictions,\n",
    "                      \"labels\": test_generator.labels\n",
    "                     })"
   ]
  },
  {
   "cell_type": "code",
   "execution_count": 22,
   "metadata": {},
   "outputs": [],
   "source": [
    "results['labels'] = results['labels'].map(labels)"
   ]
  },
  {
   "cell_type": "code",
   "execution_count": 23,
   "metadata": {},
   "outputs": [],
   "source": [
    "conf_mat = metrics.confusion_matrix(results['Predictions'], results['labels'])"
   ]
  },
  {
   "cell_type": "code",
   "execution_count": 24,
   "metadata": {},
   "outputs": [
    {
     "data": {
      "text/plain": [
       "<matplotlib.axes._subplots.AxesSubplot at 0x7f001816f730>"
      ]
     },
     "execution_count": 24,
     "metadata": {},
     "output_type": "execute_result"
    },
    {
     "data": {
      "image/png": "[encoded data removed]",
      "text/plain": [
       "<Figure size 432x288 with 2 Axes>"
      ]
     },
     "metadata": {
      "needs_background": "light"
     },
     "output_type": "display_data"
    }
   ],
   "source": [
    "inv_labels = {v: k for k, v in labels.items()}\n",
    "df_cm = pd.DataFrame(conf_mat, index = [label for label in inv_labels],columns = inv_labels)\n",
    "sns.heatmap(df_cm, annot=True, cmap=\"Blues\")"
   ]
  },
  {
   "cell_type": "markdown",
   "metadata": {},
   "source": [
    "# Conclusion <a class=\"anchor\" id=\"conclusion\"></a>\n",
    "Ce modèle avec une précision de 65% montre de meilleures performances que le modèle à base SIFT, cependant il reste encore de nombreuses erreurs. L'avantage sur SIFT est aussi dû au fait que ce soit un algorithme supervisé\n",
    "\n",
    "Une solution pourrait consister à prendre encore plus d'image et/ou d'augmenter le nombre de couches. "
   ]
  },
  {
   "cell_type": "code",
   "execution_count": null,
   "metadata": {},
   "outputs": [],
   "source": []
  }
 ],
 "metadata": {
  "kernelspec": {
   "display_name": "Python 3",
   "language": "python",
   "name": "python3"
  },
  "language_info": {
   "codemirror_mode": {
    "name": "ipython",
    "version": 3
   },
   "file_extension": ".py",
   "mimetype": "text/x-python",
   "name": "python",
   "nbconvert_exporter": "python",
   "pygments_lexer": "ipython3",
   "version": "3.8.5"
  }
 },
 "nbformat": 4,
 "nbformat_minor": 4
}
