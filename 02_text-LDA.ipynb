{
 "cells": [
  {
   "cell_type": "markdown",
   "metadata": {},
   "source": [
    "# Analyse des données textuelles\n",
    "\n",
    "À partir des données l'application [Yelp](https://www.yelp.fr), traiter les sujets d'insatisfaction dans les commentaires client.\n",
    "\n",
    "**Analyser les commentaires pour détecter les différents sujets d’insatisfaction**\n",
    " - pré-traitement des données textuelles\n",
    " - utilisation de techniques de réduction de dimension\n",
    " - visualisation des données de grandes dimensions\n",
    "\n",
    "**Collecter un échantillon (environ 200 restaurants) de données via l’API Yelp**\n",
    " - récupérer uniquement les champs nécessaires\n",
    " - stocker les résultats dans un fichier exploitable (par exemple csv)\n",
    " \n",
    "Cette deuxième partie concerne le modèle **Latent Dirichlet Allocation** afin de trouver le nombre et le genre des sujets d'insatisfaction.\n"
   ]
  },
  {
   "cell_type": "markdown",
   "metadata": {},
   "source": [
    "## Latent Dirichlet Allocation\n",
    "\n",
    "Le Latent Dirichlet Allocation est un modèle probabiliste génératif de corpus.\n",
    "Cela consiste à considérer les documents comme des mélanges aléatoires sur des topics sous-jacents, où chaque topic est caractérisé par une une distribution sur les mots.\n",
    "\n",
    "Nous allons calculer le score de cohérence pour les différents nombres de topics afin de choisir celui qui convient le mieux. Le nombre de topics optimal selon cette mesure correspond au moins grand nombre de topics avant que le score de cohérence ne se mette à baisser."
   ]
  },
  {
   "cell_type": "markdown",
   "metadata": {},
   "source": [
    "# Chargement des bibliothèques"
   ]
  },
  {
   "cell_type": "code",
   "execution_count": 59,
   "metadata": {},
   "outputs": [],
   "source": [
    "import numpy as pd\n",
    "import pandas as pd\n",
    "\n",
    "import gensim\n",
    "import gensim.corpora as corpora\n",
    "from gensim import models\n",
    "from gensim.models import CoherenceModel\n",
    "\n",
    "from sklearn.feature_extraction.text import TfidfVectorizer\n",
    "\n",
    "import pyLDAvis\n",
    "import pyLDAvis.gensim\n",
    "\n",
    "from pprint import pprint\n",
    "\n",
    "import matplotlib.pyplot as plt\n",
    "%matplotlib inline\n",
    "\n",
    "import pickle\n",
    "from IPython.display import Markdown, Latex"
   ]
  },
  {
   "cell_type": "code",
   "execution_count": 60,
   "metadata": {},
   "outputs": [
    {
     "name": "stdout",
     "output_type": "stream",
     "text": [
      "The autoreload extension is already loaded. To reload it, use:\n",
      "  %reload_ext autoreload\n"
     ]
    }
   ],
   "source": [
    "# Nécessaire lors de la phase de développement pour mettre à jour les classes externes\n",
    "%load_ext autoreload\n",
    "%autoreload 2"
   ]
  },
  {
   "cell_type": "code",
   "execution_count": 61,
   "metadata": {},
   "outputs": [],
   "source": [
    "import warnings\n",
    "warnings.filterwarnings(\"ignore\", category=DeprecationWarning)"
   ]
  },
  {
   "cell_type": "code",
   "execution_count": 62,
   "metadata": {},
   "outputs": [],
   "source": [
    "data_dir = '../data/'"
   ]
  },
  {
   "cell_type": "markdown",
   "metadata": {},
   "source": [
    "# Entrainement du modèle"
   ]
  },
  {
   "cell_type": "code",
   "execution_count": 63,
   "metadata": {},
   "outputs": [],
   "source": [
    "def tokenize(sentences):    \n",
    "    data = []\n",
    "    for sentence in list(sentences):\n",
    "        data.append(sentence.split(\" \"))\n",
    "    return data"
   ]
  },
  {
   "cell_type": "code",
   "execution_count": 161,
   "metadata": {},
   "outputs": [],
   "source": [
    "def create_dict_tf_idf(dataset):\n",
    "    \n",
    "    \n",
    "     # Création du dictionnaire\n",
    "    dictionary = corpora.Dictionary(dataset)\n",
    "    corpus = [dictionary.doc2bow(line) for line in dataset]  \n",
    "    model = models.TfidfModel(corpus)\n",
    "    \n",
    "    return dictionary, corpus, model\n",
    "    #tfidf = models.TfidfModel(data, id2word, normalize=False)\n",
    "\n",
    "    # Création du corpus\n",
    "    #corpus = [id2word.doc2bow(text) for text in data]\n",
    "    \n",
    "    #tfidf = models.TfidfModel(data, corpus)\n",
    "    #corpus_tfidf = tfidf[corpus]\n",
    "\n",
    "    #return id2word, corpus_tfidf"
   ]
  },
  {
   "cell_type": "code",
   "execution_count": 162,
   "metadata": {},
   "outputs": [],
   "source": [
    "def train_model(num_topics, corpus, dictionary):\n",
    "    chunksize = 2000\n",
    "    passes = 1\n",
    "    iterations = 100\n",
    "    eval_every = 1\n",
    "    \n",
    "    model = gensim.models.LdaModel(\n",
    "            corpus=corpus,\n",
    "            id2word=dictionary,\n",
    "            chunksize=chunksize,\n",
    "            alpha='auto',\n",
    "            eta='auto',\n",
    "            iterations=iterations,\n",
    "            num_topics=num_topics,\n",
    "            passes=passes,\n",
    "            eval_every=eval_every,\n",
    "            random_state=63            \n",
    "            )\n",
    "    return model"
   ]
  },
  {
   "cell_type": "markdown",
   "metadata": {},
   "source": [
    "## Chargement des données précédement traitées\n",
    "On créé 2 dataframe un avec 10 commentaires qui servira à vérifier la segmenttaion et l'autre servant à l'entrainement du modèle."
   ]
  },
  {
   "cell_type": "code",
   "execution_count": 163,
   "metadata": {},
   "outputs": [
    {
     "data": {
      "text/html": [
       "<div>\n",
       "<style scoped>\n",
       "    .dataframe tbody tr th:only-of-type {\n",
       "        vertical-align: middle;\n",
       "    }\n",
       "\n",
       "    .dataframe tbody tr th {\n",
       "        vertical-align: top;\n",
       "    }\n",
       "\n",
       "    .dataframe thead th {\n",
       "        text-align: right;\n",
       "    }\n",
       "</style>\n",
       "<table border=\"1\" class=\"dataframe\">\n",
       "  <thead>\n",
       "    <tr style=\"text-align: right;\">\n",
       "      <th></th>\n",
       "      <th>Unnamed: 0</th>\n",
       "      <th>text</th>\n",
       "      <th>stars</th>\n",
       "      <th>clean_text</th>\n",
       "      <th>bad_review</th>\n",
       "    </tr>\n",
       "  </thead>\n",
       "  <tbody>\n",
       "    <tr>\n",
       "      <th>0</th>\n",
       "      <td>306484</td>\n",
       "      <td>Always start with something nice is what I say...</td>\n",
       "      <td>1</td>\n",
       "      <td>always start nice say decoration building real...</td>\n",
       "      <td>1</td>\n",
       "    </tr>\n",
       "    <tr>\n",
       "      <th>1</th>\n",
       "      <td>522089</td>\n",
       "      <td>Ehhh.... cool that we have a taco spot in the ...</td>\n",
       "      <td>2</td>\n",
       "      <td>ehhh cool taco spot neighborhood good thing fr...</td>\n",
       "      <td>1</td>\n",
       "    </tr>\n",
       "    <tr>\n",
       "      <th>2</th>\n",
       "      <td>1120613</td>\n",
       "      <td>The food I will give a 5, but the service toni...</td>\n",
       "      <td>1</td>\n",
       "      <td>food give service tonight downstairs exception...</td>\n",
       "      <td>1</td>\n",
       "    </tr>\n",
       "    <tr>\n",
       "      <th>3</th>\n",
       "      <td>632782</td>\n",
       "      <td>Flan tastes like store bought Pernil tasted ol...</td>\n",
       "      <td>1</td>\n",
       "      <td>flan taste store buy pernil taste old arroz co...</td>\n",
       "      <td>1</td>\n",
       "    </tr>\n",
       "    <tr>\n",
       "      <th>4</th>\n",
       "      <td>135142</td>\n",
       "      <td>Damn, is it just me or is it feeling a little ...</td>\n",
       "      <td>2</td>\n",
       "      <td>damn feel little shilly new itp bbq place form...</td>\n",
       "      <td>1</td>\n",
       "    </tr>\n",
       "  </tbody>\n",
       "</table>\n",
       "</div>"
      ],
      "text/plain": [
       "   Unnamed: 0                                               text  stars  \\\n",
       "0      306484  Always start with something nice is what I say...      1   \n",
       "1      522089  Ehhh.... cool that we have a taco spot in the ...      2   \n",
       "2     1120613  The food I will give a 5, but the service toni...      1   \n",
       "3      632782  Flan tastes like store bought Pernil tasted ol...      1   \n",
       "4      135142  Damn, is it just me or is it feeling a little ...      2   \n",
       "\n",
       "                                          clean_text  bad_review  \n",
       "0  always start nice say decoration building real...           1  \n",
       "1  ehhh cool taco spot neighborhood good thing fr...           1  \n",
       "2  food give service tonight downstairs exception...           1  \n",
       "3  flan taste store buy pernil taste old arroz co...           1  \n",
       "4  damn feel little shilly new itp bbq place form...           1  "
      ]
     },
     "execution_count": 163,
     "metadata": {},
     "output_type": "execute_result"
    }
   ],
   "source": [
    "df = pd.read_csv(data_dir + 'train_reviews.csv')\n",
    "test = pd.read_csv(data_dir + 'test_reviews.csv')\n",
    "df.head()"
   ]
  },
  {
   "cell_type": "markdown",
   "metadata": {},
   "source": [
    "## Création du corpus\n",
    "Nous allons créer un dictionnaire avec les mots de chaque commentaire. Nous avons utilisé l'algorithme de TF-IDF pour pondérer les mots les plus fréquents dans l'ensemble des documents."
   ]
  },
  {
   "cell_type": "code",
   "execution_count": 164,
   "metadata": {},
   "outputs": [
    {
     "name": "stdout",
     "output_type": "stream",
     "text": [
      "42817 mots uniques dans 60000 commentaires\n"
     ]
    }
   ],
   "source": [
    "# Tokenization\n",
    "data = tokenize(df['clean_text'])\n",
    "dictionary, corpus, tfidf  = create_dict_tf_idf(data)\n",
    "print(f\"{len(dictionary)} mots uniques dans {len(corpus)} commentaires\")"
   ]
  },
  {
   "cell_type": "markdown",
   "metadata": {},
   "source": [
    "## Recherche du nombre de topics\n",
    "Pour la recherche du nombre optimale de topics, nous allons utiliser le score de cohérence. Le score de cohérence est pour un sujet, les mots qui ont la plus forte probabilité de se produire pour ce sujet.\n",
    "\n",
    "Le nombre de topics optimal selon cette mesure correspond au moins grand nombre de topics avant que le score de cohérence ne se mette à baisser.\n",
    "\n",
    "En fonction du score de cohérence on peut évaluer la solidité du modèle\n",
    "\n",
    "|Score|Interprétation|\n",
    "| ---- | :---------------- |\n",
    "|0.3|mauvais|\n",
    "|0.4|faible|\n",
    "|**0.55**|**correct**|\n",
    "|**0.65**|**normal**|\n",
    "|**0.7**|**bien**|\n",
    "|0.8|peu probable|\n",
    "|0.9 |probablement faux|\n"
   ]
  },
  {
   "cell_type": "code",
   "execution_count": 142,
   "metadata": {},
   "outputs": [],
   "source": [
    "start = 2\n",
    "limit = 20\n",
    "step = 3"
   ]
  },
  {
   "cell_type": "code",
   "execution_count": 143,
   "metadata": {},
   "outputs": [
    {
     "name": "stderr",
     "output_type": "stream",
     "text": [
      "/home/psa/.local/lib/python3.8/site-packages/gensim/topic_coherence/direct_confirmation_measure.py:204: RuntimeWarning: divide by zero encountered in double_scalars\n",
      "  m_lr_i = np.log(numerator / denominator)\n",
      "/home/psa/.local/lib/python3.8/site-packages/gensim/topic_coherence/indirect_confirmation_measure.py:323: RuntimeWarning: invalid value encountered in double_scalars\n",
      "  return cv1.T.dot(cv2)[0, 0] / (_magnitude(cv1) * _magnitude(cv2))\n"
     ]
    },
    {
     "name": "stdout",
     "output_type": "stream",
     "text": [
      "2 topics avec un score de cohérence de nan\n",
      "5 topics avec un score de cohérence de nan\n",
      "8 topics avec un score de cohérence de nan\n",
      "11 topics avec un score de cohérence de nan\n",
      "14 topics avec un score de cohérence de nan\n",
      "17 topics avec un score de cohérence de nan\n"
     ]
    }
   ],
   "source": [
    "coherence_values = []\n",
    "\n",
    "for num_topics in range(start, limit, step):\n",
    "    model = train_model(num_topics,corpus, dictionary)\n",
    "    coherence_model = CoherenceModel(model=model, texts=data, dictionary=dictionary, coherence='c_v')\n",
    "    coherence_value = coherence_model.get_coherence()\n",
    "    coherence_values.append(coherence_value)\n",
    "    print(f\"{num_topics} topics avec un score de cohérence de {coherence_value:.4f}\")"
   ]
  },
  {
   "cell_type": "markdown",
   "metadata": {},
   "source": [
    "## Visualisation de la cohérence"
   ]
  },
  {
   "cell_type": "code",
   "execution_count": 70,
   "metadata": {},
   "outputs": [
    {
     "data": {
      "image/png": "[encoded data removed]",
      "text/plain": [
       "<Figure size 432x288 with 1 Axes>"
      ]
     },
     "metadata": {
      "needs_background": "light"
     },
     "output_type": "display_data"
    }
   ],
   "source": [
    "x = range(start, limit, step)\n",
    "plt.plot(x, coherence_values)\n",
    "plt.xlabel(\"Num Topics\")\n",
    "plt.ylabel(\"Coherence score\")\n",
    "plt.legend((\"coherence_values\"), loc='best')\n",
    "plt.show()"
   ]
  },
  {
   "cell_type": "markdown",
   "metadata": {},
   "source": [
    "# Sélection du nombre de topics\n",
    "D'après le modèle LDA le nombre de topic optimal est 8.\n",
    "\n",
    "Nous allons tenter d'expliquer les topics trouvés avec les mots clés qui ont été classés."
   ]
  },
  {
   "cell_type": "code",
   "execution_count": 152,
   "metadata": {},
   "outputs": [],
   "source": [
    "num_topics = 8"
   ]
  },
  {
   "cell_type": "code",
   "execution_count": 153,
   "metadata": {},
   "outputs": [],
   "source": [
    "model = train_model(num_topics, corpus, dictionary)"
   ]
  },
  {
   "cell_type": "markdown",
   "metadata": {},
   "source": [
    "# Explication des topics"
   ]
  },
  {
   "cell_type": "code",
   "execution_count": 154,
   "metadata": {},
   "outputs": [
    {
     "name": "stdout",
     "output_type": "stream",
     "text": [
      "[(0,\n",
      "  '0.005*\"food\" + 0.005*\"good\" + 0.004*\"place\" + 0.004*\"chicken\" + '\n",
      "  '0.004*\"order\"'),\n",
      " (1,\n",
      "  '0.006*\"bouncer\" + 0.005*\"tikka\" + 0.004*\"cheesesteak\" + 0.003*\"german\" + '\n",
      "  '0.003*\"robin\"'),\n",
      " (2,\n",
      "  '0.008*\"table\" + 0.007*\"wait\" + 0.006*\"minute\" + 0.006*\"customer\" + '\n",
      "  '0.005*\"bar\"'),\n",
      " (3,\n",
      "  '0.007*\"doughnut\" + 0.005*\"boba\" + 0.004*\"mole\" + 0.004*\"doordash\" + '\n",
      "  '0.003*\"zucchini\"'),\n",
      " (4,\n",
      "  '0.005*\"estimate\" + 0.004*\"shawarma\" + 0.004*\"dominos\" + 0.004*\"ghetto\" + '\n",
      "  '0.004*\"renovation\"'),\n",
      " (5,\n",
      "  '0.007*\"strawberry\" + 0.005*\"omelet\" + 0.005*\"sangria\" + 0.004*\"squeeze\" + '\n",
      "  '0.004*\"lounge\"'),\n",
      " (6,\n",
      "  '0.007*\"crawfish\" + 0.003*\"pok\" + 0.002*\"discriminate\" + 0.002*\"tacos\" + '\n",
      "  '0.002*\"amy\"'),\n",
      " (7,\n",
      "  '0.007*\"order\" + 0.007*\"hour\" + 0.007*\"call\" + 0.006*\"minute\" + '\n",
      "  '0.006*\"wait\"')]\n"
     ]
    }
   ],
   "source": [
    "topics = {}\n",
    "x = range(start, limit, step)\n",
    "pprint(model.print_topics(num_topics, 5))\n",
    "for topic in model.print_topics(num_topics, 5):\n",
    "    topics[topic[0]] = topic[1]  "
   ]
  },
  {
   "cell_type": "markdown",
   "metadata": {},
   "source": [
    " - Groupe 0 : \n",
    " - Groupe 1 : \n",
    " - Groupe 2 : \n",
    " - Groupe 3 : \n",
    " - Groupe 4 : \n",
    " - Groupe 5 : \n",
    " - Groupe 6 :\n",
    " - Groupe 7 :\n",
    " - Groupe 8 :"
   ]
  },
  {
   "cell_type": "markdown",
   "metadata": {},
   "source": [
    "# Visualisation des topcis"
   ]
  },
  {
   "cell_type": "code",
   "execution_count": 138,
   "metadata": {},
   "outputs": [
    {
     "data": {
      "text/html": [
       "\n",
       "<link rel=\"stylesheet\" type=\"text/css\" href=\"https://cdn.rawgit.com/bmabey/pyLDAvis/files/ldavis.v1.0.0.css\">\n",
       "\n",
       "\n",
       "<div id=\"ldavis_el68781400330941277925439648782\"></div>\n",
       "<script type=\"text/javascript\">\n",
       "\n",
       "var ldavis_el68781400330941277925439648782_data = {\"mdsDat\": {\"x\": [-0.4266712164536451, -0.3925480593110571, -0.06542894548889941, 0.09191348974862859, 0.11081949296500002, 0.10982574075261907, 0.11415577464551555, 0.11541904246219013, 0.11493383047458026, 0.11348070708486399, 0.11410014312020343], \"y\": [-0.0572021936127537, -0.03601872875177561, 0.28162459281015295, -0.05389876828539531, -0.03405663270298991, -0.024663437031078747, -0.02394155943304255, -0.021769278204237626, -0.01271692987413393, -0.008615879570418223, -0.008741185344327324], \"topics\": [1, 2, 3, 4, 5, 6, 7, 8, 9, 10, 11], \"cluster\": [1, 1, 1, 1, 1, 1, 1, 1, 1, 1, 1], \"Freq\": [53.460741557386896, 31.262877047524785, 5.312879175510895, 2.6731311781186204, 1.587990239616013, 1.276145993483021, 1.199215084102934, 1.1752356668696426, 0.7953449258291001, 0.6381980246191539, 0.6182411069389506]}, \"tinfo\": {\"Term\": [\"chicken\", \"taste\", \"sauce\", \"cheese\", \"wait\", \"fry\", \"minute\", \"flavor\", \"rice\", \"bland\", \"dry\", \"meat\", \"vegan\", \"customer\", \"gluten\", \"salad\", \"dish\", \"table\", \"nachos\", \"taco\", \"beef\", \"tell\", \"egg\", \"soup\", \"manager\", \"noodle\", \"shrimp\", \"thai\", \"fish\", \"hour\", \"hostess\", \"ignore\", \"card\", \"reservation\", \"attitude\", \"cancel\", \"manager\", \"driver\", \"min\", \"phone\", \"apology\", \"refund\", \"acknowledge\", \"credit\", \"yell\", \"proceed\", \"unprofessional\", \"yesterday\", \"shake\", \"rude\", \"receipt\", \"pm\", \"host\", \"blame\", \"situation\", \"teriyaki\", \"answer\", \"contact\", \"management\", \"email\", \"minute\", \"wait\", \"customer\", \"seat\", \"call\", \"employee\", \"bartender\", \"hour\", \"ready\", \"speak\", \"front\", \"tell\", \"online\", \"walk\", \"table\", \"finally\", \"later\", \"business\", \"check\", \"sit\", \"ask\", \"take\", \"bar\", \"server\", \"drink\", \"waitress\", \"service\", \"say\", \"never\", \"time\", \"leave\", \"people\", \"staff\", \"order\", \"come\", \"get\", \"go\", \"back\", \"food\", \"give\", \"even\", \"restaurant\", \"place\", \"bad\", \"make\", \"want\", \"curry\", \"pad\", \"garlic\", \"olive\", \"calamari\", \"often\", \"meatball\", \"pepperoni\", \"garden\", \"broccoli\", \"crust\", \"spice\", \"dough\", \"mash\", \"panera\", \"hill\", \"chunk\", \"brisket\", \"blah\", \"texture\", \"thick\", \"flavour\", \"typical\", \"donut\", \"crispy\", \"honey\", \"hash\", \"roast\", \"sausage\", \"freezer\", \"potato\", \"flavorless\", \"thai\", \"bean\", \"broth\", \"tofu\", \"pork\", \"tomato\", \"seasoning\", \"flavor\", \"beef\", \"green\", \"noodle\", \"thin\", \"tasteless\", \"fried\", \"dry\", \"bland\", \"bacon\", \"egg\", \"sauce\", \"rice\", \"oil\", \"chicken\", \"cheese\", \"spicy\", \"taste\", \"shrimp\", \"meat\", \"salty\", \"slice\", \"fry\", \"salt\", \"fish\", \"sweet\", \"piece\", \"soup\", \"dish\", \"taco\", \"portion\", \"salad\", \"bread\", \"fresh\", \"small\", \"good\", \"burger\", \"steak\", \"price\", \"sandwich\", \"well\", \"pizza\", \"much\", \"really\", \"eat\", \"quality\", \"food\", \"place\", \"gluten\", \"vegan\", \"crepe\", \"incorrect\", \"sesame\", \"fajita\", \"disrespectful\", \"fork\", \"basil\", \"message\", \"mango\", \"b\", \"crawfish\", \"explanation\", \"utensil\", \"advance\", \"drench\", \"applebee\", \"omelette\", \"behavior\", \"benedict\", \"attend\", \"gas\", \"miserable\", \"pea\", \"croissant\", \"creme\", \"boba\", \"ordinary\", \"closed\", \"annoying\", \"nachos\", \"syrup\", \"uber\", \"chat\", \"tab\", \"glove\", \"lackluster\", \"beware\", \"bus\", \"spectacular\", \"lousy\", \"latte\", \"create\", \"comfortable\", \"wonton\", \"quesadilla\", \"cajun\", \"doughnut\", \"vomit\", \"goodness\", \"confuse\", \"chorizo\", \"factor\", \"doughy\", \"panda\", \"cozy\", \"plantain\", \"rid\", \"join\", \"diarrhea\", \"sangria\", \"blend\", \"scallion\", \"schedule\", \"chase\", \"bento\", \"certain\", \"current\", \"cockroach\", \"football\", \"ache\", \"daily\", \"cinnamon\", \"track\", \"student\", \"tvs\", \"co\", \"scoop\", \"error\", \"volume\", \"wave\", \"offering\", \"period\", \"regardless\", \"produce\", \"dozen\", \"news\", \"winter\", \"rudely\", \"spanish\", \"mainly\", \"department\", \"skewer\", \"signature\", \"sigh\", \"shawarma\", \"p\", \"burritos\", \"china\", \"alternative\", \"rudeness\", \"boot\", \"ounce\", \"body\", \"please\", \"puff\", \"drunken\", \"irish\", \"artichoke\", \"gooey\", \"worst\", \"stew\", \"octopus\", \"legit\", \"candy\", \"former\", \"bum\", \"content\", \"inexpensive\", \"stretch\", \"clothe\", \"trendy\", \"unappetizing\", \"aspect\", \"replacement\", \"mini\", \"btw\", \"majority\", \"wedding\", \"steal\", \"liquor\", \"hookah\", \"costumer\", \"cigarette\", \"mold\", \"resort\", \"ghetto\", \"represent\", \"tow\", \"resolve\", \"interrupt\", \"booze\", \"dairy\", \"direct\", \"estimate\", \"ceviche\", \"breaker\", \"appal\", \"audacity\", \"sleep\", \"hilton\", \"automatic\", \"license\", \"liking\", \"atm\", \"sever\", \"failure\", \"ayce\", \"buss\", \"ride\", \"accept\", \"speaker\", \"public\", \"pearl\", \"bouncer\", \"shoulder\", \"california\", \"loss\", \"parm\", \"serving\", \"manger\", \"renovation\", \"pissed\", \"snotty\", \"dumb\", \"impatient\", \"overrate\", \"sonic\", \"false\", \"hat\", \"pollo\", \"wind\", \"invest\", \"publix\", \"extreme\", \"goodbye\", \"limp\", \"mug\", \"african\", \"execute\", \"carefully\", \"fillet\", \"creepy\", \"skimp\", \"remade\", \"walmart\", \"attack\", \"pocket\", \"calzone\", \"racist\", \"enchilada\", \"horribly\", \"trap\", \"creative\", \"vanilla\", \"celebration\", \"hipster\", \"fuck\", \"overhear\", \"wifi\", \"alot\", \"mole\", \"downright\", \"mike\", \"ear\", \"soooo\", \"kfc\", \"sam\", \"fourth\", \"lower\", \"dosa\", \"fabulous\", \"mcmenamin\", \"internet\", \"dense\", \"robin\", \"prob\", \"profit\", \"pastrami\", \"approximately\", \"satay\", \"merely\", \"houston\", \"dave\", \"prove\", \"highway\", \"cousin\", \"vinaigrette\", \"chutney\", \"excessive\", \"incident\", \"falafel\", \"security\", \"tikka\", \"soap\", \"jimmy\", \"dislike\", \"sometime\", \"paint\", \"asap\", \"reorder\", \"frank\", \"crouton\", \"accuse\", \"moon\", \"mule\", \"nonexistent\", \"sanitation\", \"wound\", \"tony\", \"inconvenient\", \"americano\", \"route\", \"tacos\", \"outback\", \"dispenser\", \"buyer\", \"transaction\", \"apathetic\", \"dancer\", \"velveeta\", \"messy\", \"grade\", \"dominos\", \"hawaiian\", \"postmate\", \"communicate\", \"upper\", \"discriminate\", \"tattoo\", \"irritate\", \"japan\", \"soooooo\", \"neat\", \"rocket\", \"okra\", \"tolerate\", \"minor\", \"officially\", \"unwilling\", \"pant\", \"interact\", \"breath\", \"pleasantly\", \"ability\", \"bike\", \"dissapointed\", \"avacado\", \"corned\", \"assault\", \"ceasar\", \"chaotic\", \"working\", \"bug\", \"udon\", \"disorganized\", \"dissapointe\", \"stall\", \"pico\", \"beaverton\", \"silver\", \"mobile\", \"cop\", \"ricotta\", \"enemy\", \"pizzeria\", \"amy\", \"ny\", \"washington\", \"harass\", \"heb\", \"dinning\", \"destination\", \"toasted\", \"entitle\", \"franklin\", \"silly\", \"gem\", \"amaze\", \"carbonara\", \"cigar\", \"fav\", \"boycott\", \"abuse\", \"smoker\", \"tight\"], \"Freq\": [855.0, 764.0, 552.0, 536.0, 1088.0, 601.0, 965.0, 447.0, 458.0, 408.0, 403.0, 420.0, 106.0, 722.0, 100.0, 554.0, 493.0, 876.0, 99.0, 452.0, 293.0, 754.0, 306.0, 374.0, 577.0, 271.0, 300.0, 255.0, 315.0, 678.0, 271.54533683432777, 204.513095384024, 228.41202748592482, 298.41111534003454, 296.88079768358335, 99.2561605494063, 573.6015421786464, 119.89371758118246, 444.3389464512556, 295.03992286451074, 131.71014105671316, 157.5096309113378, 127.64138599965109, 142.79003090270504, 126.83213871308142, 105.15880571556525, 101.55096076881085, 96.24148099448027, 97.70139640803998, 537.5168751080026, 109.97841709502106, 342.48677511149606, 132.47389688683668, 73.58154257262133, 105.48930765696142, 72.28553569272678, 179.47708883471168, 90.22029762896399, 249.6539839878574, 80.52505588108498, 954.4980853017909, 1069.5289912741878, 712.9991943251352, 481.92891945679, 600.0366507345764, 333.945302479092, 300.9170516335328, 663.7158074690334, 222.9607237811472, 230.43700795522545, 270.9142703067206, 735.9226087251043, 179.02154847253567, 514.9351058861541, 847.7939225976012, 367.0507081267533, 323.06954381019506, 355.80928172230483, 460.35512866993986, 592.6085126104755, 818.6779370064103, 897.2357372106098, 601.1380547122562, 661.3726593294209, 785.5650015991508, 579.4967585203225, 1033.5660519525434, 869.5843605158381, 774.1269535901824, 996.5542756612447, 612.9293352505765, 606.4831746757839, 585.2704489832296, 1125.3771172784857, 904.7427258467492, 986.9061706121905, 947.9842981997763, 773.4462471728921, 955.6128934627768, 688.1082719104927, 677.3101525322512, 700.8083318525372, 790.7325565079191, 719.153894661113, 647.8339900757786, 610.4449586976971, 151.378742805746, 118.57632377219636, 134.36759809820808, 91.57548125131169, 122.0456027915381, 120.04696791396603, 83.9338465179193, 69.78326155466426, 72.95058030411624, 85.04297413030534, 154.326512038039, 107.4995441967321, 75.47910062108808, 64.98264337673571, 59.38077216473633, 84.88425581337864, 68.31475411913213, 122.07435978819362, 56.569840669197205, 83.59891486393313, 104.69867646952173, 56.321185907681, 93.94941500374986, 107.70353471487961, 98.64910037322002, 55.252643908801396, 55.532694086001236, 58.43158468748463, 118.79252066741357, 55.992292514692075, 238.29296398484274, 122.80441682602904, 250.2763916954207, 203.68658644147396, 107.77406963073213, 96.00681520535771, 242.70336175926292, 175.09921592920185, 81.89264278569215, 433.6670784718879, 284.73631632396666, 169.71948543336222, 262.98365520523083, 128.96534364932302, 171.0155217190023, 133.05070236548661, 385.50057289474574, 389.7293152239545, 187.43659315978076, 292.8124756515276, 516.2684584530674, 428.83382535255777, 149.98262367213982, 772.9015157901504, 496.26666872840366, 222.02597149330393, 688.8675273992308, 282.975693994247, 388.87647431000494, 226.25995524554838, 195.6952460880386, 521.2195255406332, 189.85150799345442, 286.7536031123416, 224.22356795611083, 268.22517268102007, 321.623798948509, 395.1663000029547, 364.1406643534849, 282.57340297124756, 416.6371756084856, 283.391655215164, 279.02878439827055, 341.5770700950717, 539.3555103246575, 375.2858421385641, 291.9929012468454, 385.2580036142541, 326.22869601557954, 389.7750950404693, 396.9906693695954, 333.9905588411058, 326.39712985313326, 323.2582493651522, 295.98254496757266, 312.3727581204786, 307.6499762551314, 99.53655746291925, 105.76882985287564, 64.59191626514782, 59.78403499851365, 56.9540786298213, 62.73349877871562, 58.71976703156662, 60.50219489682774, 48.82233453706317, 47.71645463911845, 47.03070638660509, 53.35171558747123, 43.40800882817207, 47.454830305813594, 52.31095990628706, 41.23353165332501, 41.061711412160776, 40.174632191215984, 40.399250754624816, 46.30906779345202, 44.45269659810157, 50.54562459006173, 42.61148400609788, 46.815155701323235, 38.041738861018445, 35.959770092408284, 35.90803503905911, 35.20452818982453, 35.45000287292538, 50.19354215393718, 54.901564415781976, 96.81655513501958, 55.13803541812313, 46.22991243960741, 61.52167717543263, 55.029016251491335, 51.830739525090436, 55.48625397520509, 58.45814671059721, 49.72087298806576, 47.72547838155542, 50.02990707709994, 58.36480775092126, 47.79075105472778, 48.52552202182313, 49.73613999985146, 65.72585063115974, 35.834264976057916, 38.25288871297087, 33.953434389955234, 32.57538738687145, 34.458882753823204, 28.306253021107487, 28.05463714575391, 26.872742238442324, 25.604415568045738, 24.348106655523793, 23.332865527494516, 23.239331719692064, 30.134603574670404, 23.231070899059937, 33.94739422003067, 22.854192154839613, 22.798389221331984, 23.120662164653396, 22.478613500669894, 22.44786556346366, 50.55458706217672, 25.48343855504458, 21.55261224948399, 24.528124714518878, 21.596847611578596, 25.9847625649166, 21.030585718697395, 28.619544441703503, 28.837757692868628, 30.06138468329539, 53.618241191341426, 43.410031015087746, 35.946920605225834, 25.155739148903237, 36.00151227471115, 35.0733852551661, 37.98262340922053, 33.44014712908957, 24.46206439351569, 35.579984319855264, 26.889017589355372, 29.005313863847555, 37.979260132785264, 31.474495761051557, 25.76118341413266, 25.83828470314059, 25.23665907237092, 23.00597597995395, 22.404472674204587, 20.9851330650236, 20.615927371371797, 21.000286976363117, 19.046905110868554, 23.823068739144478, 20.41470990855209, 18.38303403373492, 20.546322036285876, 17.96396530386323, 18.049893833571033, 17.103274468316506, 16.877641171296005, 24.062398840644928, 16.75845342797797, 16.554411696307, 16.42272881194382, 21.43578563543324, 16.112477781756674, 15.611892617762651, 15.545699191331444, 15.066126347737843, 19.487218818532234, 14.802235300983092, 14.377597184892604, 14.079181700052853, 13.899578588615876, 22.380950292358012, 14.548376105158626, 16.9511057408462, 24.85100665981201, 20.90311054111136, 20.058504246470434, 18.998027870400573, 18.763342521877167, 19.018814728998855, 21.297678216873106, 20.71728047178246, 18.667956696603625, 18.320350659807012, 18.086683859931536, 23.547962725949645, 15.982623491836407, 15.796550879910194, 15.342448703420938, 15.163995556299662, 17.02618851409367, 14.637762896077078, 18.028334141091424, 13.982486031580999, 19.243597335916743, 13.367439285900042, 12.452632232013537, 13.01549055894266, 12.308090811187633, 11.916852592489452, 11.626756841969696, 11.505678091353268, 11.494643070860414, 11.476241089961677, 11.157704863045057, 14.90594473428535, 11.05811982657986, 10.71908833802123, 11.043541070685066, 18.283496582632626, 41.524043876553606, 17.856222516663856, 21.026677388713605, 12.486798390222457, 19.33965502085322, 13.226907095227, 16.586661238470214, 12.922393536272914, 34.03953001504745, 17.37175273410022, 16.65460357510403, 16.78216011475611, 16.78504554214621, 16.16325495840383, 15.93603977782054, 15.606465283212104, 18.144632483139507, 14.11889704881721, 13.658785493043567, 13.168479289063393, 13.183899933184946, 12.98291805134042, 11.537487381345802, 11.161345747520711, 11.894215323540562, 11.034459395021383, 15.864329752475818, 10.858332399960899, 10.758344099403201, 9.908435393737937, 9.596027652481476, 9.28781673185456, 10.554897015626514, 10.614809935766129, 12.594454936146107, 9.075649064167235, 8.600577844354136, 8.712162193971114, 24.761919146739356, 25.73270335067039, 40.841092787221946, 19.630890229953273, 18.828857339769165, 14.374128769360578, 13.176440025648139, 13.506336028958232, 13.461324810725944, 15.42601648667467, 11.774668426022211, 16.554594635011785, 19.9414579208224, 15.538945874341072, 14.91458189396039, 14.593905173850901, 15.016779592348259, 22.63421186354138, 14.329625969492373, 13.91729563117885, 13.57477899683673, 13.47305613707667, 13.35011908501408, 13.40892984605291, 13.242306752683204, 13.278954531712726, 12.78824386805285, 12.754357253455307, 12.924571369419608, 11.662918922493512, 11.609020744267607, 11.384105218379894, 11.227130668417468, 11.025425432166747, 12.311987824752734, 10.356549990060516, 13.108870885427468, 10.239601230001321, 10.08535323006623, 10.098270615840265, 9.793613264690206, 11.316875169073064, 12.185374545407196, 32.91908199636273, 18.76608129835649, 15.587841413677012, 11.87492769106401, 11.05344260025654, 10.80742762025212, 10.394743768106421, 9.995685102264789, 9.669922778969129, 8.843092487451031, 8.776042323373407, 8.65699613224597, 8.517962049889451, 8.509906107431766, 8.20861794394679, 8.001292750814349, 7.818050092493903, 7.725404351623154, 7.522547407517161, 7.281892043867495, 7.249904330209271, 7.19722416071543, 7.042305239838483, 6.919724813293433, 6.758917101792034, 6.752188599897387, 6.555198822949662, 6.186744569582236, 6.147392263732415, 6.117333243127549, 14.999743198621768, 11.800045627664451, 12.557186941384893, 11.604205735487888, 11.332611995977059, 8.79748582526116, 7.460018333206592, 6.096040877683594, 5.886293919480492, 5.654244140530556, 5.537262052585536, 5.513154242780118, 5.5161294623952415, 5.280312100141981, 5.276223040816742, 5.269280701057106, 5.180055922824471, 5.067477140630911, 4.9173227757977545, 4.869506711842344, 4.492378226210371, 4.485452755507357, 4.3688167242096165, 4.301286516739321, 4.258207283883445, 4.076499107651799, 4.0569753434902225, 3.8211628009674263, 3.7974769585640886, 3.736061784119369, 3.7241671713084785, 3.686384340258951, 14.383374138493023, 6.449173371256902, 18.917496222714128, 9.793741459966546, 8.472907287622277, 8.301534864815403, 6.871098857675788, 6.863486030386634, 6.329333556090212, 6.262412111859493, 6.213600839041943, 5.899776799803226, 5.488202283946445, 5.374706491494456, 5.3560500454460005, 5.299242152390404, 5.261197158901933, 5.229296120905519, 5.567977523655266, 5.029491737486987, 4.917899035131937, 4.719874012939959, 4.519422971085641, 4.16950371859516, 4.094178983009014, 4.058455890171201, 4.031044109113471, 4.017192078447132, 3.865198398150923, 3.7744558780613224, 3.765556503970863, 3.706239015902742, 4.486748744374672], \"Total\": [855.0, 764.0, 552.0, 536.0, 1088.0, 601.0, 965.0, 447.0, 458.0, 408.0, 403.0, 420.0, 106.0, 722.0, 100.0, 554.0, 493.0, 876.0, 99.0, 452.0, 293.0, 754.0, 306.0, 374.0, 577.0, 271.0, 300.0, 255.0, 315.0, 678.0, 273.0817769085382, 205.77431921272782, 229.83479909354398, 300.3143354817898, 298.87141875185887, 99.9264468876347, 577.7517703707443, 120.7631414157059, 447.71710189841895, 297.28634977539775, 132.7155669705767, 158.71268537322334, 128.62574913248395, 143.89222605896592, 127.82127824357389, 106.0427514082555, 102.42167535871788, 97.07347379475598, 98.54747331659969, 542.2381553238852, 110.95373502618027, 345.55247849696866, 133.67014736303233, 74.24986967973189, 106.44930463450929, 72.95272167391542, 181.19790177766305, 91.09194999881798, 252.12616042373614, 81.33500145967007, 965.015772042507, 1088.3304630948123, 722.9513238059583, 488.332224268732, 610.1125349594794, 337.94533048993975, 305.16932537285925, 678.5649078074965, 225.57921974780942, 233.2768853783752, 274.76861737559915, 754.0931898647956, 180.98611912981434, 526.4275023423437, 876.5642700882973, 374.48175757277323, 329.39807569610554, 363.73407867223784, 474.8974403568896, 616.9933925326079, 862.1251778587102, 955.7677965843543, 632.8087284609646, 701.0341376534001, 842.1916840793303, 611.5227375424432, 1134.4434554117224, 945.2044937569359, 835.6491885752088, 1109.2304083049441, 657.8240114647721, 654.4481972609605, 638.6707911541423, 1353.6694551643297, 1066.9230952466648, 1188.9970200594867, 1153.5702675782202, 929.6953892773133, 1276.409459982039, 806.3443284013335, 813.219587616957, 876.7708546572961, 1106.997910727875, 953.9148805435362, 824.4457664112775, 731.1927097664314, 152.07366620922497, 119.29954716436302, 135.2456264083721, 92.30052500264662, 123.06883109177033, 121.12655117403206, 84.70379649749128, 70.44049440961251, 73.64151078104062, 85.86225436758635, 155.87401399976375, 108.58347064281192, 76.25436687027772, 65.69695073339301, 60.034448860221424, 85.84136128771944, 69.11582553611164, 123.51439041794065, 57.23748675596861, 84.59087917362804, 105.95834977401886, 57.00362569717874, 95.08915410828175, 109.01693362107582, 99.85753971626896, 55.92995625194058, 56.2135547408347, 59.15778793988257, 120.27310014602601, 56.69239529892937, 242.81973240464086, 124.38132003986499, 255.32052614508206, 207.48166144720318, 109.26012265490009, 97.26922450401295, 248.36483909406985, 178.64964896712007, 82.93750015949466, 447.3655423219038, 293.01208700615507, 173.2233921897821, 271.00514493673774, 131.37121258723147, 175.227947490698, 135.64529172749326, 403.0702648759267, 408.0714608070129, 192.71057823127754, 306.30710066789476, 552.7376267297648, 458.31043545674805, 154.02845673358246, 855.4336561482952, 536.6058060885904, 231.82861028827404, 764.2635026086043, 300.1223120348523, 420.39259861115653, 240.76112189385196, 205.67887603807864, 601.2493257789833, 199.0759378567916, 315.92746144855454, 242.44747303288028, 298.4583244252762, 374.6073443286428, 493.04814827728615, 452.8127869336114, 333.5498197246465, 554.617220279759, 343.5314554263861, 338.0672780715021, 477.8613394846734, 1093.2352881402194, 585.1091959344452, 381.68597467545396, 645.6529421294816, 506.1114409455489, 807.0101320641888, 899.0792313025026, 608.0417692424418, 764.9162552211578, 843.0926184094361, 461.7948911845551, 1276.409459982039, 1106.997910727875, 100.19589494499536, 106.7735956581411, 65.23748235886295, 60.46533115826499, 57.62089515369773, 63.48482130329891, 59.44021624626264, 61.26199834500607, 49.46892520895221, 48.403700410037, 47.725468868321315, 54.14411948092897, 44.05620245975603, 48.18024228738687, 53.130988395720316, 41.890049378428394, 41.727132579158734, 40.829080190163, 41.064639772337564, 47.077451098613984, 45.19330093636457, 51.397951355418925, 43.330620206134036, 47.63326885180275, 38.72321176474169, 36.60621440130727, 36.553610562615326, 35.850332639962474, 36.102520659625014, 51.123003803751956, 55.93497321033765, 99.29593040292603, 56.23538483082644, 47.15400067420852, 62.94177781349418, 56.26919265064071, 53.01262148038865, 56.88386792108257, 60.09725660412618, 50.853881660222505, 48.978359182077206, 51.71180385598926, 65.2492027917863, 49.57864857881611, 51.010296855900236, 50.446803136410246, 66.70012621832524, 36.49804215239301, 38.97221715581404, 34.684072769358856, 33.31375937154027, 35.263681618889535, 28.98098022071497, 28.728730597882773, 27.53264230431917, 26.26567072051053, 25.007994795300615, 23.992692258239934, 23.8991905569691, 30.995006983887183, 23.89462588417193, 34.91759316007151, 23.515300192872054, 23.45821497913693, 23.79038564362066, 23.138448556371575, 23.107678819574822, 52.084310667854524, 26.260820971627208, 22.21261269018547, 25.28361784104957, 22.268614911654733, 26.798663034968094, 21.690457682608816, 29.543730084697007, 29.778004456904643, 31.09176737233317, 55.82232149827564, 45.42166154018481, 37.409029224885465, 25.975948248691708, 37.89655529649219, 36.98619865303868, 40.52961198704426, 36.04630437519112, 25.321060165315636, 40.51576660510368, 28.58264218389157, 32.03460469422862, 48.149990147427246, 36.4448128751184, 27.469195264978453, 26.512916078113218, 25.912778162135286, 23.68082790623185, 23.088897137170495, 21.659496314478528, 21.290657162944907, 21.70352912482321, 19.721449659397596, 24.68502986777482, 21.161857567017023, 19.06045998366272, 21.3076653238645, 18.638760738250028, 18.75060126625852, 17.77783154021991, 17.552210165717604, 25.025245775064366, 17.433121494628402, 17.229245257738988, 17.097469297016616, 22.320900101091826, 16.786990306465583, 16.286488717591972, 16.220421327550053, 15.740820450259276, 20.36852251596252, 15.477257813997218, 15.052111044290278, 14.75758042773155, 14.574129079904928, 23.51376797493683, 15.25463333744523, 18.0215346918555, 27.587367723812527, 22.907149911828323, 22.820082189648552, 21.34161442117623, 22.673923427711998, 23.276345525877936, 21.979548820264863, 21.399864589668272, 19.35011556721399, 19.002174131801077, 18.768392902782622, 24.504156390926013, 16.664329938672637, 16.479059993254374, 16.024203875564336, 15.846683136537875, 17.805206303988754, 15.320994793535272, 18.876009069061116, 14.666339175148808, 20.209406690131857, 14.049026010028001, 13.134717569254974, 13.737868818311727, 12.994831691102924, 12.604709406865409, 12.309500164034024, 12.187364882660011, 12.176356434275123, 12.158505397103832, 11.839227524323368, 15.829837952036877, 11.746515801249565, 11.400478269672785, 11.747779043243902, 19.48150046578385, 55.84364399202956, 20.698029446952937, 25.242833464873225, 13.812994958471705, 26.43728616411781, 15.639212596754515, 29.697008612153695, 18.12900268290886, 34.7220649893639, 18.055491071923722, 17.33739076559915, 17.470570698901675, 17.474456506503003, 16.846005487998024, 16.619354345260522, 16.289550320090665, 18.952518279672375, 14.809780003047727, 14.34233996582227, 13.851417001880485, 13.868156699161085, 13.66631966196177, 12.226474517741456, 11.844780990635055, 12.624075040031745, 11.717117082550072, 16.853933039586202, 11.541324661472995, 11.44539894133253, 10.592210593258384, 10.279109984923787, 9.970464050887253, 11.334168994282361, 11.403110849884406, 13.530257437173885, 9.758048125826871, 9.289339378863263, 9.410226455699828, 27.863898172512386, 29.331520615137872, 51.846853549074034, 23.014225523178947, 22.358929190379296, 16.387239648511745, 16.075431622847862, 16.94616874277674, 21.84372778372699, 34.6366012493152, 15.361897254638968, 17.237375386507075, 20.81239573486347, 16.221839097062755, 15.601132036019589, 15.276793009791662, 15.720225998703409, 23.71358901309875, 15.02429308770947, 14.600981920694242, 14.258067317651772, 14.156760093583351, 14.032875071422117, 14.09973637871692, 13.928219211496657, 13.969968775598844, 13.47201782793373, 13.438746275187183, 13.620320096694307, 12.347702716369678, 12.291689581221245, 12.067400411493496, 11.910790750132117, 11.708820225119252, 13.090953040568532, 11.039438786736167, 13.982412185717232, 10.92422641128069, 10.768538953366692, 10.784191849679615, 10.477359930142013, 12.281694269246218, 15.50554153782333, 33.62101032543144, 19.551832092634633, 16.2834011591623, 12.571487562408237, 11.749521821249443, 11.50432186997182, 11.092597189918076, 10.698519918203074, 10.367187436176794, 9.539144080757099, 9.472842132986147, 9.353712651598018, 9.215151327434702, 9.210052916305228, 8.90460847123492, 8.698921084405725, 8.514376290111711, 8.421470738546727, 8.218289183860096, 7.978481176481655, 7.945499763352262, 7.8942276173773, 7.739119906345591, 7.615867525766304, 7.455579380029679, 7.4485841313381735, 7.252182262476317, 6.8833261744074905, 6.8434273164143695, 6.81403443818964, 17.596783334768787, 15.938631848121087, 13.258999502134815, 12.306001946618165, 12.038648400674811, 9.503012661566773, 8.161659212262185, 6.797591331312363, 6.588676979753632, 6.3573074534609, 6.2398175356566385, 6.214219692972369, 6.2193159351445315, 5.981625435663506, 5.981736601024615, 5.9747357598763475, 5.882595218882194, 5.773828027076258, 5.618664532615325, 5.573168911888587, 5.196776972077509, 5.189080050905893, 5.076029309430122, 5.005886875003727, 4.960339936138995, 4.778062519299315, 4.7579853792267555, 4.522589884639653, 4.499874022242042, 4.43703306984178, 4.425182557711077, 4.388270611382761, 24.209780420782042, 9.561754645141928, 19.62220624382919, 10.498024746273831, 9.177783915701639, 9.023426695502705, 7.574865113233288, 7.569558070351615, 7.032316647832223, 6.9657657620379165, 6.918294979854972, 6.602010650894686, 6.191776809257314, 6.077303459763067, 6.059700415732785, 6.0023961468489215, 5.964885796137532, 5.933345767932146, 6.342345510057077, 5.734720048225196, 5.622502215039018, 5.4235105405020665, 5.221949122279039, 4.874957569329571, 4.798570304084391, 4.760858742806342, 4.733842496920062, 4.719327488230707, 4.567456929118363, 4.4772703343177795, 4.469992553127587, 4.410028721900476, 5.40839404714276], \"Category\": [\"Default\", \"Default\", \"Default\", \"Default\", \"Default\", \"Default\", \"Default\", \"Default\", \"Default\", \"Default\", \"Default\", \"Default\", \"Default\", \"Default\", \"Default\", \"Default\", \"Default\", \"Default\", \"Default\", \"Default\", \"Default\", \"Default\", \"Default\", \"Default\", \"Default\", \"Default\", \"Default\", \"Default\", \"Default\", \"Default\", \"Topic1\", \"Topic1\", \"Topic1\", \"Topic1\", \"Topic1\", \"Topic1\", \"Topic1\", \"Topic1\", \"Topic1\", \"Topic1\", \"Topic1\", \"Topic1\", \"Topic1\", \"Topic1\", \"Topic1\", \"Topic1\", \"Topic1\", \"Topic1\", \"Topic1\", \"Topic1\", \"Topic1\", \"Topic1\", \"Topic1\", \"Topic1\", \"Topic1\", \"Topic1\", \"Topic1\", \"Topic1\", \"Topic1\", \"Topic1\", \"Topic1\", \"Topic1\", \"Topic1\", \"Topic1\", \"Topic1\", \"Topic1\", \"Topic1\", \"Topic1\", \"Topic1\", \"Topic1\", \"Topic1\", \"Topic1\", \"Topic1\", \"Topic1\", \"Topic1\", \"Topic1\", \"Topic1\", \"Topic1\", \"Topic1\", \"Topic1\", \"Topic1\", \"Topic1\", \"Topic1\", \"Topic1\", \"Topic1\", \"Topic1\", \"Topic1\", \"Topic1\", \"Topic1\", \"Topic1\", \"Topic1\", \"Topic1\", \"Topic1\", \"Topic1\", \"Topic1\", \"Topic1\", \"Topic1\", \"Topic1\", \"Topic1\", \"Topic1\", \"Topic1\", \"Topic1\", \"Topic1\", \"Topic1\", \"Topic1\", \"Topic1\", \"Topic2\", \"Topic2\", \"Topic2\", \"Topic2\", \"Topic2\", \"Topic2\", \"Topic2\", \"Topic2\", \"Topic2\", \"Topic2\", \"Topic2\", \"Topic2\", \"Topic2\", \"Topic2\", \"Topic2\", \"Topic2\", \"Topic2\", \"Topic2\", \"Topic2\", \"Topic2\", \"Topic2\", \"Topic2\", \"Topic2\", \"Topic2\", \"Topic2\", \"Topic2\", \"Topic2\", \"Topic2\", \"Topic2\", \"Topic2\", \"Topic2\", \"Topic2\", \"Topic2\", \"Topic2\", \"Topic2\", \"Topic2\", \"Topic2\", \"Topic2\", \"Topic2\", \"Topic2\", \"Topic2\", \"Topic2\", \"Topic2\", \"Topic2\", \"Topic2\", \"Topic2\", \"Topic2\", \"Topic2\", \"Topic2\", \"Topic2\", \"Topic2\", \"Topic2\", \"Topic2\", \"Topic2\", \"Topic2\", \"Topic2\", \"Topic2\", \"Topic2\", \"Topic2\", \"Topic2\", \"Topic2\", \"Topic2\", \"Topic2\", \"Topic2\", \"Topic2\", \"Topic2\", \"Topic2\", \"Topic2\", \"Topic2\", \"Topic2\", \"Topic2\", \"Topic2\", \"Topic2\", \"Topic2\", \"Topic2\", \"Topic2\", \"Topic2\", \"Topic2\", \"Topic2\", \"Topic2\", \"Topic2\", \"Topic2\", \"Topic2\", \"Topic2\", \"Topic2\", \"Topic2\", \"Topic2\", \"Topic3\", \"Topic3\", \"Topic3\", \"Topic3\", \"Topic3\", \"Topic3\", \"Topic3\", \"Topic3\", \"Topic3\", \"Topic3\", \"Topic3\", \"Topic3\", \"Topic3\", \"Topic3\", \"Topic3\", \"Topic3\", \"Topic3\", \"Topic3\", \"Topic3\", \"Topic3\", \"Topic3\", \"Topic3\", \"Topic3\", \"Topic3\", \"Topic3\", \"Topic3\", \"Topic3\", \"Topic3\", \"Topic3\", \"Topic3\", \"Topic3\", \"Topic3\", \"Topic3\", \"Topic3\", \"Topic3\", \"Topic3\", \"Topic3\", \"Topic3\", \"Topic3\", \"Topic3\", \"Topic3\", \"Topic3\", \"Topic3\", \"Topic3\", \"Topic3\", \"Topic4\", \"Topic4\", \"Topic4\", \"Topic4\", \"Topic4\", \"Topic4\", \"Topic4\", \"Topic4\", \"Topic4\", \"Topic4\", \"Topic4\", \"Topic4\", \"Topic4\", \"Topic4\", \"Topic4\", \"Topic4\", \"Topic4\", \"Topic4\", \"Topic4\", \"Topic4\", \"Topic4\", \"Topic4\", \"Topic4\", \"Topic4\", \"Topic4\", \"Topic4\", \"Topic4\", \"Topic4\", \"Topic4\", \"Topic4\", \"Topic4\", \"Topic4\", \"Topic4\", \"Topic4\", \"Topic4\", \"Topic4\", \"Topic4\", \"Topic4\", \"Topic4\", \"Topic4\", \"Topic4\", \"Topic4\", \"Topic4\", \"Topic4\", \"Topic4\", \"Topic4\", \"Topic4\", \"Topic5\", \"Topic5\", \"Topic5\", \"Topic5\", \"Topic5\", \"Topic5\", \"Topic5\", \"Topic5\", \"Topic5\", \"Topic5\", \"Topic5\", \"Topic5\", \"Topic5\", \"Topic5\", \"Topic5\", \"Topic5\", \"Topic5\", \"Topic5\", \"Topic5\", \"Topic5\", \"Topic5\", \"Topic5\", \"Topic5\", \"Topic5\", \"Topic5\", \"Topic5\", \"Topic5\", \"Topic5\", \"Topic5\", \"Topic5\", \"Topic5\", \"Topic5\", \"Topic5\", \"Topic5\", \"Topic5\", \"Topic5\", \"Topic5\", \"Topic5\", \"Topic5\", \"Topic6\", \"Topic6\", \"Topic6\", \"Topic6\", \"Topic6\", \"Topic6\", \"Topic6\", \"Topic6\", \"Topic6\", \"Topic6\", \"Topic6\", \"Topic6\", \"Topic6\", \"Topic6\", \"Topic6\", \"Topic6\", \"Topic6\", \"Topic6\", \"Topic6\", \"Topic6\", \"Topic6\", \"Topic6\", \"Topic6\", \"Topic6\", \"Topic6\", \"Topic6\", \"Topic6\", \"Topic6\", \"Topic6\", \"Topic6\", \"Topic6\", \"Topic6\", \"Topic6\", \"Topic6\", \"Topic6\", \"Topic6\", \"Topic6\", \"Topic6\", \"Topic7\", \"Topic7\", \"Topic7\", \"Topic7\", \"Topic7\", \"Topic7\", \"Topic7\", \"Topic7\", \"Topic7\", \"Topic7\", \"Topic7\", \"Topic7\", \"Topic7\", \"Topic7\", \"Topic7\", \"Topic7\", \"Topic7\", \"Topic7\", \"Topic7\", \"Topic7\", \"Topic7\", \"Topic7\", \"Topic7\", \"Topic7\", \"Topic7\", \"Topic7\", \"Topic7\", \"Topic7\", \"Topic7\", \"Topic7\", \"Topic7\", \"Topic7\", \"Topic7\", \"Topic7\", \"Topic7\", \"Topic7\", \"Topic7\", \"Topic7\", \"Topic7\", \"Topic7\", \"Topic7\", \"Topic8\", \"Topic8\", \"Topic8\", \"Topic8\", \"Topic8\", \"Topic8\", \"Topic8\", \"Topic8\", \"Topic8\", \"Topic8\", \"Topic8\", \"Topic8\", \"Topic8\", \"Topic8\", \"Topic8\", \"Topic8\", \"Topic8\", \"Topic8\", \"Topic8\", \"Topic8\", \"Topic8\", \"Topic8\", \"Topic8\", \"Topic8\", \"Topic8\", \"Topic8\", \"Topic8\", \"Topic8\", \"Topic8\", \"Topic8\", \"Topic8\", \"Topic8\", \"Topic9\", \"Topic9\", \"Topic9\", \"Topic9\", \"Topic9\", \"Topic9\", \"Topic9\", \"Topic9\", \"Topic9\", \"Topic9\", \"Topic9\", \"Topic9\", \"Topic9\", \"Topic9\", \"Topic9\", \"Topic9\", \"Topic9\", \"Topic9\", \"Topic9\", \"Topic9\", \"Topic9\", \"Topic9\", \"Topic9\", \"Topic9\", \"Topic9\", \"Topic9\", \"Topic9\", \"Topic9\", \"Topic9\", \"Topic9\", \"Topic9\", \"Topic9\", \"Topic10\", \"Topic10\", \"Topic10\", \"Topic10\", \"Topic10\", \"Topic10\", \"Topic10\", \"Topic10\", \"Topic10\", \"Topic10\", \"Topic10\", \"Topic10\", \"Topic10\", \"Topic10\", \"Topic10\", \"Topic10\", \"Topic10\", \"Topic10\", \"Topic10\", \"Topic10\", \"Topic10\", \"Topic10\", \"Topic10\", \"Topic10\", \"Topic10\", \"Topic10\", \"Topic10\", \"Topic10\", \"Topic10\", \"Topic10\", \"Topic10\", \"Topic10\", \"Topic11\", \"Topic11\", \"Topic11\", \"Topic11\", \"Topic11\", \"Topic11\", \"Topic11\", \"Topic11\", \"Topic11\", \"Topic11\", \"Topic11\", \"Topic11\", \"Topic11\", \"Topic11\", \"Topic11\", \"Topic11\", \"Topic11\", \"Topic11\", \"Topic11\", \"Topic11\", \"Topic11\", \"Topic11\", \"Topic11\", \"Topic11\", \"Topic11\", \"Topic11\", \"Topic11\", \"Topic11\", \"Topic11\", \"Topic11\", \"Topic11\"], \"logprob\": [30.0, 29.0, 28.0, 27.0, 26.0, 25.0, 24.0, 23.0, 22.0, 21.0, 20.0, 19.0, 18.0, 17.0, 16.0, 15.0, 14.0, 13.0, 12.0, 11.0, 10.0, 9.0, 8.0, 7.0, 6.0, 5.0, 4.0, 3.0, 2.0, 1.0, -6.4593000411987305, -6.742800235748291, -6.632199764251709, -6.3649001121521, -6.370100021362305, -7.465700149536133, -5.71150016784668, -7.276800155639648, -5.966800212860107, -6.376299858093262, -7.182799816131592, -7.003900051116943, -7.214200019836426, -7.1020002365112305, -7.2204999923706055, -7.407899856567383, -7.442800045013428, -7.496500015258789, -7.481500148773193, -5.776400089263916, -7.363100051879883, -6.227200031280518, -7.177000045776367, -7.764999866485596, -7.404799938201904, -7.782800197601318, -6.873300075531006, -7.561100006103516, -6.543300151824951, -7.674799919128418, -5.202199935913086, -5.088399887084961, -5.493899822235107, -5.8856000900268555, -5.666399955749512, -6.252399921417236, -6.356599807739258, -5.565499782562256, -6.656400203704834, -6.6234002113342285, -6.461599826812744, -5.462299823760986, -6.875899791717529, -5.819300174713135, -5.320700168609619, -6.157899856567383, -6.2855000495910645, -6.189000129699707, -5.931399822235107, -5.678899765014648, -5.3557000160217285, -5.264100074768066, -5.664599895477295, -5.5690999031066895, -5.396999835968018, -5.701200008392334, -5.122600078582764, -5.295400142669678, -5.4116997718811035, -5.15910005569458, -5.645100116729736, -5.655700206756592, -5.691299915313721, -5.037499904632568, -5.25570011138916, -5.168799877166748, -5.209000110626221, -5.412499904632568, -5.201000213623047, -5.529399871826172, -5.545300006866455, -5.511199951171875, -5.390399932861328, -5.485300064086914, -5.589799880981445, -5.649199962615967, -6.5071001052856445, -6.751299858093262, -6.626299858093262, -7.009699821472168, -6.722499847412109, -6.738999843597412, -7.096799850463867, -7.281499862670898, -7.237100124359131, -7.083700180053711, -6.487800121307373, -6.849400043487549, -7.203000068664551, -7.352799892425537, -7.44290018081665, -7.085599899291992, -7.302700042724609, -6.7221999168396, -7.491399765014648, -7.100800037384033, -6.875800132751465, -7.495800018310547, -6.984099864959717, -6.847499847412109, -6.935299873352051, -7.514999866485596, -7.509900093078613, -7.459000110626221, -6.749499797821045, -7.501699924468994, -6.053400039672852, -6.716300010681152, -6.004300117492676, -6.210299968719482, -6.846799850463867, -6.962500095367432, -6.034999847412109, -6.361499786376953, -7.121500015258789, -5.454599857330322, -5.87529993057251, -6.3927001953125, -5.954800128936768, -6.667300224304199, -6.3850998878479, -6.636099815368652, -5.572299957275391, -5.561399936676025, -6.293399810791016, -5.847300052642822, -5.280200004577637, -5.465799808502197, -6.51639986038208, -4.876699924468994, -5.319799900054932, -6.124100208282471, -4.991799831390381, -5.881499767303467, -5.563600063323975, -6.105199813842773, -6.25029993057251, -5.270699977874756, -6.280600070953369, -5.868199825286865, -6.114200115203857, -5.934999942779541, -5.753499984741211, -5.547599792480469, -5.629300117492676, -5.882900238037109, -5.494699954986572, -5.880000114440918, -5.895599842071533, -5.693299770355225, -5.236499786376953, -5.5991997718811035, -5.850100040435791, -5.572999954223633, -5.739299774169922, -5.561299800872803, -5.543000221252441, -5.715799808502197, -5.738800048828125, -5.7484002113342285, -5.836599826812744, -5.782700061798096, -5.797900199890137, -5.1539998054504395, -5.093299865722656, -5.58650016784668, -5.66379976272583, -5.712299823760986, -5.615699768066406, -5.68179988861084, -5.651899814605713, -5.866399765014648, -5.8892998695373535, -5.903800010681152, -5.777699947357178, -5.98390007019043, -5.894800186157227, -5.797399997711182, -6.035299777984619, -6.0395002365112305, -6.061299800872803, -6.055799961090088, -5.9191999435424805, -5.960100173950195, -5.831699848175049, -6.002399921417236, -5.908400058746338, -6.115900039672852, -6.1722002029418945, -6.173600196838379, -6.193399906158447, -6.186399936676025, -5.838699817657471, -5.749000072479248, -5.18179988861084, -5.744699954986572, -5.920899868011475, -5.635200023651123, -5.746699810028076, -5.806600093841553, -5.738399982452393, -5.686299800872803, -5.848100185394287, -5.889100074768066, -5.8420000076293945, -5.687900066375732, -5.887700080871582, -5.872499942779541, -5.160999774932861, -4.882199764251709, -5.488800048828125, -5.423500061035156, -5.542699813842773, -5.584099769592285, -5.527900218963623, -5.724599838256836, -5.733500003814697, -5.776599884033203, -5.824900150299072, -5.875199794769287, -5.917799949645996, -5.921800136566162, -5.6620001792907715, -5.9222002029418945, -5.542900085449219, -5.938600063323975, -5.940999984741211, -5.927000045776367, -5.955100059509277, -5.956500053405762, -5.144599914550781, -5.829699993133545, -5.997200012207031, -5.8678998947143555, -5.995100021362305, -5.810200214385986, -6.021699905395508, -5.713600158691406, -5.705999851226807, -5.664400100708008, -5.0858001708984375, -5.296999931335449, -5.485599994659424, -5.842599868774414, -5.484099864959717, -5.510200023651123, -5.430600166320801, -5.5578999519348145, -5.87060022354126, -5.4959001541137695, -5.776000022888184, -5.700200080871582, -5.430600166320801, -5.618500232696533, -5.81879997253418, -5.295100212097168, -5.318600177764893, -5.411200046539307, -5.437600135803223, -5.5030999183654785, -5.5208001136779785, -5.502399921417236, -5.599999904632568, -5.376299858093262, -5.530700206756592, -5.635499954223633, -5.524199962615967, -5.6585001945495605, -5.653800010681152, -5.707600116729736, -5.720900058746338, -5.366300106048584, -5.728000164031982, -5.740300178527832, -5.748199939727783, -5.481800079345703, -5.767300128936768, -5.798900127410889, -5.803100109100342, -5.834499835968018, -5.577099800109863, -5.852099895477295, -5.881199836730957, -5.902200222015381, -5.914999961853027, -5.438700199127197, -5.8694000244140625, -5.716599941253662, -5.334000110626221, -5.506999969482422, -5.548299789428711, -5.60260009765625, -5.614999771118164, -5.601500034332275, -5.269700050354004, -5.297299861907959, -5.401500225067139, -5.420300006866455, -5.43310022354126, -5.1691999435424805, -5.55679988861084, -5.56850004196167, -5.597700119018555, -5.609399795532227, -5.493500232696533, -5.644700050354004, -5.436299800872803, -5.690499782562256, -5.371099948883057, -5.735499858856201, -5.806399822235107, -5.7621002197265625, -5.817999839782715, -5.850299835205078, -5.875, -5.88539981842041, -5.88640022277832, -5.888000011444092, -5.916200160980225, -5.626500129699707, -5.925099849700928, -5.956299781799316, -5.926400184631348, -5.422299861907959, -4.6020002365112305, -5.445899963378906, -5.28249979019165, -5.803599834442139, -5.366099834442139, -5.745999813079834, -5.519700050354004, -5.7692999839782715, -4.73859977722168, -5.411300182342529, -5.453400135040283, -5.445799827575684, -5.4456000328063965, -5.483399868011475, -5.497499942779541, -5.518400192260742, -5.367700099945068, -5.618599891662598, -5.651700019836426, -5.688300132751465, -5.687099933624268, -5.702499866485596, -5.820499897003174, -5.853600025177002, -5.79010009765625, -5.865099906921387, -5.501999855041504, -5.881199836730957, -5.890399932861328, -5.972700119018555, -6.004799842834473, -6.037399768829346, -5.9095001220703125, -5.903900146484375, -5.732800006866455, -6.060500144958496, -6.114299774169922, -6.101399898529053, -5.05679988861084, -5.0183000564575195, -4.556399822235107, -5.289000034332275, -5.330699920654297, -5.6006999015808105, -5.687699794769287, -5.662899971008301, -5.666299819946289, -5.530099868774414, -5.80019998550415, -5.439199924468994, -5.2530999183654785, -5.502600193023682, -5.543600082397461, -5.565299987792969, -5.5366997718811035, -5.126399993896484, -5.583600044250488, -5.612800121307373, -5.637700080871582, -5.645199775695801, -5.654399871826172, -5.650000095367432, -5.662499904632568, -5.6596999168396, -5.697400093078613, -5.699999809265137, -5.686800003051758, -5.7895002365112305, -5.794099807739258, -5.813700199127197, -5.827600002288818, -5.845699787139893, -5.735300064086914, -5.908299922943115, -5.672599792480469, -5.919600009918213, -5.934800148010254, -5.933499813079834, -5.964200019836426, -5.8196001052856445, -5.745699882507324, -4.361400127410889, -4.923399925231934, -5.109000205993652, -5.38100004196167, -5.452700138092041, -5.475200176239014, -5.514200210571289, -5.553299903869629, -5.586400032043457, -5.67579984664917, -5.6834001541137695, -5.6971001625061035, -5.7133002281188965, -5.714200019836426, -5.75029993057251, -5.775899887084961, -5.798999786376953, -5.8109002113342285, -5.837600231170654, -5.870100021362305, -5.874499797821045, -5.881800174713135, -5.903500080108643, -5.92110013961792, -5.9446001052856445, -5.9456000328063965, -5.975200176239014, -6.033100128173828, -6.039400100708008, -6.044300079345703, -5.14739990234375, -5.387400150299072, -5.105000019073486, -5.184000015258789, -5.207600116729736, -5.460899829864502, -5.625800132751465, -5.827700138092041, -5.86269998550415, -5.902900218963623, -5.923799991607666, -5.928199768066406, -5.927700042724609, -5.97130012512207, -5.972099781036377, -5.973400115966797, -5.990499973297119, -6.012499809265137, -6.042600154876709, -6.052299976348877, -6.132999897003174, -6.134500026702881, -6.160799980163574, -6.176400184631348, -6.186500072479248, -6.230100154876709, -6.234899997711182, -6.2947998046875, -6.301000118255615, -6.317299842834473, -6.320499897003174, -6.330699920654297, -4.969299793243408, -5.771399974822998, -4.66349983215332, -5.321800231933594, -5.466700077056885, -5.487100124359131, -5.676199913024902, -5.677299976348877, -5.758399963378906, -5.769000053405762, -5.776800155639648, -5.82859992980957, -5.901000022888184, -5.921899795532227, -5.925300121307373, -5.935999870300293, -5.94320011138916, -5.9492998123168945, -5.886499881744385, -5.9882001876831055, -6.010700225830078, -6.051799774169922, -6.095200061798096, -6.17579984664917, -6.193999767303467, -6.2027997970581055, -6.209499835968018, -6.2129998207092285, -6.251500129699707, -6.275300025939941, -6.277699947357178, -6.293499946594238, -6.102399826049805], \"loglift\": [30.0, 29.0, 28.0, 27.0, 26.0, 25.0, 24.0, 23.0, 22.0, 21.0, 20.0, 19.0, 18.0, 17.0, 16.0, 15.0, 14.0, 13.0, 12.0, 11.0, 10.0, 9.0, 8.0, 7.0, 6.0, 5.0, 4.0, 3.0, 2.0, 1.0, 0.6206, 0.6201, 0.62, 0.6199, 0.6195, 0.6195, 0.619, 0.619, 0.6186, 0.6186, 0.6186, 0.6186, 0.6185, 0.6185, 0.6185, 0.6179, 0.6177, 0.6176, 0.6176, 0.6175, 0.6174, 0.6173, 0.6172, 0.6172, 0.6172, 0.617, 0.6167, 0.6166, 0.6164, 0.6162, 0.6153, 0.6088, 0.6124, 0.613, 0.6096, 0.6143, 0.6122, 0.6041, 0.6145, 0.614, 0.6121, 0.6018, 0.6153, 0.6041, 0.5929, 0.6062, 0.6068, 0.6042, 0.5951, 0.5859, 0.5745, 0.563, 0.5749, 0.568, 0.5566, 0.5724, 0.5331, 0.5428, 0.5497, 0.5191, 0.5555, 0.5501, 0.5389, 0.4415, 0.4613, 0.4399, 0.4299, 0.4422, 0.3368, 0.4677, 0.4434, 0.4022, 0.2898, 0.3437, 0.3851, 0.4457, 1.1582, 1.1567, 1.1562, 1.1549, 1.1544, 1.1538, 1.1536, 1.1534, 1.1533, 1.1532, 1.1528, 1.1527, 1.1525, 1.1518, 1.1518, 1.1515, 1.1511, 1.151, 1.151, 1.1509, 1.1508, 1.1507, 1.1507, 1.1506, 1.1506, 1.1506, 1.1506, 1.1504, 1.1504, 1.1503, 1.1439, 1.15, 1.1428, 1.1443, 1.149, 1.1497, 1.1397, 1.1427, 1.1501, 1.1316, 1.1341, 1.1423, 1.1327, 1.1443, 1.1384, 1.1434, 1.1182, 1.1167, 1.135, 1.1177, 1.0945, 1.0963, 1.1361, 1.0613, 1.0846, 1.1195, 1.0589, 1.1039, 1.0848, 1.1006, 1.113, 1.0199, 1.1153, 1.0658, 1.0846, 1.0559, 1.0102, 0.9414, 0.9448, 0.9969, 0.8767, 0.9703, 0.9708, 0.827, 0.4562, 0.7186, 0.8949, 0.6464, 0.7236, 0.435, 0.3453, 0.5636, 0.3111, 0.2041, 0.7179, -0.2449, -0.1177, 2.9284, 2.9256, 2.9251, 2.9237, 2.9234, 2.9231, 2.9228, 2.9226, 2.9219, 2.9207, 2.9204, 2.9203, 2.9202, 2.9199, 2.9195, 2.9192, 2.919, 2.9189, 2.9187, 2.9186, 2.9185, 2.9183, 2.9183, 2.9177, 2.9173, 2.9172, 2.9172, 2.9169, 2.9168, 2.9167, 2.9164, 2.9097, 2.9153, 2.9152, 2.9122, 2.9127, 2.9125, 2.9102, 2.9074, 2.9125, 2.9091, 2.902, 2.8235, 2.8983, 2.8851, 3.6077, 3.6072, 3.6036, 3.6033, 3.6006, 3.5995, 3.5988, 3.5984, 3.5982, 3.5977, 3.5964, 3.5952, 3.594, 3.5939, 3.5938, 3.5938, 3.5937, 3.5934, 3.5934, 3.5934, 3.593, 3.593, 3.5921, 3.5919, 3.5918, 3.5916, 3.5913, 3.5911, 3.591, 3.5901, 3.5898, 3.5882, 3.5816, 3.5766, 3.5821, 3.5898, 3.5706, 3.5688, 3.557, 3.5469, 3.5874, 3.492, 3.5608, 3.5226, 3.3846, 3.4753, 3.5577, 4.1169, 4.1163, 4.1138, 4.1126, 4.1111, 4.1105, 4.1098, 4.1079, 4.1072, 4.1068, 4.1065, 4.1063, 4.1058, 4.1046, 4.104, 4.1035, 4.1035, 4.1032, 4.1027, 4.1024, 4.1022, 4.1017, 4.1004, 4.1002, 4.0989, 4.0985, 4.0981, 4.0969, 4.0956, 4.0953, 4.0933, 4.0953, 4.0815, 4.0382, 4.0511, 4.0137, 4.0264, 3.9534, 3.9407, 4.3298, 4.3289, 4.3254, 4.3248, 4.3243, 4.3215, 4.3196, 4.319, 4.3178, 4.3173, 4.3166, 4.3157, 4.3154, 4.3136, 4.3124, 4.3116, 4.308, 4.3073, 4.307, 4.3052, 4.3043, 4.3038, 4.3037, 4.3036, 4.302, 4.3012, 4.3009, 4.2997, 4.2995, 4.2979, 4.065, 4.2136, 4.1786, 4.2604, 4.0487, 4.1938, 3.7789, 4.0228, 4.4037, 4.3849, 4.3833, 4.3833, 4.3833, 4.3821, 4.3815, 4.3807, 4.3799, 4.3757, 4.3747, 4.3729, 4.3729, 4.3722, 4.3655, 4.3641, 4.3639, 4.3635, 4.363, 4.3625, 4.3616, 4.3568, 4.3547, 4.3526, 4.3523, 4.3519, 4.3518, 4.351, 4.3465, 4.3464, 4.3055, 4.2926, 4.1849, 4.2645, 4.2517, 4.2924, 4.2246, 4.1966, 3.9394, 3.6146, 4.1576, 4.4033, 4.401, 4.4007, 4.3987, 4.398, 4.3979, 4.3971, 4.3964, 4.3957, 4.3946, 4.3942, 4.3938, 4.3935, 4.3932, 4.393, 4.3916, 4.3914, 4.3913, 4.3866, 4.3866, 4.3854, 4.3846, 4.3836, 4.3824, 4.3798, 4.3792, 4.379, 4.3782, 4.378, 4.3762, 4.3619, 4.2027, 4.8131, 4.7931, 4.7905, 4.7771, 4.7731, 4.7717, 4.7692, 4.7662, 4.7645, 4.7584, 4.7577, 4.7567, 4.7555, 4.7551, 4.7528, 4.7506, 4.7488, 4.7479, 4.7457, 4.7428, 4.7425, 4.7417, 4.7398, 4.7383, 4.736, 4.736, 4.7331, 4.7275, 4.7269, 4.7263, 4.6745, 4.5335, 4.9999, 4.9956, 4.9938, 4.9771, 4.9644, 4.9453, 4.9416, 4.9371, 4.9348, 4.9346, 4.9343, 4.9296, 4.9288, 4.9286, 4.9271, 4.9238, 4.9209, 4.9193, 4.9086, 4.9086, 4.9042, 4.9026, 4.9017, 4.8955, 4.8949, 4.8857, 4.8846, 4.8823, 4.8818, 4.88, 4.5336, 4.6605, 5.0495, 5.0166, 5.0061, 5.0027, 4.9885, 4.9881, 4.9807, 4.9796, 4.9786, 4.9736, 4.9654, 4.9632, 4.9626, 4.9615, 4.9605, 4.9597, 4.9558, 4.9548, 4.9522, 4.9471, 4.9416, 4.9297, 4.9273, 4.9264, 4.9253, 4.925, 4.9191, 4.9153, 4.9146, 4.9122, 4.8992]}, \"token.table\": {\"Topic\": [10, 11, 5, 6, 8, 9, 4, 1, 3, 7, 8, 5, 11, 9, 11, 3, 1, 3, 9, 1, 6, 3, 8, 5, 9, 1, 2, 3, 5, 10, 6, 7, 3, 1, 3, 6, 6, 10, 6, 3, 1, 2, 3, 1, 2, 3, 1, 2, 3, 1, 2, 3, 1, 2, 3, 3, 1, 2, 3, 11, 1, 2, 3, 3, 3, 4, 3, 4, 10, 2, 1, 1, 2, 3, 4, 3, 5, 5, 6, 4, 6, 11, 1, 2, 3, 6, 10, 1, 2, 2, 1, 2, 5, 8, 6, 10, 5, 1, 2, 3, 5, 3, 1, 2, 3, 6, 9, 4, 2, 5, 6, 7, 8, 1, 2, 3, 4, 7, 1, 5, 11, 1, 2, 7, 10, 5, 7, 4, 7, 6, 10, 4, 3, 4, 1, 2, 3, 1, 2, 3, 1, 2, 3, 5, 4, 2, 8, 11, 6, 4, 3, 5, 4, 7, 8, 4, 1, 2, 3, 3, 4, 10, 4, 1, 5, 11, 10, 6, 8, 4, 3, 3, 4, 7, 8, 1, 7, 3, 3, 1, 2, 3, 9, 1, 2, 4, 2, 1, 2, 3, 4, 6, 9, 8, 8, 5, 11, 4, 11, 6, 10, 1, 2, 3, 9, 11, 9, 3, 11, 10, 10, 2, 5, 8, 2, 4, 4, 8, 4, 5, 3, 1, 2, 3, 1, 5, 1, 2, 3, 7, 8, 1, 2, 3, 1, 2, 3, 1, 1, 2, 3, 5, 7, 8, 11, 11, 4, 6, 6, 1, 2, 3, 8, 7, 3, 7, 8, 4, 6, 3, 9, 7, 11, 7, 1, 2, 3, 1, 2, 3, 1, 2, 3, 1, 2, 2, 1, 2, 3, 4, 4, 3, 5, 8, 9, 11, 2, 1, 2, 3, 1, 2, 1, 2, 3, 1, 2, 3, 4, 7, 2, 2, 3, 11, 1, 2, 3, 6, 1, 2, 3, 3, 6, 3, 1, 2, 3, 1, 2, 3, 7, 4, 5, 7, 9, 1, 2, 3, 11, 2, 7, 10, 11, 8, 2, 6, 5, 7, 8, 2, 6, 6, 7, 1, 3, 1, 3, 1, 2, 3, 8, 1, 7, 6, 8, 9, 3, 5, 10, 8, 6, 7, 5, 10, 10, 9, 4, 8, 3, 4, 1, 2, 3, 3, 5, 1, 2, 3, 5, 6, 6, 7, 6, 5, 6, 3, 4, 8, 4, 5, 5, 6, 8, 1, 2, 3, 1, 2, 3, 1, 2, 3, 7, 3, 2, 8, 1, 2, 3, 2, 8, 3, 6, 9, 8, 1, 2, 3, 5, 8, 10, 1, 2, 3, 3, 11, 6, 8, 9, 1, 2, 3, 7, 9, 3, 4, 10, 1, 2, 3, 4, 5, 9, 1, 2, 11, 5, 4, 5, 10, 2, 1, 2, 10, 2, 3, 1, 2, 1, 2, 3, 3, 5, 9, 5, 7, 7, 5, 2, 9, 4, 2, 10, 7, 8, 3, 6, 8, 1, 2, 3, 2, 4, 5, 8, 1, 2, 3, 11, 1, 2, 3, 7, 1, 2, 3, 11, 1, 2, 3, 4, 4, 10, 5, 1, 2, 3, 7, 7, 1, 2, 1, 2, 3, 10, 1, 2, 3, 1, 2, 3, 8, 1, 4, 8, 8, 6, 7, 8, 7, 5, 1, 2, 3, 4, 6, 7, 1, 2, 1, 2, 3, 1, 1, 4, 6, 7, 7, 9, 5, 7, 6, 1, 3, 6, 6, 1, 2, 3, 1, 2, 3, 11, 4, 6, 2, 8, 10, 9, 1, 2, 3, 4, 5, 7, 8, 5, 1, 2, 3, 1, 2, 3, 1, 2, 3, 8, 1, 2, 3, 4, 9, 8, 1, 2, 3, 2, 3, 1, 2, 3, 4, 4, 4, 5, 2, 1, 2, 3, 9, 1, 2, 3, 1, 2, 3, 7, 3, 6, 1, 5, 6, 7, 1, 2, 3, 5, 5, 11, 11, 1, 2, 3, 1, 5, 7, 6, 1, 2, 3, 1, 2, 3, 11, 7, 9, 9, 7, 8, 10, 1, 2, 3, 4, 7, 1, 2, 3, 5, 6, 3, 5, 2, 1, 2, 1, 2, 3, 11, 1, 2, 3, 5, 9, 5, 5, 4, 1, 2, 3, 3, 5, 3, 1, 2, 3, 1, 2, 3, 9, 1, 2, 3, 1, 2, 3, 1, 2, 3, 10, 1, 2, 3, 1, 2, 1, 2, 1, 2, 1, 2, 3, 11, 9, 1, 2, 3, 11, 1, 2, 10, 1, 2, 3, 9, 6, 4, 9, 5, 7, 5, 8, 4, 2, 3, 4, 10, 5, 1, 10, 10, 3, 6, 7, 3, 9, 8, 4, 4, 1, 2, 3, 1, 2, 3, 1, 2, 3, 7, 1, 2, 3, 11, 4, 5, 6, 5, 6, 1, 2, 3, 8, 7, 4, 5, 4, 10, 5, 9, 1, 1], \"Freq\": [0.7990592076647801, 0.8948560769304325, 0.17907140876099126, 0.7520999167961633, 0.0716285635043965, 0.9766524368629554, 0.9879375114832962, 0.9951351176828566, 0.9787527254888668, 0.961084891525793, 0.960965775146078, 0.9722491780871169, 0.8401845583097799, 0.8810018511719961, 0.8227333114273896, 0.9832846400619201, 0.98787015878164, 0.005518827702690726, 0.8716716087504707, 0.9946082664836496, 0.9462894261060206, 0.9796938802857785, 0.9115467809888151, 0.9751552529039703, 0.9645817693142621, 0.9499780554306259, 0.04523705025860123, 0.004639697462420639, 0.9433158879461491, 0.8889137740809504, 0.9291146721693456, 0.9688525343877932, 0.992257447137006, 0.9937383816770629, 0.0033459204770271474, 0.9234440495459401, 0.9846263007250574, 0.8406919486268074, 0.9648718009718833, 0.9788689982975536, 0.831455129191166, 0.16241878979025365, 0.004302484497755064, 0.02075651495995972, 0.9703670743781169, 0.00518912873998993, 0.7537360142556085, 0.24006334807306587, 0.005241557818189212, 0.9497340554414828, 0.042666920959933505, 0.006321025327397556, 0.9863376655967466, 0.006553738641838848, 0.003276869320919424, 0.9905208126723694, 0.009639406133775008, 0.9832194256450508, 0.004819703066887504, 0.9241088646939735, 0.02388979946705392, 0.9726561211586239, 0.003412828495293417, 0.9771132235609564, 0.9735956234300117, 0.952064470506813, 0.9651022904765642, 0.016639694663389038, 0.8063963461168551, 0.9958508528338931, 0.9966347458815797, 0.03920881888764771, 0.955714960386413, 0.004901102360955964, 0.9780865994205656, 0.9762810390491439, 0.9657294416071784, 0.9443633582520216, 0.9790486976948314, 0.22695219027978528, 0.7186819358859867, 0.8934014927221268, 0.16883461203868877, 0.8237964690853262, 0.005821883173747888, 0.9136092905483512, 0.7708495457304985, 0.008096222607068371, 0.9877391580623412, 0.9899577017405701, 0.00915247004763592, 0.9884667651446795, 0.8764210327459832, 0.08764210327459832, 0.3717505835895258, 0.5782786855837068, 0.9328118907549613, 0.355489200042079, 0.6409060096912482, 0.0017090826925099953, 0.9675845748045393, 0.9832091153645326, 0.9787369973677746, 0.01649556737136699, 0.00549852245712233, 0.9363471988627546, 0.9397759193655528, 0.9863542775715612, 0.9913151763749725, 0.26938740209429535, 0.5724482294503777, 0.06734685052357384, 0.06734685052357384, 0.9834251316273136, 0.011473293202318659, 0.0032780837720910454, 0.10766619880054999, 0.8972183233379165, 0.9907287118026276, 0.9864108753343126, 0.8449795282801413, 0.9920168786416143, 0.004350951222112343, 0.9728468724108261, 0.9015033102159493, 0.17703116530565305, 0.8261454380930475, 0.9791816258302956, 0.019199639722162657, 0.9253310507590191, 0.9039175102572486, 0.9507984057963954, 0.9850373178799492, 0.015887698675483054, 0.9686301944569462, 0.027374331582478914, 0.0021057178140368397, 0.0708154842322493, 0.9243284257683068, 0.003727130749065753, 0.09118182273913031, 0.9036352432993299, 0.00467599090969899, 0.9634180208931136, 0.9661508957514906, 0.9838557157140712, 0.9544389108205866, 0.8475783911956519, 0.947260027992066, 0.9681676757257908, 0.9780332977290834, 0.9606062855106349, 0.9673549675225898, 0.017913980880047958, 0.017913980880047958, 0.990428289857167, 0.8482335831250992, 0.1471521243653487, 0.004686373387431487, 0.9605903713601363, 0.0392077702595974, 0.9470680846715992, 0.9641647848189332, 0.9880126619439792, 0.9691639294419714, 0.8613554065654699, 0.8844489776942728, 0.9819062803011259, 0.9286310838736006, 0.9596930980052014, 0.9760260212913077, 0.9681587008910398, 0.020169972935229995, 0.8543232600660386, 0.06102309000471705, 0.9937993449444567, 0.9705166744513042, 0.9848548322834756, 0.9963597252641267, 0.010014266352259011, 0.991412368873642, 0.9834395768253594, 0.9621847853603255, 0.00641543753406848, 0.9879773802465459, 0.9519885165437353, 0.9929398282030776, 0.9862351399350515, 0.009682532930638654, 0.004149656970273709, 0.9701976537439214, 0.9535914045253906, 0.876753667801606, 0.9058431495643559, 0.9649630935794178, 0.9806541054706299, 0.8718821421016743, 0.9625595358341835, 0.9460222547771611, 0.9545667690354606, 0.8826655954384393, 0.19065075151065203, 0.8011387962415697, 0.006084598452467618, 0.9561623991685957, 0.9682907092047888, 0.938894168138028, 0.9925939662729555, 0.9525601474267242, 0.8371594100837728, 0.980466135314877, 0.9906717829304343, 0.009172886878985504, 0.9263960474125817, 0.983550229032632, 0.9750535836355668, 0.980654152317389, 0.9614686912057595, 0.8885429800917345, 0.0987269977879705, 0.9825741062418003, 0.9332792223652052, 0.060556285420643084, 0.004749512582011222, 0.9936806760178677, 0.9685389953456596, 0.03721435518101865, 0.9576494066582132, 0.00496191402413582, 0.9627329478393878, 0.9541847554378154, 0.6072879643590408, 0.3831133056405667, 0.00830276513772126, 0.029382276742444858, 0.9565563428373715, 0.013058789663308826, 0.9958812140694904, 0.9883255363102075, 0.005918116983893457, 0.005918116983893457, 0.09643786763776137, 0.7907905146296432, 0.09643786763776137, 0.9088140442770866, 0.921912101518132, 0.9623345151135827, 0.02673151430871063, 0.9401562495784498, 0.8324934744671704, 0.161088102149482, 0.004918720676320061, 0.8956419007713272, 0.9440899906545185, 0.9755036041465519, 0.9505646918247267, 0.922003053874331, 0.9746340829296343, 0.9364478953690972, 0.9923631933847199, 0.9815290998271489, 0.9761308150107958, 0.875760858192067, 0.9026661100291622, 0.9800210359477409, 0.016022142277074783, 0.0026703570461791308, 0.08862793969102147, 0.90843638183297, 0.0031652835603936235, 0.024588393515754738, 0.970123889621596, 0.004470617002864497, 0.008039792467868115, 0.9888944735477782, 0.9823936515457751, 0.7489759594961419, 0.24443566878953588, 0.005484133594637022, 0.0007834476563767176, 0.9887825451708459, 0.9957233137657282, 0.952936350897321, 0.9819002595581605, 0.9500844491707906, 0.9574968815126692, 0.9877868046449884, 0.16860549274438905, 0.8252795171172728, 0.0059159822015575105, 0.014744337783709673, 0.9804984626166933, 0.9862843966258069, 0.007278851635614811, 0.0036394258178074055, 0.1297298752043382, 0.8665290382238489, 0.0033264070565214928, 0.548552667256163, 0.43306789520223393, 0.9912887341088366, 0.9907898950860641, 0.9923698252053352, 0.8335816183823183, 0.8301114160493182, 0.1640037752073121, 0.0050462700063788335, 0.9601346144058912, 0.8532335080275641, 0.14013864303359702, 0.004960659930392814, 0.9808984831892673, 0.018863432369024373, 0.9980448805302563, 0.8217964927183934, 0.17250791355586528, 0.005201243624799959, 0.4994350309793234, 0.49303201776163974, 0.005488297043728828, 0.9387974808566135, 0.9905816882435576, 0.9866944109094961, 0.18822192698764498, 0.7528877079505799, 0.011545784750646245, 0.9813917038049309, 0.005772892375323122, 0.8382390159485822, 0.9962010098486163, 0.9385321370539278, 0.9751339266850793, 0.8426948631619305, 0.915396626133059, 0.9901986492863342, 0.9748568049141164, 0.27467839095073526, 0.595136513726593, 0.09155946365024509, 0.9833728414205882, 0.9813146205672103, 0.13035415843033812, 0.8690277228689209, 0.9875054573068106, 0.00748110194929402, 0.9960386338451998, 0.0036619067420779403, 0.9785357190743078, 0.017684380465198334, 0.0029473967441997224, 0.9166635891834845, 0.9962370464123498, 0.982224781261546, 0.19347921468476104, 0.7739168587390441, 0.8773599692926587, 0.9923041658856212, 0.930102093905999, 0.7697078442065458, 0.9305675774098311, 0.9547769180406311, 0.9814767112618746, 0.9590315402182407, 0.9437957883779267, 0.9615665787843584, 0.9362083127592559, 0.9678978299826021, 0.9318242075197943, 0.9668822112501889, 0.01757967656818525, 0.9805764630452539, 0.015179202214322817, 0.0030358404428645633, 0.8888997492441572, 0.09195514647353349, 0.9318601773672525, 0.06384686370216085, 0.0030403268429600406, 0.9824094239980334, 0.9033901117608707, 0.9047164631452325, 0.9493333076866687, 0.9554336247629555, 0.27580116167745705, 0.7170830203613884, 0.9668972318050166, 0.01933794463610033, 0.9182892069981704, 0.9465148050095379, 0.03640441557728992, 0.8902794149043962, 0.046856811310757696, 0.046856811310757696, 0.7859825671986568, 0.2061991302835982, 0.007277616362950525, 0.9915670772911355, 0.003966268309164542, 0.003966268309164542, 0.9935062589798093, 0.0034616942821596142, 0.0034616942821596142, 0.9805397034559202, 0.9847991253826558, 0.9893914295014797, 0.933356935484582, 0.06898313646768944, 0.9253255202045239, 0.004757457687426858, 0.9916910867447113, 0.9394627117428449, 0.9916597200912911, 0.11365713619081047, 0.8524285214310785, 0.9818814714832981, 0.9916976548747912, 0.004467106553490051, 0.0022335532767450254, 0.9167443388125928, 0.04365449232440918, 0.8499649923133918, 0.9885848787536482, 0.008290019947619692, 0.002072504986904923, 0.9867053245123071, 0.8532039014269296, 0.9590592062536851, 0.9863246641927965, 0.9771930825789984, 0.4407591937868031, 0.5493043683760904, 0.008223119287067222, 0.9530968344318367, 0.8984112020020724, 0.9768779002965223, 0.020141812377247884, 0.9647363251149204, 0.9262259936130359, 0.06940711580046006, 0.0035900232310582788, 0.9446292552763542, 0.03498626871393905, 0.9196542792348514, 0.025829767924273356, 0.9704612805834132, 0.8251232993331671, 0.953119034913455, 0.946298924318477, 0.027037112123385054, 0.865976606257165, 0.9906993870203284, 0.019476920457555405, 0.9738460228777703, 0.8358776612035287, 0.9967440596612207, 0.9740740506128891, 0.9890261245483154, 0.005525285612001762, 0.8310743776540557, 0.1632599444102634, 0.004432396680821631, 0.969461393845056, 0.9855608148904086, 0.9191336346538754, 0.1952883781392343, 0.7811535125569372, 0.949741861972295, 0.9863481356765832, 0.9974891173396465, 0.9347087332132202, 0.9898852489495701, 0.9827690787562665, 0.8971556540003816, 0.9792044341376274, 0.9762693664452057, 0.981323559390283, 0.8687471497729194, 0.07239559581440995, 0.9259709210542117, 0.06570420726952328, 0.006112019280885886, 0.9937465741360214, 0.9375860793374267, 0.0246733178773007, 0.0246733178773007, 0.9923092675559267, 0.0033637602290031415, 0.0033637602290031415, 0.886581148155968, 0.0971659948029381, 0.8979478140409451, 0.0033505515449289, 0.9728485686335115, 0.5527877663017445, 0.4415628636253372, 0.004448996107056295, 0.8075226472188902, 0.7145451606858955, 0.2782299740723841, 0.006323408501645093, 0.0009033440716635846, 0.9586252243993582, 0.7880175145105839, 0.9599692161547257, 0.9897194240584797, 0.0028939164446154376, 0.0028939164446154376, 0.9564063141699048, 0.9373992724488323, 0.020131674105875415, 0.9783993615455452, 0.14690459146537896, 0.8484489670347398, 0.0029980528870485502, 0.9137238362558548, 0.012354844354250112, 0.9801509854371755, 0.004118281451416704, 0.3964978447332171, 0.5962955868058147, 0.004646459117967388, 0.9544562761895103, 0.9901666884873536, 0.9478276124028486, 0.9718406958479232, 0.9297394346076604, 0.8319192862886269, 0.039615204108982234, 0.1188456123269467, 0.9286790535592873, 0.9562471081773852, 0.35080509354369865, 0.6409772079563877, 0.006496390621179605, 0.9895033749106626, 0.10227904783264843, 0.8864184145496198, 0.9885662351758602, 0.008866064889469599, 0.5647677076428415, 0.42619044604529244, 0.006536663282903258, 0.9914042098181262, 0.9955095878344733, 0.9154891346562634, 0.05548418997916748, 0.9608095086412013, 0.9730649497940409, 0.9434808745739892, 0.9062118666153424, 0.07249694932922739, 0.9709291674737227, 0.9922936230197705, 0.0033298443725495656, 0.9465703245756415, 0.9794256785304919, 0.7995247518509272, 0.19275275757889684, 0.006843293168481545, 0.061093961284332206, 0.9360467639635185, 0.0021819271887261503, 0.8672657088879691, 0.9623756898868321, 0.9239534722499497, 0.9804288162184304, 0.9673521423648522, 0.8358931955500118, 0.8867238619508682, 0.9921839596083871, 0.005532624310083943, 0.0018442081033613143, 0.7892005768568245, 0.08307374493229731, 0.10384218116537165, 0.02076843623307433, 0.9450966171879023, 0.2434111222365284, 0.7518699109083877, 0.0036060906998004205, 0.04018567028304006, 0.9544096692222015, 0.005023208785380008, 0.05399542873758292, 0.9386897611302878, 0.00415349451827561, 0.9588396229816257, 0.3497253483725197, 0.6441269128217029, 0.005927548277500333, 0.9737211795823091, 0.9395873200120262, 0.9235323019907797, 0.05970282898098017, 0.9335351440662354, 0.005427529907361834, 0.989414922002673, 0.00831441110926616, 0.9204357424730197, 0.07405804824495561, 0.004231888471140321, 0.9804667584663005, 0.9667770983009433, 0.9466848754961914, 0.022015927337120732, 0.9886963055591044, 0.9870329583958659, 0.008191144882953244, 0.002047786220738311, 0.9717759394608082, 0.9428927415897206, 0.05135270604724651, 0.0042793921706038756, 0.9114601482052108, 0.08286001347320099, 0.004407447525170265, 0.9415418241620129, 0.9892244792094681, 0.9475776091611791, 0.9944445727711269, 0.9695516319999704, 0.8312438954054369, 0.12788367621622104, 0.04997962296871182, 0.942948886676363, 0.0066639497291615755, 0.9528389281349652, 0.9712498266983021, 0.8205199620947881, 0.9247567605587893, 0.9611123995443114, 0.03565678379422403, 0.003241525799474912, 0.9863850248765322, 0.9647749787219237, 0.9646490457567996, 0.9520251211395606, 0.043757532000193215, 0.9529418080042078, 0.0048619480000214686, 0.2804160724625806, 0.7156887819567356, 0.0041853145143668745, 0.9070235711018734, 0.9497800538768219, 0.9545409753960127, 0.9015021305460255, 0.9453212672381979, 0.9699080129665492, 0.9655274992587357, 0.136142552387488, 0.8595667033092378, 0.0026694618115193722, 0.8506011570487255, 0.10975498800628716, 0.9859528072270851, 0.004286751335769935, 0.004286751335769935, 0.09662755602536019, 0.8696480042282417, 0.980024663985983, 0.02041718049970798, 0.9854170194281155, 0.038821782992222956, 0.9576039804748329, 0.915964857172889, 0.075156090844955, 0.006263007570412917, 0.871670119222719, 0.22793606727094373, 0.7650268004955812, 0.005239909592435488, 0.816279341569164, 0.17184828243561348, 0.940822274410555, 0.9486649975284599, 0.9738731835428869, 0.06599367607279664, 0.923911465019153, 0.00824920950909958, 0.9780318951396374, 0.017782398093447952, 0.9774442711748014, 0.9674133762200688, 0.027379623855284967, 0.004563270642547495, 0.16783978322401627, 0.8038642249150253, 0.026501018403792043, 0.9044956125127924, 0.9385124746885447, 0.056499078743791994, 0.003138837707988444, 0.09289989611915384, 0.9015215271281267, 0.0052337969644593715, 0.017120556640425496, 0.9758717285042533, 0.005706852213475166, 0.9106532340919763, 0.9760066923982703, 0.019891440741812573, 0.003978288148362515, 0.9869405602415506, 0.9930148595285879, 0.015666582160053438, 0.9791613850033399, 0.009437670576530643, 0.9909554105357175, 0.007612017734372304, 0.9819502877340273, 0.007612017734372304, 0.7395910810369279, 0.9825957024338963, 0.8988213742927877, 0.0964632768799682, 0.004507629760746177, 0.8892837759362807, 0.010280744039022783, 0.9869514277461872, 0.8368570930915076, 0.011195096164829823, 0.9795709144226095, 0.005597548082414912, 0.9734386100347023, 0.9360839462903885, 0.9815957537136231, 0.965226706479629, 0.13417458298006749, 0.8497723588737608, 0.9356220586785433, 0.042528275394479245, 0.9648856445097208, 0.988545969111877, 0.9755269827011791, 0.2091666304171637, 0.6274998912514911, 0.9833078034841922, 0.9958829480455088, 0.8898911780505687, 0.8576687433215917, 0.9787132061745831, 0.12441345569579722, 0.8086874620226819, 0.9927548037192834, 0.8805356143157513, 0.9272832066963912, 0.9624287729807568, 0.9802770345366364, 0.9831572636102759, 0.013782578461826296, 0.0027565156923652595, 0.9468167975680775, 0.04578734081503656, 0.004905786515896774, 0.9782923530942116, 0.015196774416997462, 0.0037991936042493656, 0.922315598770155, 0.8342533942862413, 0.1586449077659082, 0.005470514060893386, 0.8330006680123654, 0.9499544145462809, 0.026387622626285582, 0.026387622626285582, 0.8379670179523611, 0.13231058178195174, 0.5080481442671515, 0.4832653079614368, 0.007434850891714412, 0.9862290295834198, 0.9512436648312584, 0.9052710428864653, 0.06243248571630795, 0.9911430832355804, 0.9115208140592735, 0.9358110093399544, 0.9499528346494666, 0.9935747924378532, 0.9889416361360917], \"Term\": [\"ability\", \"abuse\", \"accept\", \"accept\", \"accept\", \"accuse\", \"ache\", \"acknowledge\", \"advance\", \"african\", \"alot\", \"alternative\", \"amaze\", \"americano\", \"amy\", \"annoying\", \"answer\", \"answer\", \"apathetic\", \"apology\", \"appal\", \"applebee\", \"approximately\", \"artichoke\", \"asap\", \"ask\", \"ask\", \"ask\", \"aspect\", \"assault\", \"atm\", \"attack\", \"attend\", \"attitude\", \"attitude\", \"audacity\", \"automatic\", \"avacado\", \"ayce\", \"b\", \"back\", \"back\", \"back\", \"bacon\", \"bacon\", \"bacon\", \"bad\", \"bad\", \"bad\", \"bar\", \"bar\", \"bar\", \"bartender\", \"bartender\", \"bartender\", \"basil\", \"bean\", \"bean\", \"bean\", \"beaverton\", \"beef\", \"beef\", \"beef\", \"behavior\", \"benedict\", \"bento\", \"beware\", \"beware\", \"bike\", \"blah\", \"blame\", \"bland\", \"bland\", \"bland\", \"blend\", \"boba\", \"body\", \"boot\", \"booze\", \"bouncer\", \"bouncer\", \"boycott\", \"bread\", \"bread\", \"bread\", \"breaker\", \"breath\", \"brisket\", \"brisket\", \"broccoli\", \"broth\", \"broth\", \"btw\", \"btw\", \"bug\", \"bug\", \"bum\", \"burger\", \"burger\", \"burger\", \"burritos\", \"bus\", \"business\", \"business\", \"business\", \"buss\", \"buyer\", \"cajun\", \"calamari\", \"california\", \"california\", \"california\", \"california\", \"call\", \"call\", \"call\", \"calzone\", \"calzone\", \"cancel\", \"candy\", \"carbonara\", \"card\", \"card\", \"carefully\", \"ceasar\", \"celebration\", \"celebration\", \"certain\", \"certain\", \"ceviche\", \"chaotic\", \"chase\", \"chat\", \"chat\", \"check\", \"check\", \"check\", \"cheese\", \"cheese\", \"cheese\", \"chicken\", \"chicken\", \"chicken\", \"china\", \"chorizo\", \"chunk\", \"chutney\", \"cigar\", \"cigarette\", \"cinnamon\", \"closed\", \"clothe\", \"co\", \"co\", \"co\", \"cockroach\", \"come\", \"come\", \"come\", \"comfortable\", \"comfortable\", \"communicate\", \"confuse\", \"contact\", \"content\", \"cop\", \"corned\", \"costumer\", \"cousin\", \"cozy\", \"crawfish\", \"create\", \"create\", \"creative\", \"creative\", \"credit\", \"creepy\", \"creme\", \"crepe\", \"crispy\", \"crispy\", \"croissant\", \"crouton\", \"crust\", \"crust\", \"current\", \"curry\", \"customer\", \"customer\", \"customer\", \"daily\", \"dairy\", \"dancer\", \"dave\", \"dense\", \"department\", \"destination\", \"diarrhea\", \"dinning\", \"direct\", \"discriminate\", \"dish\", \"dish\", \"dish\", \"dislike\", \"disorganized\", \"dispenser\", \"disrespectful\", \"dissapointe\", \"dissapointed\", \"dominos\", \"donut\", \"donut\", \"dosa\", \"dough\", \"doughnut\", \"doughy\", \"downright\", \"dozen\", \"dozen\", \"drench\", \"drink\", \"drink\", \"drink\", \"driver\", \"drunken\", \"dry\", \"dry\", \"dry\", \"dumb\", \"ear\", \"eat\", \"eat\", \"eat\", \"egg\", \"egg\", \"egg\", \"email\", \"employee\", \"employee\", \"employee\", \"enchilada\", \"enchilada\", \"enchilada\", \"enemy\", \"entitle\", \"error\", \"error\", \"estimate\", \"even\", \"even\", \"even\", \"excessive\", \"execute\", \"explanation\", \"extreme\", \"fabulous\", \"factor\", \"failure\", \"fajita\", \"falafel\", \"false\", \"fav\", \"fillet\", \"finally\", \"finally\", \"finally\", \"fish\", \"fish\", \"fish\", \"flavor\", \"flavor\", \"flavor\", \"flavorless\", \"flavorless\", \"flavour\", \"food\", \"food\", \"food\", \"food\", \"football\", \"fork\", \"former\", \"fourth\", \"frank\", \"franklin\", \"freezer\", \"fresh\", \"fresh\", \"fresh\", \"fried\", \"fried\", \"front\", \"front\", \"front\", \"fry\", \"fry\", \"fry\", \"fuck\", \"fuck\", \"garden\", \"garlic\", \"gas\", \"gem\", \"get\", \"get\", \"get\", \"ghetto\", \"give\", \"give\", \"give\", \"glove\", \"glove\", \"gluten\", \"go\", \"go\", \"go\", \"good\", \"good\", \"good\", \"goodbye\", \"goodness\", \"gooey\", \"grade\", \"grade\", \"green\", \"green\", \"green\", \"harass\", \"hash\", \"hat\", \"hawaiian\", \"heb\", \"highway\", \"hill\", \"hilton\", \"hipster\", \"hipster\", \"hipster\", \"honey\", \"hookah\", \"horribly\", \"horribly\", \"host\", \"host\", \"hostess\", \"hostess\", \"hour\", \"hour\", \"hour\", \"houston\", \"ignore\", \"impatient\", \"incident\", \"incident\", \"inconvenient\", \"incorrect\", \"inexpensive\", \"interact\", \"internet\", \"interrupt\", \"invest\", \"irish\", \"irritate\", \"japan\", \"jimmy\", \"join\", \"kfc\", \"lackluster\", \"lackluster\", \"later\", \"later\", \"later\", \"latte\", \"latte\", \"leave\", \"leave\", \"leave\", \"legit\", \"license\", \"liking\", \"limp\", \"liquor\", \"loss\", \"loss\", \"lousy\", \"lousy\", \"lower\", \"mainly\", \"mainly\", \"majority\", \"majority\", \"majority\", \"make\", \"make\", \"make\", \"management\", \"management\", \"management\", \"manager\", \"manager\", \"manager\", \"manger\", \"mango\", \"mash\", \"mcmenamin\", \"meat\", \"meat\", \"meat\", \"meatball\", \"merely\", \"message\", \"messy\", \"messy\", \"mike\", \"min\", \"min\", \"min\", \"mini\", \"mini\", \"minor\", \"minute\", \"minute\", \"minute\", \"miserable\", \"mobile\", \"mold\", \"mole\", \"moon\", \"much\", \"much\", \"much\", \"mug\", \"mule\", \"nachos\", \"nachos\", \"neat\", \"never\", \"never\", \"never\", \"news\", \"news\", \"nonexistent\", \"noodle\", \"noodle\", \"ny\", \"octopus\", \"offering\", \"offering\", \"officially\", \"often\", \"oil\", \"oil\", \"okra\", \"olive\", \"omelette\", \"online\", \"online\", \"order\", \"order\", \"order\", \"ordinary\", \"ounce\", \"outback\", \"overhear\", \"overhear\", \"overrate\", \"p\", \"pad\", \"paint\", \"panda\", \"panera\", \"pant\", \"parm\", \"pastrami\", \"pea\", \"pearl\", \"pearl\", \"people\", \"people\", \"people\", \"pepperoni\", \"period\", \"period\", \"period\", \"phone\", \"phone\", \"phone\", \"pico\", \"piece\", \"piece\", \"piece\", \"pissed\", \"pizza\", \"pizza\", \"pizza\", \"pizzeria\", \"place\", \"place\", \"place\", \"place\", \"plantain\", \"pleasantly\", \"please\", \"pm\", \"pm\", \"pm\", \"pocket\", \"pollo\", \"pork\", \"pork\", \"portion\", \"portion\", \"portion\", \"postmate\", \"potato\", \"potato\", \"potato\", \"price\", \"price\", \"price\", \"prob\", \"proceed\", \"produce\", \"profit\", \"prove\", \"public\", \"public\", \"public\", \"publix\", \"puff\", \"quality\", \"quality\", \"quality\", \"quesadilla\", \"racist\", \"racist\", \"ready\", \"ready\", \"really\", \"really\", \"really\", \"receipt\", \"refund\", \"regardless\", \"regardless\", \"remade\", \"renovation\", \"reorder\", \"replacement\", \"replacement\", \"represent\", \"reservation\", \"reservation\", \"resolve\", \"resort\", \"restaurant\", \"restaurant\", \"restaurant\", \"rice\", \"rice\", \"rice\", \"ricotta\", \"rid\", \"ride\", \"roast\", \"robin\", \"rocket\", \"route\", \"rude\", \"rude\", \"rude\", \"rudely\", \"rudely\", \"rudely\", \"rudely\", \"rudeness\", \"salad\", \"salad\", \"salad\", \"salt\", \"salt\", \"salt\", \"salty\", \"salty\", \"salty\", \"sam\", \"sandwich\", \"sandwich\", \"sandwich\", \"sangria\", \"sanitation\", \"satay\", \"sauce\", \"sauce\", \"sauce\", \"sausage\", \"sausage\", \"say\", \"say\", \"say\", \"scallion\", \"schedule\", \"scoop\", \"scoop\", \"seasoning\", \"seat\", \"seat\", \"seat\", \"security\", \"server\", \"server\", \"server\", \"service\", \"service\", \"service\", \"serving\", \"sesame\", \"sever\", \"shake\", \"shawarma\", \"shoulder\", \"shoulder\", \"shrimp\", \"shrimp\", \"shrimp\", \"sigh\", \"signature\", \"silly\", \"silver\", \"sit\", \"sit\", \"sit\", \"situation\", \"skewer\", \"skimp\", \"sleep\", \"slice\", \"slice\", \"slice\", \"small\", \"small\", \"small\", \"smoker\", \"snotty\", \"soap\", \"sometime\", \"sonic\", \"soooo\", \"soooooo\", \"soup\", \"soup\", \"soup\", \"spanish\", \"spanish\", \"speak\", \"speak\", \"speak\", \"speaker\", \"speaker\", \"spectacular\", \"spectacular\", \"spice\", \"spicy\", \"spicy\", \"staff\", \"staff\", \"staff\", \"stall\", \"steak\", \"steak\", \"steak\", \"steal\", \"steal\", \"stew\", \"stretch\", \"student\", \"sweet\", \"sweet\", \"sweet\", \"syrup\", \"syrup\", \"tab\", \"table\", \"table\", \"table\", \"taco\", \"taco\", \"taco\", \"tacos\", \"take\", \"take\", \"take\", \"taste\", \"taste\", \"taste\", \"tasteless\", \"tasteless\", \"tasteless\", \"tattoo\", \"tell\", \"tell\", \"tell\", \"teriyaki\", \"texture\", \"thai\", \"thai\", \"thick\", \"thick\", \"thin\", \"thin\", \"thin\", \"tight\", \"tikka\", \"time\", \"time\", \"time\", \"toasted\", \"tofu\", \"tofu\", \"tolerate\", \"tomato\", \"tomato\", \"tomato\", \"tony\", \"tow\", \"track\", \"transaction\", \"trap\", \"trap\", \"trendy\", \"trendy\", \"tvs\", \"typical\", \"uber\", \"udon\", \"udon\", \"unappetizing\", \"unprofessional\", \"unwilling\", \"upper\", \"utensil\", \"vanilla\", \"vanilla\", \"vegan\", \"velveeta\", \"vinaigrette\", \"volume\", \"vomit\", \"wait\", \"wait\", \"wait\", \"waitress\", \"waitress\", \"waitress\", \"walk\", \"walk\", \"walk\", \"walmart\", \"want\", \"want\", \"want\", \"washington\", \"wave\", \"wave\", \"wave\", \"wedding\", \"wedding\", \"well\", \"well\", \"well\", \"wifi\", \"wind\", \"winter\", \"winter\", \"wonton\", \"working\", \"worst\", \"wound\", \"yell\", \"yesterday\"]}, \"R\": 30, \"lambda.step\": 0.01, \"plot.opts\": {\"xlab\": \"PC1\", \"ylab\": \"PC2\"}, \"topic.order\": [8, 1, 3, 6, 4, 10, 9, 11, 2, 5, 7]};\n",
       "\n",
       "function LDAvis_load_lib(url, callback){\n",
       "  var s = document.createElement('script');\n",
       "  s.src = url;\n",
       "  s.async = true;\n",
       "  s.onreadystatechange = s.onload = callback;\n",
       "  s.onerror = function(){console.warn(\"failed to load library \" + url);};\n",
       "  document.getElementsByTagName(\"head\")[0].appendChild(s);\n",
       "}\n",
       "\n",
       "if(typeof(LDAvis) !== \"undefined\"){\n",
       "   // already loaded: just create the visualization\n",
       "   !function(LDAvis){\n",
       "       new LDAvis(\"#\" + \"ldavis_el68781400330941277925439648782\", ldavis_el68781400330941277925439648782_data);\n",
       "   }(LDAvis);\n",
       "}else if(typeof define === \"function\" && define.amd){\n",
       "   // require.js is available: use it to load d3/LDAvis\n",
       "   require.config({paths: {d3: \"https://cdnjs.cloudflare.com/ajax/libs/d3/3.5.5/d3.min\"}});\n",
       "   require([\"d3\"], function(d3){\n",
       "      window.d3 = d3;\n",
       "      LDAvis_load_lib(\"https://cdn.rawgit.com/bmabey/pyLDAvis/files/ldavis.v1.0.0.js\", function(){\n",
       "        new LDAvis(\"#\" + \"ldavis_el68781400330941277925439648782\", ldavis_el68781400330941277925439648782_data);\n",
       "      });\n",
       "    });\n",
       "}else{\n",
       "    // require.js not available: dynamically load d3 & LDAvis\n",
       "    LDAvis_load_lib(\"https://cdnjs.cloudflare.com/ajax/libs/d3/3.5.5/d3.min.js\", function(){\n",
       "         LDAvis_load_lib(\"https://cdn.rawgit.com/bmabey/pyLDAvis/files/ldavis.v1.0.0.js\", function(){\n",
       "                 new LDAvis(\"#\" + \"ldavis_el68781400330941277925439648782\", ldavis_el68781400330941277925439648782_data);\n",
       "            })\n",
       "         });\n",
       "}\n",
       "</script>"
      ],
      "text/plain": [
       "PreparedData(topic_coordinates=              x         y  topics  cluster       Freq\n",
       "topic                                                \n",
       "7     -0.426671 -0.057202       1        1  53.460742\n",
       "0     -0.392548 -0.036019       2        1  31.262877\n",
       "2     -0.065429  0.281625       3        1   5.312879\n",
       "5      0.091913 -0.053899       4        1   2.673131\n",
       "3      0.110819 -0.034057       5        1   1.587990\n",
       "9      0.109826 -0.024663       6        1   1.276146\n",
       "8      0.114156 -0.023942       7        1   1.199215\n",
       "10     0.115419 -0.021769       8        1   1.175236\n",
       "1      0.114934 -0.012717       9        1   0.795345\n",
       "4      0.113481 -0.008616      10        1   0.638198\n",
       "6      0.114100 -0.008741      11        1   0.618241, topic_info=         Term         Freq        Total Category  logprob  loglift\n",
       "71    chicken   855.000000   855.000000  Default  30.0000  30.0000\n",
       "160     taste   764.000000   764.000000  Default  29.0000  29.0000\n",
       "84      sauce   552.000000   552.000000  Default  28.0000  28.0000\n",
       "185    cheese   536.000000   536.000000  Default  27.0000  27.0000\n",
       "62       wait  1088.000000  1088.000000  Default  26.0000  26.0000\n",
       "...       ...          ...          ...      ...      ...      ...\n",
       "6955      fav     3.865198     4.567457  Topic11  -6.2515   4.9191\n",
       "7328  boycott     3.774456     4.477270  Topic11  -6.2753   4.9153\n",
       "2714    abuse     3.765557     4.469993  Topic11  -6.2777   4.9146\n",
       "2902   smoker     3.706239     4.410029  Topic11  -6.2935   4.9122\n",
       "7431    tight     4.486749     5.408394  Topic11  -6.1024   4.8992\n",
       "\n",
       "[530 rows x 6 columns], token_table=      Topic      Freq       Term\n",
       "term                            \n",
       "3280     10  0.799059    ability\n",
       "2714     11  0.894856      abuse\n",
       "2670      5  0.179071     accept\n",
       "2670      6  0.752100     accept\n",
       "2670      8  0.071629     accept\n",
       "...     ...       ...        ...\n",
       "8341     10  0.911521    working\n",
       "5820      5  0.935811      worst\n",
       "7083      9  0.949953      wound\n",
       "1594      1  0.993575       yell\n",
       "2296      1  0.988942  yesterday\n",
       "\n",
       "[781 rows x 3 columns], R=30, lambda_step=0.01, plot_opts={'xlab': 'PC1', 'ylab': 'PC2'}, topic_order=[8, 1, 3, 6, 4, 10, 9, 11, 2, 5, 7])"
      ]
     },
     "execution_count": 138,
     "metadata": {},
     "output_type": "execute_result"
    }
   ],
   "source": [
    "pyLDAvis.enable_notebook()\n",
    "p_lda = pyLDAvis.gensim.prepare(model, corpus, dictionary)\n",
    "pyLDAvis.save_html(p_lda, 'lda.html')\n",
    "p_lda"
   ]
  },
  {
   "cell_type": "markdown",
   "metadata": {},
   "source": [
    "# Prédictions"
   ]
  },
  {
   "cell_type": "markdown",
   "metadata": {},
   "source": [
    "## Prédiction avec des données de test"
   ]
  },
  {
   "cell_type": "code",
   "execution_count": 155,
   "metadata": {
    "scrolled": false
   },
   "outputs": [
    {
     "name": "stdout",
     "output_type": "stream",
     "text": [
      "[(0, 0.5573198), (2, 0.3080183), (7, 0.13131814)]\n",
      "0\n"
     ]
    },
    {
     "data": {
      "text/markdown": [
       "> Excellent food and ambiance. Really impressed with the newly added raw bar, oysters and ceviche were top notch, charcuterie did not disappoint. Wonderful cheeses and fresh meats.  My disappointment sadly comes from the service. Our waitress was friendly and apologetic for the delays but on a Saturday night, it appears as she was literally the only server for 6-8 tables. A little mind boggling that she did not have any help for presumably the entire dining room. It really took away from the overall experience. As good as the food was, waiting 15-20 minutes for our first round, another 20 for the apps, and shockingly another 25 for the charcuterie leaves a bit of a sour taste. It's unfortunate as the food and wine was on point and A+, I just can't imagine why they leave the entire dining area to one waitress for all the tables. A sign of poor management and lack of planning for sure, I just don't know if I can return as the prices you pay are a little steep for absentee service. Again the waitress was polite and informative, just disappointing how understaffed the place was. Moody's- here's an idea, maybe have... gasp... 2? Waitresses for entire floor and you wouldn't have people who love the food but get understandably annoyed waiting 30 min for apps and a refil on an empty wine glass. I'm literally waiting to rack up a bill but there's only so many hours in a day........"
      ],
      "text/plain": [
       "<IPython.core.display.Markdown object>"
      ]
     },
     "metadata": {},
     "output_type": "display_data"
    },
    {
     "name": "stdout",
     "output_type": "stream",
     "text": [
      "[(0, 0.4086074), (2, 0.25098082), (4, 0.054017425), (7, 0.28072342)]\n",
      "0\n"
     ]
    },
    {
     "data": {
      "text/markdown": [
       "> The ticket said that vip had to be on the dock to board at 10:15... after torrential downpours we boarded at 11:15... left at 12:15 and came back 45 min late @ 2:45. They don't tell you to bring 3$ if you want food (no card). Drinks are an average of 15$ after the ticket price. Mind you we paid extra for merchandise that was never given out to ANY vip person. We could have saved 50$ by purchasing general admission AND gotten the same deal. If you like getting ripped off... go on this boat ride. The girl next to us got the same deal for 10$.... my girl and I paid 50$ for the same ticket... we could have brought a crew for that price. RIP OFF"
      ],
      "text/plain": [
       "<IPython.core.display.Markdown object>"
      ]
     },
     "metadata": {},
     "output_type": "display_data"
    },
    {
     "name": "stdout",
     "output_type": "stream",
     "text": [
      "[(0, 0.5847206), (2, 0.35442048), (7, 0.051659085)]\n",
      "0\n"
     ]
    },
    {
     "data": {
      "text/markdown": [
       "> This was the worst experience at Conan's thus far and we've been coming here quite a bit over the years. No white crust just wheat and bad service. The young guy at the register definitely needed some customer service training. Sounded fed up for the day and didn't care much. Sorry but it wasn't our fault. We walked out and enjoyed a great dinner elsewhere. Hope his attitude improves. Happy New Year!"
      ],
      "text/plain": [
       "<IPython.core.display.Markdown object>"
      ]
     },
     "metadata": {},
     "output_type": "display_data"
    },
    {
     "name": "stdout",
     "output_type": "stream",
     "text": [
      "[(0, 0.61684483), (2, 0.13693342), (5, 0.023304373), (7, 0.21985795)]\n",
      "0\n"
     ]
    },
    {
     "data": {
      "text/markdown": [
       "> Haven't been here in over a year due to bad customer service,, so we thought we would try it again. Our waitress was very polite, but slow. We had to wait for a while for our drinks. My mom did not like her drink so she ordered wine and they never offered to take the first drink off the bill. When I asked for a little extra dressing for my salad, because it was a little dry, they charged me. I asked for the manager and he explained that all restaurants do this now, but we eat out all the time and have never been charged! The food was good and the portions were substantial, but the customer service wasn't there. I even had to use a teaspoon for my soup because they did not have any soup spoons and soup is always on the menu. They seem to have a big turnover in staff here. The manager said he would take the additional charge off for the dressing because he did not want to lose a customer. Got the 50 cents back, but that will not bring us back. There are too many other nicer restaurants  to go to with better service. We will not go back, the 50 cents did not keep these customers that used to go weekly."
      ],
      "text/plain": [
       "<IPython.core.display.Markdown object>"
      ]
     },
     "metadata": {},
     "output_type": "display_data"
    },
    {
     "name": "stdout",
     "output_type": "stream",
     "text": [
      "[(0, 0.7881167), (2, 0.08549879), (7, 0.11189165)]\n",
      "0\n"
     ]
    },
    {
     "data": {
      "text/markdown": [
       "> Had a takeout today...very disappointed. Sorry Red curry. Chicken had a weird smell..,that gives me question if the chicken are fresh here of frozen or expired. I will give you another chance next time...i will update my review again...soon hopefully."
      ],
      "text/plain": [
       "<IPython.core.display.Markdown object>"
      ]
     },
     "metadata": {},
     "output_type": "display_data"
    },
    {
     "name": "stdout",
     "output_type": "stream",
     "text": [
      "[(0, 0.62485296), (2, 0.28252447), (7, 0.0802891)]\n",
      "0\n"
     ]
    },
    {
     "data": {
      "text/markdown": [
       "> So, I'll start with the positive. Le Bistro Montage has a really cool space tucked away in the east side industrial district underneath the Morrison bridge. It does get packed for brunch but has seating at the counter. I was eager to try it out for a weekend brunch and love Cajun cuisine. However, it has to be the worst dining experience I've had in Portland, by far.   I opted for the counter to avoid a long wait. From our first interaction with our server, it felt like one of those bizarro world experiences where your service is so bad that you question whether you offended them personally.  We mounted a charm offensive, but to no avail. Since I was at the counter, I could see she forgot to enter in our order for some time.   After a punishingly long wait for our food, which arrived over 20 min later than the couple next to me who were seated at the same time, I was served some very sad overcooked eggs in what was supposed to be the Cajun scramble along with a joyless dry biscuit and stale potatoes. It might have been that they sat under a heat lamp too long, per aforementioned service.There was a heavy taste of vinegar over the whole dish rendering it pretty unpleasant. A great meal in a cool space might have carried me past the service. But it wasn't and it didn't, I'll never get that hour of my life back."
      ],
      "text/plain": [
       "<IPython.core.display.Markdown object>"
      ]
     },
     "metadata": {},
     "output_type": "display_data"
    },
    {
     "name": "stdout",
     "output_type": "stream",
     "text": [
      "[(0, 0.7595677), (2, 0.14745721), (7, 0.082567826)]\n",
      "0\n"
     ]
    },
    {
     "data": {
      "text/markdown": [
       "> What's going on with their King crab-legs?  I've ordered them twice during recent visits and both times they were inedibly salty.  Not sure their issue. The very first time I had them they were sweet and fresh tasting but lately; they've been extremely salty.  The gumbo was bland.   Tried the Pappardelle pasta as a side option and it was amazing  How are they able to master pasta and not seafood? ‍."
      ],
      "text/plain": [
       "<IPython.core.display.Markdown object>"
      ]
     },
     "metadata": {},
     "output_type": "display_data"
    },
    {
     "name": "stdout",
     "output_type": "stream",
     "text": [
      "[(0, 0.3571614), (2, 0.43611556), (7, 0.18737328)]\n",
      "2\n"
     ]
    },
    {
     "data": {
      "text/markdown": [
       "> The food itself is 5 stars but that doesn't help the 20 mins waiting for the waitress to take our orders and once she took our orders she became extremely rude and brushed us off as we were ordering"
      ],
      "text/plain": [
       "<IPython.core.display.Markdown object>"
      ]
     },
     "metadata": {},
     "output_type": "display_data"
    },
    {
     "name": "stdout",
     "output_type": "stream",
     "text": [
      "[(0, 0.8837272), (2, 0.061500985), (7, 0.042484704)]\n",
      "0\n"
     ]
    },
    {
     "data": {
      "text/markdown": [
       "> I came here because it had 4 stars so I figured I couldn't go wrong. People recommended the cold brew so I decided to try it. It was the worst coffee I've ever tried and I try coffee everywhere. I also bought a bread pudding as it looked and sounded good. Once again terribly disappointed."
      ],
      "text/plain": [
       "<IPython.core.display.Markdown object>"
      ]
     },
     "metadata": {},
     "output_type": "display_data"
    },
    {
     "name": "stdout",
     "output_type": "stream",
     "text": [
      "[(0, 0.54531187), (2, 0.28832132), (7, 0.14242122)]\n",
      "0\n"
     ]
    },
    {
     "data": {
      "text/markdown": [
       "> The placed smelled like a combination of dirty feet, and the bathroom after a night of beer, chili and jalapeno poppers"
      ],
      "text/plain": [
       "<IPython.core.display.Markdown object>"
      ]
     },
     "metadata": {},
     "output_type": "display_data"
    }
   ],
   "source": [
    "for index, row in test.iterrows():\n",
    "    data = tokenize([row['clean_text']])\n",
    "    new_vec = dictionary.doc2bow(data[0])\n",
    "    pred = model[new_vec]    \n",
    "    topic = max(pred, key=lambda item: item[1])[0]\n",
    "    print(pred)\n",
    "    print(topic)\n",
    "    #display(Markdown(f\"**Topic {topic} - {topics[topic]}**\"))\n",
    "    display(Markdown(f\"> {row['text']}\"))\n"
   ]
  },
  {
   "cell_type": "markdown",
   "metadata": {},
   "source": [
    "## Prédiction avec de nouvelles données en provenance de l'API Yelp"
   ]
  },
  {
   "cell_type": "markdown",
   "metadata": {},
   "source": [
    "## Chargement des données"
   ]
  },
  {
   "cell_type": "code",
   "execution_count": 55,
   "metadata": {},
   "outputs": [],
   "source": [
    "new_df = pd.read_csv(data_dir + 'london_sample.csv')"
   ]
  },
  {
   "cell_type": "markdown",
   "metadata": {},
   "source": [
    "## Prédictions"
   ]
  },
  {
   "cell_type": "code",
   "execution_count": 56,
   "metadata": {},
   "outputs": [
    {
     "data": {
      "text/markdown": [
       "**Topic 7 - 0.006*\"wait\" + 0.006*\"order\" + 0.006*\"service\" + 0.006*\"minute\" + 0.005*\"time\"**"
      ],
      "text/plain": [
       "<IPython.core.display.Markdown object>"
      ]
     },
     "metadata": {},
     "output_type": "display_data"
    },
    {
     "data": {
      "text/markdown": [
       "> Terrible service from the time I sat down. Had to flag down multiple people other than our actual waitress whom was nowhere to be found in order to order..."
      ],
      "text/plain": [
       "<IPython.core.display.Markdown object>"
      ]
     },
     "metadata": {},
     "output_type": "display_data"
    },
    {
     "data": {
      "text/markdown": [
       "**Topic 7 - 0.006*\"wait\" + 0.006*\"order\" + 0.006*\"service\" + 0.006*\"minute\" + 0.005*\"time\"**"
      ],
      "text/plain": [
       "<IPython.core.display.Markdown object>"
      ]
     },
     "metadata": {},
     "output_type": "display_data"
    },
    {
     "data": {
      "text/markdown": [
       "> If you like Burned Pizza and Bad Service that is the place for you. We ordered a pizza to go and the pizza was soggy, soft and very burned under the..."
      ],
      "text/plain": [
       "<IPython.core.display.Markdown object>"
      ]
     },
     "metadata": {},
     "output_type": "display_data"
    },
    {
     "data": {
      "text/markdown": [
       "**Topic 7 - 0.006*\"wait\" + 0.006*\"order\" + 0.006*\"service\" + 0.006*\"minute\" + 0.005*\"time\"**"
      ],
      "text/plain": [
       "<IPython.core.display.Markdown object>"
      ]
     },
     "metadata": {},
     "output_type": "display_data"
    },
    {
     "data": {
      "text/markdown": [
       "> We were frequent visitors of Vapiano's when we lived in Vienna, so we know what to expect, and I have to say their food and service were always..."
      ],
      "text/plain": [
       "<IPython.core.display.Markdown object>"
      ]
     },
     "metadata": {},
     "output_type": "display_data"
    },
    {
     "data": {
      "text/markdown": [
       "**Topic 7 - 0.006*\"wait\" + 0.006*\"order\" + 0.006*\"service\" + 0.006*\"minute\" + 0.005*\"time\"**"
      ],
      "text/plain": [
       "<IPython.core.display.Markdown object>"
      ]
     },
     "metadata": {},
     "output_type": "display_data"
    },
    {
     "data": {
      "text/markdown": [
       "> Walked in for dinner. First night in London and super excited for meat & ale pie. Sat at a table upstairs. 10 minutes went by and no one came around at all...."
      ],
      "text/plain": [
       "<IPython.core.display.Markdown object>"
      ]
     },
     "metadata": {},
     "output_type": "display_data"
    }
   ],
   "source": [
    "for index, row in new_df.iterrows():\n",
    "    data = tokenize(row['clean_text'])\n",
    "    new_vec = dictionary.doc2bow([str(data)])\n",
    "    pred = model[new_vec]    \n",
    "    topic = max(pred, key=lambda item: item[1])[0]\n",
    "    display(Markdown(f\"**Topic {topic} - {topics[topic]}**\"))\n",
    "    display(Markdown(f\"> {row['text']}\"))\n"
   ]
  },
  {
   "cell_type": "code",
   "execution_count": null,
   "metadata": {},
   "outputs": [],
   "source": []
  }
 ],
 "metadata": {
  "kernelspec": {
   "display_name": "Python 3",
   "language": "python",
   "name": "python3"
  },
  "language_info": {
   "codemirror_mode": {
    "name": "ipython",
    "version": 3
   },
   "file_extension": ".py",
   "mimetype": "text/x-python",
   "name": "python",
   "nbconvert_exporter": "python",
   "pygments_lexer": "ipython3",
   "version": "3.8.5"
  }
 },
 "nbformat": 4,
 "nbformat_minor": 4
}
